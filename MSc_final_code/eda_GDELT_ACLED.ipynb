{
 "cells": [
  {
   "cell_type": "markdown",
   "id": "eb743dae-9768-40cc-8336-ccf04af5682e",
   "metadata": {},
   "source": [
    "# Import statements"
   ]
  },
  {
   "cell_type": "code",
   "execution_count": 53,
   "id": "8279a438-a72d-4f0e-aa56-1c00f31c97a0",
   "metadata": {},
   "outputs": [],
   "source": [
    "import pandas as pd\n",
    "import matplotlib.pyplot as plt\n",
    "from datetime import datetime\n",
    "import plotly.express as px\n",
    "import numpy as np\n",
    "import seaborn as sns\n",
    "import pandas as pd\n",
    "import numpy as np\n",
    "from sklearn.impute import SimpleImputer\n",
    "from sklearn.linear_model import LogisticRegression\n",
    "from sklearn.ensemble import RandomForestClassifier\n",
    "from catboost import CatBoostClassifier\n",
    "from sklearn.svm import SVC\n",
    "from sklearn.model_selection import train_test_split\n",
    "from sklearn.metrics import accuracy_score, precision_score, recall_score, f1_score, confusion_matrix\n",
    "from sklearn.preprocessing import LabelEncoder\n",
    "import joblib\n",
    "from imblearn.over_sampling import SMOTE\n",
    "# from imblearn.over_sampling import SMOTE\n",
    "from imblearn.under_sampling import RandomUnderSampler\n",
    "from imblearn.pipeline import Pipeline\n",
    "from sklearn.linear_model import LassoCV\n",
    "import statsmodels.api as sm\n",
    "from scipy.stats import chi2_contingency\n"
   ]
  },
  {
   "cell_type": "markdown",
   "id": "6292a74c-b8ae-4dcf-9f44-14cad4d0d231",
   "metadata": {
    "jp-MarkdownHeadingCollapsed": true,
    "tags": []
   },
   "source": [
    "# BigQuery (Dont run multiple times)"
   ]
  },
  {
   "cell_type": "code",
   "execution_count": 21,
   "id": "cba348c4-ac97-4a42-8231-dec9843216f5",
   "metadata": {},
   "outputs": [],
   "source": [
    "from google.cloud import bigquery\n",
    "\n",
    "# # Construct a BigQuery client object.\n",
    "# client = bigquery.Client()\n",
    "\n",
    "# query = \"\"\"\n",
    "#     SELECT SQLDATE, EventCode, QuadClass, GoldsteinScale, AvgTone, NumArticles, ActionGeo_CountryCode, IsRootEvent\n",
    "#     FROM `gb-lab-data-share-1.gdelt2023.gkg`\n",
    "#     WHERE SQLDATE > 20150101\n",
    "#     AND ActionGeo_CountryCode IN ('SP', 'AG', 'LE', 'YM', 'FR')\n",
    "# \"\"\"\n",
    "# query_job = client.query(query)  # Make an API request.\n",
    "\n",
    "# # Retrieve the results\n",
    "# results = query_job.to_dataframe()\n",
    "\n",
    "# # print(\"The query data:\")\n",
    "# # for row in query_job:\n",
    "# #     # Row values can be accessed by field name or index.\n",
    "# #     print(\"name={}, count={}\".format(row[0], row[\"total_people\"]))\n",
    "# results.head()"
   ]
  },
  {
   "cell_type": "code",
   "execution_count": 43,
   "id": "c12f5abe-780f-45a3-8722-b71859be3b3c",
   "metadata": {},
   "outputs": [
    {
     "data": {
      "text/html": [
       "<div>\n",
       "<style scoped>\n",
       "    .dataframe tbody tr th:only-of-type {\n",
       "        vertical-align: middle;\n",
       "    }\n",
       "\n",
       "    .dataframe tbody tr th {\n",
       "        vertical-align: top;\n",
       "    }\n",
       "\n",
       "    .dataframe thead th {\n",
       "        text-align: right;\n",
       "    }\n",
       "</style>\n",
       "<table border=\"1\" class=\"dataframe\">\n",
       "  <thead>\n",
       "    <tr style=\"text-align: right;\">\n",
       "      <th></th>\n",
       "      <th>DATE</th>\n",
       "      <th>DocumentIdentifier</th>\n",
       "      <th>Counts</th>\n",
       "      <th>Themes</th>\n",
       "      <th>Locations</th>\n",
       "      <th>organizations</th>\n",
       "      <th>V2Tone</th>\n",
       "      <th>GCAM</th>\n",
       "      <th>Amounts</th>\n",
       "    </tr>\n",
       "  </thead>\n",
       "  <tbody>\n",
       "    <tr>\n",
       "      <th>0</th>\n",
       "      <td>20210419140000</td>\n",
       "      <td>https://zib.com.ua/ua/147422-poshirennya_u_soc...</td>\n",
       "      <td>None</td>\n",
       "      <td>SECURITY_SERVICES;TAX_FNCACT;TAX_FNCACT_POLICE...</td>\n",
       "      <td>1#France#FR#FR#46#2#FR</td>\n",
       "      <td>None</td>\n",
       "      <td>-8.7719298245614,1.75438596491228,10.526315789...</td>\n",
       "      <td>wc:108,nwc:135,c12.1:15,c12.10:20,c12.12:11,c1...</td>\n",
       "      <td>None</td>\n",
       "    </tr>\n",
       "    <tr>\n",
       "      <th>1</th>\n",
       "      <td>20210309144500</td>\n",
       "      <td>http://joursdefrance.lefigaro.fr/article/combi...</td>\n",
       "      <td>None</td>\n",
       "      <td>TAX_FNCACT;TAX_FNCACT_PRINCE;TAX_FNCACT_DUCHES...</td>\n",
       "      <td>1#France#FR#FR#46#2#FR</td>\n",
       "      <td>netflix</td>\n",
       "      <td>2.42290748898678,2.6431718061674,0.22026431718...</td>\n",
       "      <td>wc:396,c1.2:1,c12.1:17,c12.10:25,c12.12:5,c12....</td>\n",
       "      <td>17000000,viewers,269;1000000,of dollars on the...</td>\n",
       "    </tr>\n",
       "    <tr>\n",
       "      <th>2</th>\n",
       "      <td>20210408094500</td>\n",
       "      <td>https://www.nbcchicago.com/news/sports/french-...</td>\n",
       "      <td>None</td>\n",
       "      <td>None</td>\n",
       "      <td>1#France#FR#FR#46#2#FR;3#Chicago, Illinois, Un...</td>\n",
       "      <td>None</td>\n",
       "      <td>-0.810810810810811,2.97297297297297,3.78378378...</td>\n",
       "      <td>wc:328,c1.3:1,c12.1:25,c12.10:36,c12.12:8,c12....</td>\n",
       "      <td>5,Chicago app,420;2,weeks now separating the,1...</td>\n",
       "    </tr>\n",
       "    <tr>\n",
       "      <th>3</th>\n",
       "      <td>20210325121500</td>\n",
       "      <td>https://www.90min.com/posts/barcelona-keen-to-...</td>\n",
       "      <td>None</td>\n",
       "      <td>None</td>\n",
       "      <td>1#France#FR#FR#46#2#FR;4#Barcelona, Comunidad ...</td>\n",
       "      <td>None</td>\n",
       "      <td>-1.63487738419619,1.63487738419619,3.269754768...</td>\n",
       "      <td>wc:341,c1.2:3,c12.1:16,c12.10:27,c12.12:7,c12....</td>\n",
       "      <td>29,goals,787;88,appearances hasn,796;</td>\n",
       "    </tr>\n",
       "    <tr>\n",
       "      <th>4</th>\n",
       "      <td>20210327010000</td>\n",
       "      <td>https://www.em.com.br/app/noticia/gerais/2021/...</td>\n",
       "      <td>KILL#2000#Brazilian#1#Brazil#BR#BR#-10#-55#BR;</td>\n",
       "      <td>GEN_HOLIDAY;ENV_MINING;GENERAL_HEALTH;HEALTH_P...</td>\n",
       "      <td>1#France#FR#FR#46#2#FR;4#Sao Firmino, Amazonas...</td>\n",
       "      <td>commission of health</td>\n",
       "      <td>-3.58851674641148,3.22966507177034,6.818181818...</td>\n",
       "      <td>wc:741,nwc:1072,c12.1:56,c12.10:75,c12.12:36,c...</td>\n",
       "      <td>3,of June,686;</td>\n",
       "    </tr>\n",
       "  </tbody>\n",
       "</table>\n",
       "</div>"
      ],
      "text/plain": [
       "             DATE                                 DocumentIdentifier  \\\n",
       "0  20210419140000  https://zib.com.ua/ua/147422-poshirennya_u_soc...   \n",
       "1  20210309144500  http://joursdefrance.lefigaro.fr/article/combi...   \n",
       "2  20210408094500  https://www.nbcchicago.com/news/sports/french-...   \n",
       "3  20210325121500  https://www.90min.com/posts/barcelona-keen-to-...   \n",
       "4  20210327010000  https://www.em.com.br/app/noticia/gerais/2021/...   \n",
       "\n",
       "                                           Counts  \\\n",
       "0                                            None   \n",
       "1                                            None   \n",
       "2                                            None   \n",
       "3                                            None   \n",
       "4  KILL#2000#Brazilian#1#Brazil#BR#BR#-10#-55#BR;   \n",
       "\n",
       "                                              Themes  \\\n",
       "0  SECURITY_SERVICES;TAX_FNCACT;TAX_FNCACT_POLICE...   \n",
       "1  TAX_FNCACT;TAX_FNCACT_PRINCE;TAX_FNCACT_DUCHES...   \n",
       "2                                               None   \n",
       "3                                               None   \n",
       "4  GEN_HOLIDAY;ENV_MINING;GENERAL_HEALTH;HEALTH_P...   \n",
       "\n",
       "                                           Locations         organizations  \\\n",
       "0                             1#France#FR#FR#46#2#FR                  None   \n",
       "1                             1#France#FR#FR#46#2#FR               netflix   \n",
       "2  1#France#FR#FR#46#2#FR;3#Chicago, Illinois, Un...                  None   \n",
       "3  1#France#FR#FR#46#2#FR;4#Barcelona, Comunidad ...                  None   \n",
       "4  1#France#FR#FR#46#2#FR;4#Sao Firmino, Amazonas...  commission of health   \n",
       "\n",
       "                                              V2Tone  \\\n",
       "0  -8.7719298245614,1.75438596491228,10.526315789...   \n",
       "1  2.42290748898678,2.6431718061674,0.22026431718...   \n",
       "2  -0.810810810810811,2.97297297297297,3.78378378...   \n",
       "3  -1.63487738419619,1.63487738419619,3.269754768...   \n",
       "4  -3.58851674641148,3.22966507177034,6.818181818...   \n",
       "\n",
       "                                                GCAM  \\\n",
       "0  wc:108,nwc:135,c12.1:15,c12.10:20,c12.12:11,c1...   \n",
       "1  wc:396,c1.2:1,c12.1:17,c12.10:25,c12.12:5,c12....   \n",
       "2  wc:328,c1.3:1,c12.1:25,c12.10:36,c12.12:8,c12....   \n",
       "3  wc:341,c1.2:3,c12.1:16,c12.10:27,c12.12:7,c12....   \n",
       "4  wc:741,nwc:1072,c12.1:56,c12.10:75,c12.12:36,c...   \n",
       "\n",
       "                                             Amounts  \n",
       "0                                               None  \n",
       "1  17000000,viewers,269;1000000,of dollars on the...  \n",
       "2  5,Chicago app,420;2,weeks now separating the,1...  \n",
       "3              29,goals,787;88,appearances hasn,796;  \n",
       "4                                     3,of June,686;  "
      ]
     },
     "execution_count": 43,
     "metadata": {},
     "output_type": "execute_result"
    }
   ],
   "source": [
    "# Construct a BigQuery client object.\n",
    "client = bigquery.Client()\n",
    "\n",
    "query = \"\"\"\n",
    "    SELECT DATE, DocumentIdentifier, Counts, Themes, Locations, organizations, V2Tone, GCAM, Amounts\n",
    "    FROM `gb-lab-data-share-1.gdelt2023.gkg`\n",
    "    WHERE DATE > 20210301000000 AND DATE < 20210601000000\n",
    "    AND SPLIT(Locations, '#')[OFFSET(2)] IN ('HK', 'FR')\n",
    "    LIMIT 1000000\n",
    "\"\"\"\n",
    "\n",
    "query_job = client.query(query)  # Make an API request.\n",
    "\n",
    "# Retrieve the results\n",
    "results = query_job.to_dataframe()\n",
    "\n",
    "# print(\"The query data:\")\n",
    "# for row in query_job:\n",
    "#     # Row values can be accessed by field name or index.\n",
    "#     print(\"name={}, count={}\".format(row[0], row[\"total_people\"]))\n",
    "results.head()\n",
    "\n"
   ]
  },
  {
   "cell_type": "code",
   "execution_count": 44,
   "id": "aef716d7-af6c-4a47-ba4f-2a8440eb4281",
   "metadata": {},
   "outputs": [],
   "source": [
    "results.to_csv('events_FR_HK_GKG_2021_2021.csv', index=False)"
   ]
  },
  {
   "cell_type": "code",
   "execution_count": 35,
   "id": "cf6e607c-f09b-401a-b784-55669c9fbc36",
   "metadata": {},
   "outputs": [
    {
     "data": {
      "text/html": [
       "<div>\n",
       "<style scoped>\n",
       "    .dataframe tbody tr th:only-of-type {\n",
       "        vertical-align: middle;\n",
       "    }\n",
       "\n",
       "    .dataframe tbody tr th {\n",
       "        vertical-align: top;\n",
       "    }\n",
       "\n",
       "    .dataframe thead th {\n",
       "        text-align: right;\n",
       "    }\n",
       "</style>\n",
       "<table border=\"1\" class=\"dataframe\">\n",
       "  <thead>\n",
       "    <tr style=\"text-align: right;\">\n",
       "      <th></th>\n",
       "      <th>SQLDATE</th>\n",
       "      <th>EventCode</th>\n",
       "      <th>QuadClass</th>\n",
       "      <th>GoldsteinScale</th>\n",
       "      <th>AvgTone</th>\n",
       "      <th>NumArticles</th>\n",
       "      <th>ActionGeo_CountryCode</th>\n",
       "      <th>IsRootEvent</th>\n",
       "      <th>NumMentions</th>\n",
       "    </tr>\n",
       "  </thead>\n",
       "  <tbody>\n",
       "    <tr>\n",
       "      <th>0</th>\n",
       "      <td>20230411</td>\n",
       "      <td>044</td>\n",
       "      <td>1</td>\n",
       "      <td>2.5</td>\n",
       "      <td>3.738318</td>\n",
       "      <td>4</td>\n",
       "      <td>HK</td>\n",
       "      <td>1</td>\n",
       "      <td>4</td>\n",
       "    </tr>\n",
       "    <tr>\n",
       "      <th>1</th>\n",
       "      <td>20230411</td>\n",
       "      <td>031</td>\n",
       "      <td>1</td>\n",
       "      <td>5.2</td>\n",
       "      <td>2.232046</td>\n",
       "      <td>16</td>\n",
       "      <td>HK</td>\n",
       "      <td>1</td>\n",
       "      <td>16</td>\n",
       "    </tr>\n",
       "    <tr>\n",
       "      <th>2</th>\n",
       "      <td>20230411</td>\n",
       "      <td>1711</td>\n",
       "      <td>4</td>\n",
       "      <td>-9.2</td>\n",
       "      <td>-11.904762</td>\n",
       "      <td>10</td>\n",
       "      <td>HK</td>\n",
       "      <td>1</td>\n",
       "      <td>10</td>\n",
       "    </tr>\n",
       "    <tr>\n",
       "      <th>3</th>\n",
       "      <td>20230411</td>\n",
       "      <td>044</td>\n",
       "      <td>1</td>\n",
       "      <td>2.5</td>\n",
       "      <td>2.839117</td>\n",
       "      <td>10</td>\n",
       "      <td>HK</td>\n",
       "      <td>1</td>\n",
       "      <td>10</td>\n",
       "    </tr>\n",
       "    <tr>\n",
       "      <th>4</th>\n",
       "      <td>20230411</td>\n",
       "      <td>072</td>\n",
       "      <td>2</td>\n",
       "      <td>8.3</td>\n",
       "      <td>-1.706037</td>\n",
       "      <td>8</td>\n",
       "      <td>HK</td>\n",
       "      <td>1</td>\n",
       "      <td>8</td>\n",
       "    </tr>\n",
       "  </tbody>\n",
       "</table>\n",
       "</div>"
      ],
      "text/plain": [
       "    SQLDATE EventCode  QuadClass  GoldsteinScale    AvgTone  NumArticles  \\\n",
       "0  20230411       044          1             2.5   3.738318            4   \n",
       "1  20230411       031          1             5.2   2.232046           16   \n",
       "2  20230411      1711          4            -9.2 -11.904762           10   \n",
       "3  20230411       044          1             2.5   2.839117           10   \n",
       "4  20230411       072          2             8.3  -1.706037            8   \n",
       "\n",
       "  ActionGeo_CountryCode  IsRootEvent  NumMentions  \n",
       "0                    HK            1            4  \n",
       "1                    HK            1           16  \n",
       "2                    HK            1           10  \n",
       "3                    HK            1           10  \n",
       "4                    HK            1            8  "
      ]
     },
     "execution_count": 35,
     "metadata": {},
     "output_type": "execute_result"
    }
   ],
   "source": [
    "from google.cloud import bigquery\n",
    "\n",
    "# Construct a BigQuery client object.\n",
    "client = bigquery.Client()\n",
    "\n",
    "query = \"\"\"\n",
    "    SELECT SQLDATE, CAST(EventCode AS STRING) AS EventCode, QuadClass, GoldsteinScale, AvgTone, NumArticles, ActionGeo_CountryCode, IsRootEvent, NumMentions\n",
    "    FROM `gb-lab-data-share-1.gdelt2023.events`\n",
    "    WHERE SQLDATE > 20150101\n",
    "    AND ActionGeo_CountryCode IN ('HK')\n",
    "    AND IsRootEvent = 1\n",
    "\"\"\"\n",
    "query_job = client.query(query)  # Make an API request.\n",
    "\n",
    "# Retrieve the results\n",
    "results = query_job.to_dataframe()\n",
    "\n",
    "results.head()\n"
   ]
  },
  {
   "cell_type": "code",
   "execution_count": 36,
   "id": "c1e6d6bd-08ee-4d5a-aace-cffeef296efa",
   "metadata": {},
   "outputs": [],
   "source": [
    "results.to_csv('events_HK_string.csv', index=False)"
   ]
  },
  {
   "cell_type": "markdown",
   "id": "dd5960d6-3cdb-4ea5-9ee3-6d883d8a14a6",
   "metadata": {
    "tags": []
   },
   "source": [
    "# Import CSV (Can run multiple times instead of BigQuery tab)"
   ]
  },
  {
   "cell_type": "markdown",
   "id": "a0ed3d99-a2e0-44fe-9363-cff1d33bf2db",
   "metadata": {
    "tags": []
   },
   "source": [
    "## Events df"
   ]
  },
  {
   "cell_type": "code",
   "execution_count": 45,
   "id": "139366f0-4d8e-4e21-84b9-210f6511aba5",
   "metadata": {},
   "outputs": [],
   "source": [
    "df_gkg = pd.read_csv('events_FR_HK_GKG_2021_2021.csv', encoding='utf8')"
   ]
  },
  {
   "cell_type": "code",
   "execution_count": 46,
   "id": "7ed69733-4776-4b2f-8176-7b5aa35fc816",
   "metadata": {},
   "outputs": [
    {
     "data": {
      "text/html": [
       "<div>\n",
       "<style scoped>\n",
       "    .dataframe tbody tr th:only-of-type {\n",
       "        vertical-align: middle;\n",
       "    }\n",
       "\n",
       "    .dataframe tbody tr th {\n",
       "        vertical-align: top;\n",
       "    }\n",
       "\n",
       "    .dataframe thead th {\n",
       "        text-align: right;\n",
       "    }\n",
       "</style>\n",
       "<table border=\"1\" class=\"dataframe\">\n",
       "  <thead>\n",
       "    <tr style=\"text-align: right;\">\n",
       "      <th></th>\n",
       "      <th>DATE</th>\n",
       "      <th>DocumentIdentifier</th>\n",
       "      <th>Counts</th>\n",
       "      <th>Themes</th>\n",
       "      <th>Locations</th>\n",
       "      <th>organizations</th>\n",
       "      <th>V2Tone</th>\n",
       "      <th>GCAM</th>\n",
       "      <th>Amounts</th>\n",
       "    </tr>\n",
       "  </thead>\n",
       "  <tbody>\n",
       "    <tr>\n",
       "      <th>0</th>\n",
       "      <td>20210419140000</td>\n",
       "      <td>https://zib.com.ua/ua/147422-poshirennya_u_soc...</td>\n",
       "      <td>NaN</td>\n",
       "      <td>SECURITY_SERVICES;TAX_FNCACT;TAX_FNCACT_POLICE...</td>\n",
       "      <td>1#France#FR#FR#46#2#FR</td>\n",
       "      <td>NaN</td>\n",
       "      <td>-8.7719298245614,1.75438596491228,10.526315789...</td>\n",
       "      <td>wc:108,nwc:135,c12.1:15,c12.10:20,c12.12:11,c1...</td>\n",
       "      <td>NaN</td>\n",
       "    </tr>\n",
       "    <tr>\n",
       "      <th>1</th>\n",
       "      <td>20210309144500</td>\n",
       "      <td>http://joursdefrance.lefigaro.fr/article/combi...</td>\n",
       "      <td>NaN</td>\n",
       "      <td>TAX_FNCACT;TAX_FNCACT_PRINCE;TAX_FNCACT_DUCHES...</td>\n",
       "      <td>1#France#FR#FR#46#2#FR</td>\n",
       "      <td>netflix</td>\n",
       "      <td>2.42290748898678,2.6431718061674,0.22026431718...</td>\n",
       "      <td>wc:396,c1.2:1,c12.1:17,c12.10:25,c12.12:5,c12....</td>\n",
       "      <td>17000000,viewers,269;1000000,of dollars on the...</td>\n",
       "    </tr>\n",
       "    <tr>\n",
       "      <th>2</th>\n",
       "      <td>20210408094500</td>\n",
       "      <td>https://www.nbcchicago.com/news/sports/french-...</td>\n",
       "      <td>NaN</td>\n",
       "      <td>NaN</td>\n",
       "      <td>1#France#FR#FR#46#2#FR;3#Chicago, Illinois, Un...</td>\n",
       "      <td>NaN</td>\n",
       "      <td>-0.810810810810811,2.97297297297297,3.78378378...</td>\n",
       "      <td>wc:328,c1.3:1,c12.1:25,c12.10:36,c12.12:8,c12....</td>\n",
       "      <td>5,Chicago app,420;2,weeks now separating the,1...</td>\n",
       "    </tr>\n",
       "    <tr>\n",
       "      <th>3</th>\n",
       "      <td>20210325121500</td>\n",
       "      <td>https://www.90min.com/posts/barcelona-keen-to-...</td>\n",
       "      <td>NaN</td>\n",
       "      <td>NaN</td>\n",
       "      <td>1#France#FR#FR#46#2#FR;4#Barcelona, Comunidad ...</td>\n",
       "      <td>NaN</td>\n",
       "      <td>-1.63487738419619,1.63487738419619,3.269754768...</td>\n",
       "      <td>wc:341,c1.2:3,c12.1:16,c12.10:27,c12.12:7,c12....</td>\n",
       "      <td>29,goals,787;88,appearances hasn,796;</td>\n",
       "    </tr>\n",
       "    <tr>\n",
       "      <th>4</th>\n",
       "      <td>20210327010000</td>\n",
       "      <td>https://www.em.com.br/app/noticia/gerais/2021/...</td>\n",
       "      <td>KILL#2000#Brazilian#1#Brazil#BR#BR#-10#-55#BR;</td>\n",
       "      <td>GEN_HOLIDAY;ENV_MINING;GENERAL_HEALTH;HEALTH_P...</td>\n",
       "      <td>1#France#FR#FR#46#2#FR;4#Sao Firmino, Amazonas...</td>\n",
       "      <td>commission of health</td>\n",
       "      <td>-3.58851674641148,3.22966507177034,6.818181818...</td>\n",
       "      <td>wc:741,nwc:1072,c12.1:56,c12.10:75,c12.12:36,c...</td>\n",
       "      <td>3,of June,686;</td>\n",
       "    </tr>\n",
       "  </tbody>\n",
       "</table>\n",
       "</div>"
      ],
      "text/plain": [
       "             DATE                                 DocumentIdentifier  \\\n",
       "0  20210419140000  https://zib.com.ua/ua/147422-poshirennya_u_soc...   \n",
       "1  20210309144500  http://joursdefrance.lefigaro.fr/article/combi...   \n",
       "2  20210408094500  https://www.nbcchicago.com/news/sports/french-...   \n",
       "3  20210325121500  https://www.90min.com/posts/barcelona-keen-to-...   \n",
       "4  20210327010000  https://www.em.com.br/app/noticia/gerais/2021/...   \n",
       "\n",
       "                                           Counts  \\\n",
       "0                                             NaN   \n",
       "1                                             NaN   \n",
       "2                                             NaN   \n",
       "3                                             NaN   \n",
       "4  KILL#2000#Brazilian#1#Brazil#BR#BR#-10#-55#BR;   \n",
       "\n",
       "                                              Themes  \\\n",
       "0  SECURITY_SERVICES;TAX_FNCACT;TAX_FNCACT_POLICE...   \n",
       "1  TAX_FNCACT;TAX_FNCACT_PRINCE;TAX_FNCACT_DUCHES...   \n",
       "2                                                NaN   \n",
       "3                                                NaN   \n",
       "4  GEN_HOLIDAY;ENV_MINING;GENERAL_HEALTH;HEALTH_P...   \n",
       "\n",
       "                                           Locations         organizations  \\\n",
       "0                             1#France#FR#FR#46#2#FR                   NaN   \n",
       "1                             1#France#FR#FR#46#2#FR               netflix   \n",
       "2  1#France#FR#FR#46#2#FR;3#Chicago, Illinois, Un...                   NaN   \n",
       "3  1#France#FR#FR#46#2#FR;4#Barcelona, Comunidad ...                   NaN   \n",
       "4  1#France#FR#FR#46#2#FR;4#Sao Firmino, Amazonas...  commission of health   \n",
       "\n",
       "                                              V2Tone  \\\n",
       "0  -8.7719298245614,1.75438596491228,10.526315789...   \n",
       "1  2.42290748898678,2.6431718061674,0.22026431718...   \n",
       "2  -0.810810810810811,2.97297297297297,3.78378378...   \n",
       "3  -1.63487738419619,1.63487738419619,3.269754768...   \n",
       "4  -3.58851674641148,3.22966507177034,6.818181818...   \n",
       "\n",
       "                                                GCAM  \\\n",
       "0  wc:108,nwc:135,c12.1:15,c12.10:20,c12.12:11,c1...   \n",
       "1  wc:396,c1.2:1,c12.1:17,c12.10:25,c12.12:5,c12....   \n",
       "2  wc:328,c1.3:1,c12.1:25,c12.10:36,c12.12:8,c12....   \n",
       "3  wc:341,c1.2:3,c12.1:16,c12.10:27,c12.12:7,c12....   \n",
       "4  wc:741,nwc:1072,c12.1:56,c12.10:75,c12.12:36,c...   \n",
       "\n",
       "                                             Amounts  \n",
       "0                                                NaN  \n",
       "1  17000000,viewers,269;1000000,of dollars on the...  \n",
       "2  5,Chicago app,420;2,weeks now separating the,1...  \n",
       "3              29,goals,787;88,appearances hasn,796;  \n",
       "4                                     3,of June,686;  "
      ]
     },
     "execution_count": 46,
     "metadata": {},
     "output_type": "execute_result"
    }
   ],
   "source": [
    "df_gkg.head()"
   ]
  },
  {
   "cell_type": "code",
   "execution_count": 94,
   "id": "99c365e8-e98a-4717-b52c-96d019932505",
   "metadata": {},
   "outputs": [],
   "source": [
    "# Convert the 'date' column to datetime format\n",
    "# df['DATE'] = pd.to_datetime(df['DATE'])\n",
    "df_gkg_process = df_gkg.copy()\n",
    "# Convert the 'date' column to string and then to datetime format\n",
    "df_gkg_process['DATE'] = pd.to_datetime(df_gkg_process['DATE'].astype(str), format='%Y%m%d%H%M%S')\n",
    "\n",
    "# Filter the dataframe based on the desired date range\n",
    "filtered_df = df_gkg_process.query(\"'2021-04-25' <= DATE <= '2021-05-15'\")\n",
    "filtered_df_2 = filtered_df[filtered_df['Counts'].str.split(\"#\").str[0] == \"PROTEST\"]\n",
    "filtered_df_3 = filtered_df_2[filtered_df_2['Counts'].str.split(\"#\").str[5] == \"HK\"]\n",
    "\n"
   ]
  },
  {
   "cell_type": "code",
   "execution_count": 95,
   "id": "10cfe36f-f4f5-418b-be57-721897843bcf",
   "metadata": {},
   "outputs": [],
   "source": [
    "# filtered_df_2.head()"
   ]
  },
  {
   "cell_type": "code",
   "execution_count": 108,
   "id": "13f2e2c1-a22e-4f5c-a429-cd276bb8c49e",
   "metadata": {},
   "outputs": [
    {
     "name": "stdout",
     "output_type": "stream",
     "text": [
      "308152                http://www.inmediahk.net/node/1082281\n",
      "259930                http://www.inmediahk.net/node/1082280\n",
      "437017    https://www.wenweipo.com/a/202104/28/AP6089290...\n",
      "327238               http://blog.udn.com/yiping86/131473277\n",
      "21831     http://www.elexpresso.com/440_mundo/7526955_co...\n",
      "179065    https://www.laliberte.ch/news-agence/detail/ve...\n",
      "233575    https://www.rfj.ch/rfj/Actualite/Monde/Veillee...\n",
      "290343    https://www.msn.com/en-xl/news/other/anger-as-...\n",
      "187497    https://www.rtn.ch/rtn/Actualite/Monde/Veillee...\n",
      "287887    https://www.sott.net/article/452155-Anger-as-H...\n",
      "285952    https://www.thestandard.com.hk/breaking-news/s...\n",
      "42929                   https://www.ryt9.com/s/iq29/3219656\n",
      "77863     https://www.wenweipo.com/a/202105/03/AP608fd9d...\n",
      "56410     https://hd.stheadline.com/news/realtime/hk/206...\n",
      "191428    https://hk.on.cc/hk/bkn/cnt/news/20210505/bkn-...\n",
      "343587    https://www.epochtimes.com/gb/21/5/5/n12925684...\n",
      "324079    http://paper.wenweipo.com/2021/05/06/HK2105060...\n",
      "172079    https://news.mingpao.com/pns/%E6%B8%AF%E8%81%9...\n",
      "339178    http://www.mitbbs.com/news_wenzhang/Headline/3...\n",
      "134128         https://www.setn.com/News.aspx?NewsID=935259\n",
      "Name: DocumentIdentifier, dtype: object\n"
     ]
    }
   ],
   "source": [
    "\n",
    "\n",
    "filtered_df_3 = filtered_df_3.sort_values(by=\"DATE\", ascending=True)\n",
    "\n",
    "print(filtered_df_3['DocumentIdentifier'].head(20))\n",
    "\n",
    "# filtered_df_3.head(40)"
   ]
  },
  {
   "cell_type": "code",
   "execution_count": 54,
   "id": "93226542-c372-45f4-a3dd-35594187c4ee",
   "metadata": {},
   "outputs": [
    {
     "data": {
      "text/html": [
       "<div>\n",
       "<style scoped>\n",
       "    .dataframe tbody tr th:only-of-type {\n",
       "        vertical-align: middle;\n",
       "    }\n",
       "\n",
       "    .dataframe tbody tr th {\n",
       "        vertical-align: top;\n",
       "    }\n",
       "\n",
       "    .dataframe thead th {\n",
       "        text-align: right;\n",
       "    }\n",
       "</style>\n",
       "<table border=\"1\" class=\"dataframe\">\n",
       "  <thead>\n",
       "    <tr style=\"text-align: right;\">\n",
       "      <th></th>\n",
       "      <th>SQLDATE</th>\n",
       "      <th>EventCode</th>\n",
       "      <th>QuadClass</th>\n",
       "      <th>GoldsteinScale</th>\n",
       "      <th>AvgTone</th>\n",
       "      <th>NumArticles</th>\n",
       "      <th>ActionGeo_CountryCode</th>\n",
       "      <th>IsRootEvent</th>\n",
       "      <th>NumMentions</th>\n",
       "    </tr>\n",
       "  </thead>\n",
       "  <tbody>\n",
       "    <tr>\n",
       "      <th>0</th>\n",
       "      <td>20230411</td>\n",
       "      <td>044</td>\n",
       "      <td>1</td>\n",
       "      <td>2.5</td>\n",
       "      <td>3.738318</td>\n",
       "      <td>4</td>\n",
       "      <td>HK</td>\n",
       "      <td>1</td>\n",
       "      <td>4</td>\n",
       "    </tr>\n",
       "    <tr>\n",
       "      <th>1</th>\n",
       "      <td>20230411</td>\n",
       "      <td>031</td>\n",
       "      <td>1</td>\n",
       "      <td>5.2</td>\n",
       "      <td>2.232046</td>\n",
       "      <td>16</td>\n",
       "      <td>HK</td>\n",
       "      <td>1</td>\n",
       "      <td>16</td>\n",
       "    </tr>\n",
       "    <tr>\n",
       "      <th>2</th>\n",
       "      <td>20230411</td>\n",
       "      <td>1711</td>\n",
       "      <td>4</td>\n",
       "      <td>-9.2</td>\n",
       "      <td>-11.904762</td>\n",
       "      <td>10</td>\n",
       "      <td>HK</td>\n",
       "      <td>1</td>\n",
       "      <td>10</td>\n",
       "    </tr>\n",
       "    <tr>\n",
       "      <th>3</th>\n",
       "      <td>20230411</td>\n",
       "      <td>044</td>\n",
       "      <td>1</td>\n",
       "      <td>2.5</td>\n",
       "      <td>2.839117</td>\n",
       "      <td>10</td>\n",
       "      <td>HK</td>\n",
       "      <td>1</td>\n",
       "      <td>10</td>\n",
       "    </tr>\n",
       "    <tr>\n",
       "      <th>4</th>\n",
       "      <td>20230411</td>\n",
       "      <td>072</td>\n",
       "      <td>2</td>\n",
       "      <td>8.3</td>\n",
       "      <td>-1.706037</td>\n",
       "      <td>8</td>\n",
       "      <td>HK</td>\n",
       "      <td>1</td>\n",
       "      <td>8</td>\n",
       "    </tr>\n",
       "  </tbody>\n",
       "</table>\n",
       "</div>"
      ],
      "text/plain": [
       "    SQLDATE EventCode  QuadClass  GoldsteinScale    AvgTone  NumArticles  \\\n",
       "0  20230411       044          1             2.5   3.738318            4   \n",
       "1  20230411       031          1             5.2   2.232046           16   \n",
       "2  20230411      1711          4            -9.2 -11.904762           10   \n",
       "3  20230411       044          1             2.5   2.839117           10   \n",
       "4  20230411       072          2             8.3  -1.706037            8   \n",
       "\n",
       "  ActionGeo_CountryCode  IsRootEvent  NumMentions  \n",
       "0                    HK            1            4  \n",
       "1                    HK            1           16  \n",
       "2                    HK            1           10  \n",
       "3                    HK            1           10  \n",
       "4                    HK            1            8  "
      ]
     },
     "execution_count": 54,
     "metadata": {},
     "output_type": "execute_result"
    }
   ],
   "source": [
    "df_events = pd.read_csv('events_HK_string.csv', encoding='utf8', dtype={'EventCode': str})\n",
    "\n",
    "df_events.head()"
   ]
  },
  {
   "cell_type": "code",
   "execution_count": 7,
   "id": "6578ff0c-0db9-47d0-bfb7-6b43c33287b7",
   "metadata": {},
   "outputs": [],
   "source": [
    "# Filter the DataFrame for the specified date range\n",
    "start_date = 20150218\n",
    "end_date = 20200101\n",
    "df_filtered = df_events.copy()\n",
    "df_filtered_date_range = df_filtered[(df_filtered['SQLDATE'] >= start_date) & (df_filtered['SQLDATE'] <= end_date)]"
   ]
  },
  {
   "cell_type": "code",
   "execution_count": 10,
   "id": "3666724a-ada9-48e9-8077-315db2edaa74",
   "metadata": {},
   "outputs": [],
   "source": [
    "df_filtered_date_range['SQLDATE'].min()\n",
    "df_events = df_filtered_date_range.copy()"
   ]
  },
  {
   "cell_type": "code",
   "execution_count": 11,
   "id": "8b4e83c0-017c-4d5b-b124-f4d8917f4f72",
   "metadata": {},
   "outputs": [],
   "source": [
    "# df_events[df_events['EventCode']=='185'].value_counts()"
   ]
  },
  {
   "cell_type": "code",
   "execution_count": null,
   "id": "9d7c47ae-d117-4eed-9bec-ff153e99844e",
   "metadata": {},
   "outputs": [],
   "source": []
  },
  {
   "cell_type": "code",
   "execution_count": 12,
   "id": "9553853c-e56b-4bc7-b5bb-1a7331e3a2dc",
   "metadata": {},
   "outputs": [],
   "source": [
    "# df_events = pd.read_csv('events_ALL.csv', encoding='utf8')\n",
    "# df_events.head()"
   ]
  },
  {
   "cell_type": "code",
   "execution_count": 13,
   "id": "8f6acb4e-c336-4f60-ac5d-1c70865f3e95",
   "metadata": {},
   "outputs": [],
   "source": [
    "# df_events = pd.read_csv('events_newest.csv', encoding='utf8')\n",
    "# df_events.head()"
   ]
  },
  {
   "cell_type": "code",
   "execution_count": 14,
   "id": "2a998a2b-6be4-4c40-bb46-916d3e74f553",
   "metadata": {},
   "outputs": [],
   "source": [
    "# df_events = pd.read_csv('events_FR_SP_AG_L_YM.csv', encoding='utf8')\n",
    "# df_events = pd.read_csv('events_FR_SP_AG_L_YM.csv', encoding='utf8', dtype={'EventCode': str})\n",
    "# df_events.head()"
   ]
  },
  {
   "cell_type": "code",
   "execution_count": 55,
   "id": "68350f64-03ce-4fbc-b136-d80feeecb0d8",
   "metadata": {},
   "outputs": [
    {
     "data": {
      "text/plain": [
       "042     51372\n",
       "043     44145\n",
       "010     41426\n",
       "020     35306\n",
       "051     27934\n",
       "        ...  \n",
       "1431        1\n",
       "0814        1\n",
       "0254        1\n",
       "201         1\n",
       "0255        1\n",
       "Name: EventCode, Length: 228, dtype: int64"
      ]
     },
     "execution_count": 55,
     "metadata": {},
     "output_type": "execute_result"
    }
   ],
   "source": [
    "df_events['EventCode'].value_counts()"
   ]
  },
  {
   "cell_type": "code",
   "execution_count": 56,
   "id": "fbce1608-623c-43fe-a549-9bbabe181361",
   "metadata": {},
   "outputs": [
    {
     "name": "stdout",
     "output_type": "stream",
     "text": [
      "SQLDATE                   0\n",
      "EventCode                 0\n",
      "QuadClass                 0\n",
      "GoldsteinScale           11\n",
      "AvgTone                   0\n",
      "NumArticles               0\n",
      "ActionGeo_CountryCode     0\n",
      "IsRootEvent               0\n",
      "NumMentions               0\n",
      "dtype: int64\n"
     ]
    }
   ],
   "source": [
    "nan_count = df_events.isna().sum()\n",
    "print(nan_count)"
   ]
  },
  {
   "cell_type": "code",
   "execution_count": 57,
   "id": "c778160a-fe31-472b-8804-8590c9c916f7",
   "metadata": {},
   "outputs": [
    {
     "name": "stdout",
     "output_type": "stream",
     "text": [
      "0\n"
     ]
    }
   ],
   "source": [
    "non_int_count = pd.to_numeric(df_events['EventCode'], errors='coerce').isna().sum()\n",
    "print(non_int_count)"
   ]
  },
  {
   "cell_type": "code",
   "execution_count": 58,
   "id": "538b0507-ce0b-463e-a94c-70920deb39d5",
   "metadata": {},
   "outputs": [
    {
     "name": "stdout",
     "output_type": "stream",
     "text": [
      "11\n"
     ]
    }
   ],
   "source": [
    "non_int_count = pd.to_numeric(df_events['GoldsteinScale'], errors='coerce').isna().sum()\n",
    "print(non_int_count)"
   ]
  },
  {
   "cell_type": "code",
   "execution_count": 59,
   "id": "cc3d0fa2-b7dc-4743-b413-5c38da11a374",
   "metadata": {},
   "outputs": [
    {
     "name": "stdout",
     "output_type": "stream",
     "text": [
      "SQLDATE                   0\n",
      "EventCode                 0\n",
      "QuadClass                 0\n",
      "GoldsteinScale           11\n",
      "AvgTone                   0\n",
      "NumArticles               0\n",
      "ActionGeo_CountryCode     0\n",
      "IsRootEvent               0\n",
      "NumMentions               0\n",
      "dtype: int64\n"
     ]
    }
   ],
   "source": [
    "# Replace invalid values with NaN\n",
    "df_events['EventCode'] = df_events['EventCode'].replace('---', np.nan)\n",
    "\n",
    "# Convert the column to integer\n",
    "df_events['EventCode'] = df_events['EventCode'].astype(str)\n",
    "nan_count = df_events.isna().sum()\n",
    "print(nan_count)"
   ]
  },
  {
   "cell_type": "code",
   "execution_count": 60,
   "id": "1f593a03-4f23-4c5b-8fe4-9fb739c8fabf",
   "metadata": {},
   "outputs": [],
   "source": [
    "df_events = df_events.dropna()\n"
   ]
  },
  {
   "cell_type": "code",
   "execution_count": 61,
   "id": "01a6c4ba-23a8-45d3-b866-65f1fc591a8c",
   "metadata": {},
   "outputs": [
    {
     "name": "stdout",
     "output_type": "stream",
     "text": [
      "SQLDATE                  0\n",
      "EventCode                0\n",
      "QuadClass                0\n",
      "GoldsteinScale           0\n",
      "AvgTone                  0\n",
      "NumArticles              0\n",
      "ActionGeo_CountryCode    0\n",
      "IsRootEvent              0\n",
      "NumMentions              0\n",
      "dtype: int64\n"
     ]
    }
   ],
   "source": [
    "nan_count = df_events.isna().sum()\n",
    "print(nan_count)"
   ]
  },
  {
   "cell_type": "code",
   "execution_count": 62,
   "id": "9d6c8607-14a7-4d54-8dc7-0768604de5d2",
   "metadata": {},
   "outputs": [
    {
     "data": {
      "text/plain": [
       "HK    566771\n",
       "Name: ActionGeo_CountryCode, dtype: int64"
      ]
     },
     "execution_count": 62,
     "metadata": {},
     "output_type": "execute_result"
    }
   ],
   "source": [
    "df_events['ActionGeo_CountryCode'].value_counts().head(10)"
   ]
  },
  {
   "cell_type": "code",
   "execution_count": 63,
   "id": "f62c9488-f0fd-4487-9889-d20d7395e632",
   "metadata": {},
   "outputs": [
    {
     "data": {
      "text/plain": [
       "042     51372\n",
       "043     44145\n",
       "010     41426\n",
       "020     35306\n",
       "051     27934\n",
       "        ...  \n",
       "1622        1\n",
       "0254        1\n",
       "0255        1\n",
       "1431        1\n",
       "1232        1\n",
       "Name: EventCode, Length: 227, dtype: int64"
      ]
     },
     "execution_count": 63,
     "metadata": {},
     "output_type": "execute_result"
    }
   ],
   "source": [
    "df_events['EventCode'].value_counts()"
   ]
  },
  {
   "cell_type": "code",
   "execution_count": 64,
   "id": "9519ba50-96e7-4d70-93f6-c7199831eb36",
   "metadata": {},
   "outputs": [],
   "source": [
    "# df_section = df_events[df_events['EventCode']=='141']\n",
    "# df_section['EventCode'].value_counts()"
   ]
  },
  {
   "cell_type": "code",
   "execution_count": 65,
   "id": "6f39c04e-10b9-4680-bc3d-0affbce3ba6a",
   "metadata": {},
   "outputs": [],
   "source": [
    "# df_events = df_events[df_events['ActionGeo_CountryCode'] == 'HK']"
   ]
  },
  {
   "cell_type": "code",
   "execution_count": 66,
   "id": "7884d694-26de-47c8-bb15-9d8cb25e963a",
   "metadata": {},
   "outputs": [],
   "source": [
    "# df_events['EventCode'].value_counts()"
   ]
  },
  {
   "cell_type": "markdown",
   "id": "73507237-83c5-4d5b-8292-76146f995dd1",
   "metadata": {},
   "source": [
    "Below is the cell where you define the target variable i.e protest have an event code starting with 14"
   ]
  },
  {
   "cell_type": "code",
   "execution_count": 67,
   "id": "04f42407-6233-4e95-a20b-d4aedad6c1dd",
   "metadata": {},
   "outputs": [
    {
     "data": {
      "text/html": [
       "<div>\n",
       "<style scoped>\n",
       "    .dataframe tbody tr th:only-of-type {\n",
       "        vertical-align: middle;\n",
       "    }\n",
       "\n",
       "    .dataframe tbody tr th {\n",
       "        vertical-align: top;\n",
       "    }\n",
       "\n",
       "    .dataframe thead th {\n",
       "        text-align: right;\n",
       "    }\n",
       "</style>\n",
       "<table border=\"1\" class=\"dataframe\">\n",
       "  <thead>\n",
       "    <tr style=\"text-align: right;\">\n",
       "      <th></th>\n",
       "      <th>SQLDATE</th>\n",
       "      <th>EventCode</th>\n",
       "      <th>QuadClass</th>\n",
       "      <th>GoldsteinScale</th>\n",
       "      <th>AvgTone</th>\n",
       "      <th>NumArticles</th>\n",
       "      <th>ActionGeo_CountryCode</th>\n",
       "      <th>IsRootEvent</th>\n",
       "      <th>NumMentions</th>\n",
       "    </tr>\n",
       "  </thead>\n",
       "  <tbody>\n",
       "    <tr>\n",
       "      <th>0</th>\n",
       "      <td>20230411</td>\n",
       "      <td>044</td>\n",
       "      <td>1</td>\n",
       "      <td>2.5</td>\n",
       "      <td>3.738318</td>\n",
       "      <td>4</td>\n",
       "      <td>HK</td>\n",
       "      <td>1</td>\n",
       "      <td>4</td>\n",
       "    </tr>\n",
       "    <tr>\n",
       "      <th>1</th>\n",
       "      <td>20230411</td>\n",
       "      <td>031</td>\n",
       "      <td>1</td>\n",
       "      <td>5.2</td>\n",
       "      <td>2.232046</td>\n",
       "      <td>16</td>\n",
       "      <td>HK</td>\n",
       "      <td>1</td>\n",
       "      <td>16</td>\n",
       "    </tr>\n",
       "    <tr>\n",
       "      <th>2</th>\n",
       "      <td>20230411</td>\n",
       "      <td>1711</td>\n",
       "      <td>4</td>\n",
       "      <td>-9.2</td>\n",
       "      <td>-11.904762</td>\n",
       "      <td>10</td>\n",
       "      <td>HK</td>\n",
       "      <td>1</td>\n",
       "      <td>10</td>\n",
       "    </tr>\n",
       "    <tr>\n",
       "      <th>3</th>\n",
       "      <td>20230411</td>\n",
       "      <td>044</td>\n",
       "      <td>1</td>\n",
       "      <td>2.5</td>\n",
       "      <td>2.839117</td>\n",
       "      <td>10</td>\n",
       "      <td>HK</td>\n",
       "      <td>1</td>\n",
       "      <td>10</td>\n",
       "    </tr>\n",
       "    <tr>\n",
       "      <th>4</th>\n",
       "      <td>20230411</td>\n",
       "      <td>072</td>\n",
       "      <td>2</td>\n",
       "      <td>8.3</td>\n",
       "      <td>-1.706037</td>\n",
       "      <td>8</td>\n",
       "      <td>HK</td>\n",
       "      <td>1</td>\n",
       "      <td>8</td>\n",
       "    </tr>\n",
       "  </tbody>\n",
       "</table>\n",
       "</div>"
      ],
      "text/plain": [
       "    SQLDATE EventCode  QuadClass  GoldsteinScale    AvgTone  NumArticles  \\\n",
       "0  20230411       044          1             2.5   3.738318            4   \n",
       "1  20230411       031          1             5.2   2.232046           16   \n",
       "2  20230411      1711          4            -9.2 -11.904762           10   \n",
       "3  20230411       044          1             2.5   2.839117           10   \n",
       "4  20230411       072          2             8.3  -1.706037            8   \n",
       "\n",
       "  ActionGeo_CountryCode  IsRootEvent  NumMentions  \n",
       "0                    HK            1            4  \n",
       "1                    HK            1           16  \n",
       "2                    HK            1           10  \n",
       "3                    HK            1           10  \n",
       "4                    HK            1            8  "
      ]
     },
     "execution_count": 67,
     "metadata": {},
     "output_type": "execute_result"
    }
   ],
   "source": [
    "df_events.head()"
   ]
  },
  {
   "cell_type": "code",
   "execution_count": 68,
   "id": "64032b39-30a6-44bb-a659-442acba06cd8",
   "metadata": {},
   "outputs": [],
   "source": [
    "# df_events['Contains14'] = df_events['EventCode'].astype(str).str.startswith('14').astype(int)\n",
    "df_events_contains14_temp = df_events.copy()\n",
    "# df_events_contains14['Contains14'] = df_events_contains14['EventCode'].astype(str).str.startswith('14').astype(int)\n",
    "\n",
    "\n",
    "# prefixes = ('20', '18', '19', '17', '13')\n",
    "\n",
    "prefixes = ('141')\n",
    "df_events_contains14_temp['Contains14'] = df_events_contains14_temp['EventCode'].astype(str).str.startswith(prefixes).astype(int)"
   ]
  },
  {
   "cell_type": "markdown",
   "id": "44fd7e63-bab1-4a42-bf8e-4e45a5528574",
   "metadata": {},
   "source": [
    "IQR is important to distinguish between important and non important protest events based on the NumArticles features. We look at the median and say events above 4 are serious and below is not."
   ]
  },
  {
   "cell_type": "code",
   "execution_count": 69,
   "id": "1c3bfca9-35c3-4f02-9da4-ddf3af892183",
   "metadata": {},
   "outputs": [
    {
     "name": "stdout",
     "output_type": "stream",
     "text": [
      "Q1:  2.0\n",
      "Q2 (Median):  5.0\n",
      "Q3:  10.0\n",
      "Mean:  6.15273187936574\n",
      "Median:  5.0\n"
     ]
    }
   ],
   "source": [
    "# Calculate statistics\n",
    "q1 = np.percentile(df_events_contains14_temp['NumArticles'], 25)\n",
    "q2 = np.percentile(df_events_contains14_temp['NumArticles'], 50)\n",
    "q3 = np.percentile(df_events_contains14_temp['NumArticles'], 75)\n",
    "mean = np.mean(df_events_contains14_temp['NumArticles'])\n",
    "median = np.median(df_events_contains14_temp['NumArticles'])\n",
    "\n",
    "# Print the statistics\n",
    "print(\"Q1: \", q1)\n",
    "print(\"Q2 (Median): \", q2)\n",
    "print(\"Q3: \", q3)\n",
    "print(\"Mean: \", mean)\n",
    "print(\"Median: \", median)\n"
   ]
  },
  {
   "cell_type": "code",
   "execution_count": 70,
   "id": "5dbd524a-a334-4700-b007-6639b218c1bc",
   "metadata": {},
   "outputs": [
    {
     "data": {
      "text/html": [
       "<div>\n",
       "<style scoped>\n",
       "    .dataframe tbody tr th:only-of-type {\n",
       "        vertical-align: middle;\n",
       "    }\n",
       "\n",
       "    .dataframe tbody tr th {\n",
       "        vertical-align: top;\n",
       "    }\n",
       "\n",
       "    .dataframe thead th {\n",
       "        text-align: right;\n",
       "    }\n",
       "</style>\n",
       "<table border=\"1\" class=\"dataframe\">\n",
       "  <thead>\n",
       "    <tr style=\"text-align: right;\">\n",
       "      <th></th>\n",
       "      <th>SQLDATE</th>\n",
       "      <th>EventCode</th>\n",
       "      <th>QuadClass</th>\n",
       "      <th>GoldsteinScale</th>\n",
       "      <th>AvgTone</th>\n",
       "      <th>NumArticles</th>\n",
       "      <th>ActionGeo_CountryCode</th>\n",
       "      <th>IsRootEvent</th>\n",
       "      <th>NumMentions</th>\n",
       "      <th>Contains14</th>\n",
       "    </tr>\n",
       "  </thead>\n",
       "  <tbody>\n",
       "    <tr>\n",
       "      <th>0</th>\n",
       "      <td>20230411</td>\n",
       "      <td>044</td>\n",
       "      <td>1</td>\n",
       "      <td>2.5</td>\n",
       "      <td>3.738318</td>\n",
       "      <td>4</td>\n",
       "      <td>HK</td>\n",
       "      <td>1</td>\n",
       "      <td>4</td>\n",
       "      <td>0</td>\n",
       "    </tr>\n",
       "    <tr>\n",
       "      <th>1</th>\n",
       "      <td>20230411</td>\n",
       "      <td>031</td>\n",
       "      <td>1</td>\n",
       "      <td>5.2</td>\n",
       "      <td>2.232046</td>\n",
       "      <td>16</td>\n",
       "      <td>HK</td>\n",
       "      <td>1</td>\n",
       "      <td>16</td>\n",
       "      <td>0</td>\n",
       "    </tr>\n",
       "    <tr>\n",
       "      <th>2</th>\n",
       "      <td>20230411</td>\n",
       "      <td>1711</td>\n",
       "      <td>4</td>\n",
       "      <td>-9.2</td>\n",
       "      <td>-11.904762</td>\n",
       "      <td>10</td>\n",
       "      <td>HK</td>\n",
       "      <td>1</td>\n",
       "      <td>10</td>\n",
       "      <td>0</td>\n",
       "    </tr>\n",
       "    <tr>\n",
       "      <th>3</th>\n",
       "      <td>20230411</td>\n",
       "      <td>044</td>\n",
       "      <td>1</td>\n",
       "      <td>2.5</td>\n",
       "      <td>2.839117</td>\n",
       "      <td>10</td>\n",
       "      <td>HK</td>\n",
       "      <td>1</td>\n",
       "      <td>10</td>\n",
       "      <td>0</td>\n",
       "    </tr>\n",
       "    <tr>\n",
       "      <th>4</th>\n",
       "      <td>20230411</td>\n",
       "      <td>072</td>\n",
       "      <td>2</td>\n",
       "      <td>8.3</td>\n",
       "      <td>-1.706037</td>\n",
       "      <td>8</td>\n",
       "      <td>HK</td>\n",
       "      <td>1</td>\n",
       "      <td>8</td>\n",
       "      <td>0</td>\n",
       "    </tr>\n",
       "  </tbody>\n",
       "</table>\n",
       "</div>"
      ],
      "text/plain": [
       "    SQLDATE EventCode  QuadClass  GoldsteinScale    AvgTone  NumArticles  \\\n",
       "0  20230411       044          1             2.5   3.738318            4   \n",
       "1  20230411       031          1             5.2   2.232046           16   \n",
       "2  20230411      1711          4            -9.2 -11.904762           10   \n",
       "3  20230411       044          1             2.5   2.839117           10   \n",
       "4  20230411       072          2             8.3  -1.706037            8   \n",
       "\n",
       "  ActionGeo_CountryCode  IsRootEvent  NumMentions  Contains14  \n",
       "0                    HK            1            4           0  \n",
       "1                    HK            1           16           0  \n",
       "2                    HK            1           10           0  \n",
       "3                    HK            1           10           0  \n",
       "4                    HK            1            8           0  "
      ]
     },
     "execution_count": 70,
     "metadata": {},
     "output_type": "execute_result"
    }
   ],
   "source": [
    "df_events_contains14_temp.head()"
   ]
  },
  {
   "cell_type": "code",
   "execution_count": 71,
   "id": "1c5dbff8-9c1b-4f2a-bb22-61225fe69e36",
   "metadata": {},
   "outputs": [],
   "source": [
    "# df_num_articles = df_events_contains14_temp.copy()\n",
    "# value = 4\n",
    "# # Filter rows based on the condition\n",
    "# df_events_contains14_filtered = df_num_articles[df_num_articles['NumMentions'] >=value]\n",
    "\n",
    "# # # Create a new column based on 'NumArticles' values\n",
    "# # df_num_articles['AboveBelow4'] = (df_num_articles['NumMentions'] > Value).astype(int)\n",
    "\n",
    "# # # Set values below or equal to 4 as 0\n",
    "# # df_num_articles.loc[df_num_articles['NumMentions'] <= Value, 'AboveBelow4'] = 0\n",
    "\n",
    "\n",
    "\n",
    "# # df_num_articles.rename(columns={'Contains14': 'Contains14sub', 'AboveBelow4': 'Contains14'}, inplace=True)\n",
    "# # # Verify the updated DataFrame\n",
    "# # df_events_contains14_filtered = df_num_articles.copy()"
   ]
  },
  {
   "cell_type": "code",
   "execution_count": 72,
   "id": "5a2d7299-b15e-40d6-809d-c3110eba01ef",
   "metadata": {},
   "outputs": [
    {
     "name": "stderr",
     "output_type": "stream",
     "text": [
      "/var/tmp/ipykernel_7114/751933849.py:7: SettingWithCopyWarning: \n",
      "A value is trying to be set on a copy of a slice from a DataFrame.\n",
      "Try using .loc[row_indexer,col_indexer] = value instead\n",
      "\n",
      "See the caveats in the documentation: https://pandas.pydata.org/pandas-docs/stable/user_guide/indexing.html#returning-a-view-versus-a-copy\n",
      "  df_events_contains14_filtered['AboveBelow4'] = (df_events_contains14_filtered['NumArticles'] > Value).astype(int)\n",
      "/var/tmp/ipykernel_7114/751933849.py:14: SettingWithCopyWarning: \n",
      "A value is trying to be set on a copy of a slice from a DataFrame\n",
      "\n",
      "See the caveats in the documentation: https://pandas.pydata.org/pandas-docs/stable/user_guide/indexing.html#returning-a-view-versus-a-copy\n",
      "  df_events_contains14_filtered.rename(columns={'Contains14': 'Contains14sub', 'AboveBelow4': 'Contains14'}, inplace=True)\n"
     ]
    },
    {
     "data": {
      "text/html": [
       "<div>\n",
       "<style scoped>\n",
       "    .dataframe tbody tr th:only-of-type {\n",
       "        vertical-align: middle;\n",
       "    }\n",
       "\n",
       "    .dataframe tbody tr th {\n",
       "        vertical-align: top;\n",
       "    }\n",
       "\n",
       "    .dataframe thead th {\n",
       "        text-align: right;\n",
       "    }\n",
       "</style>\n",
       "<table border=\"1\" class=\"dataframe\">\n",
       "  <thead>\n",
       "    <tr style=\"text-align: right;\">\n",
       "      <th></th>\n",
       "      <th>SQLDATE</th>\n",
       "      <th>EventCode</th>\n",
       "      <th>QuadClass</th>\n",
       "      <th>GoldsteinScale</th>\n",
       "      <th>AvgTone</th>\n",
       "      <th>NumArticles</th>\n",
       "      <th>ActionGeo_CountryCode</th>\n",
       "      <th>IsRootEvent</th>\n",
       "      <th>NumMentions</th>\n",
       "      <th>Contains14sub</th>\n",
       "      <th>Contains14</th>\n",
       "    </tr>\n",
       "  </thead>\n",
       "  <tbody>\n",
       "    <tr>\n",
       "      <th>576</th>\n",
       "      <td>20170427</td>\n",
       "      <td>1412</td>\n",
       "      <td>3</td>\n",
       "      <td>-6.5</td>\n",
       "      <td>-5.015679</td>\n",
       "      <td>12</td>\n",
       "      <td>HK</td>\n",
       "      <td>1</td>\n",
       "      <td>12</td>\n",
       "      <td>1</td>\n",
       "      <td>1</td>\n",
       "    </tr>\n",
       "    <tr>\n",
       "      <th>1850</th>\n",
       "      <td>20171001</td>\n",
       "      <td>1411</td>\n",
       "      <td>3</td>\n",
       "      <td>-6.5</td>\n",
       "      <td>-1.256732</td>\n",
       "      <td>10</td>\n",
       "      <td>HK</td>\n",
       "      <td>1</td>\n",
       "      <td>10</td>\n",
       "      <td>1</td>\n",
       "      <td>0</td>\n",
       "    </tr>\n",
       "    <tr>\n",
       "      <th>2029</th>\n",
       "      <td>20161114</td>\n",
       "      <td>1411</td>\n",
       "      <td>3</td>\n",
       "      <td>-6.5</td>\n",
       "      <td>-0.131062</td>\n",
       "      <td>1</td>\n",
       "      <td>HK</td>\n",
       "      <td>1</td>\n",
       "      <td>1</td>\n",
       "      <td>1</td>\n",
       "      <td>0</td>\n",
       "    </tr>\n",
       "    <tr>\n",
       "      <th>4947</th>\n",
       "      <td>20170427</td>\n",
       "      <td>1412</td>\n",
       "      <td>3</td>\n",
       "      <td>-6.5</td>\n",
       "      <td>-10.185185</td>\n",
       "      <td>10</td>\n",
       "      <td>HK</td>\n",
       "      <td>1</td>\n",
       "      <td>10</td>\n",
       "      <td>1</td>\n",
       "      <td>0</td>\n",
       "    </tr>\n",
       "    <tr>\n",
       "      <th>5839</th>\n",
       "      <td>20171204</td>\n",
       "      <td>1413</td>\n",
       "      <td>3</td>\n",
       "      <td>-6.5</td>\n",
       "      <td>-5.508475</td>\n",
       "      <td>10</td>\n",
       "      <td>HK</td>\n",
       "      <td>1</td>\n",
       "      <td>10</td>\n",
       "      <td>1</td>\n",
       "      <td>0</td>\n",
       "    </tr>\n",
       "  </tbody>\n",
       "</table>\n",
       "</div>"
      ],
      "text/plain": [
       "       SQLDATE EventCode  QuadClass  GoldsteinScale    AvgTone  NumArticles  \\\n",
       "576   20170427      1412          3            -6.5  -5.015679           12   \n",
       "1850  20171001      1411          3            -6.5  -1.256732           10   \n",
       "2029  20161114      1411          3            -6.5  -0.131062            1   \n",
       "4947  20170427      1412          3            -6.5 -10.185185           10   \n",
       "5839  20171204      1413          3            -6.5  -5.508475           10   \n",
       "\n",
       "     ActionGeo_CountryCode  IsRootEvent  NumMentions  Contains14sub  \\\n",
       "576                     HK            1           12              1   \n",
       "1850                    HK            1           10              1   \n",
       "2029                    HK            1            1              1   \n",
       "4947                    HK            1           10              1   \n",
       "5839                    HK            1           10              1   \n",
       "\n",
       "      Contains14  \n",
       "576            1  \n",
       "1850           0  \n",
       "2029           0  \n",
       "4947           0  \n",
       "5839           0  "
      ]
     },
     "execution_count": 72,
     "metadata": {},
     "output_type": "execute_result"
    }
   ],
   "source": [
    "df_num_articles = df_events_contains14_temp.copy()\n",
    "Value = 10\n",
    "# Filter rows based on the condition\n",
    "df_events_contains14_filtered = df_num_articles[df_num_articles['Contains14'] != 0]\n",
    "\n",
    "# Create a new column based on 'NumArticles' values\n",
    "df_events_contains14_filtered['AboveBelow4'] = (df_events_contains14_filtered['NumArticles'] > Value).astype(int)\n",
    "\n",
    "# Set values below or equal to 4 as 0\n",
    "df_events_contains14_filtered.loc[df_events_contains14_filtered['NumArticles'] <= Value, 'AboveBelow4'] = 0\n",
    "\n",
    "\n",
    "\n",
    "df_events_contains14_filtered.rename(columns={'Contains14': 'Contains14sub', 'AboveBelow4': 'Contains14'}, inplace=True)\n",
    "# Verify the updated DataFrame\n",
    "df_events_contains14_filtered.head()\n"
   ]
  },
  {
   "cell_type": "code",
   "execution_count": 73,
   "id": "1558492c-a26e-4b04-b900-8e0f58748aed",
   "metadata": {},
   "outputs": [
    {
     "data": {
      "text/plain": [
       "0    552183\n",
       "1     14588\n",
       "Name: Contains14, dtype: int64"
      ]
     },
     "execution_count": 73,
     "metadata": {},
     "output_type": "execute_result"
    }
   ],
   "source": [
    "df_events_contains14_temp['Contains14'].value_counts()"
   ]
  },
  {
   "cell_type": "code",
   "execution_count": 74,
   "id": "ca333386-a3bc-4a3d-8b9b-fff6e211aee3",
   "metadata": {},
   "outputs": [
    {
     "data": {
      "text/plain": [
       "0    14023\n",
       "1      565\n",
       "Name: Contains14, dtype: int64"
      ]
     },
     "execution_count": 74,
     "metadata": {},
     "output_type": "execute_result"
    }
   ],
   "source": [
    "df_events_contains14_filtered['Contains14'].value_counts()"
   ]
  },
  {
   "cell_type": "code",
   "execution_count": 75,
   "id": "5d22e9b3-4021-4c4c-beef-a919ef08187e",
   "metadata": {},
   "outputs": [],
   "source": [
    "df_events_contains14 = df_events_contains14_filtered.copy()"
   ]
  },
  {
   "cell_type": "code",
   "execution_count": 124,
   "id": "b6d07e89-7847-4267-84eb-372022fbf3fc",
   "metadata": {},
   "outputs": [],
   "source": [
    "# df_events_contains14.to_csv('events_IS_141.csv', index=False)"
   ]
  },
  {
   "cell_type": "markdown",
   "id": "03b8360c-16e9-4da2-a4cb-d1e8c0dca1a6",
   "metadata": {
    "jp-MarkdownHeadingCollapsed": true,
    "tags": []
   },
   "source": [
    "## GKG "
   ]
  },
  {
   "cell_type": "markdown",
   "id": "262a8304-1c5e-4cb3-ad34-49c54367aef0",
   "metadata": {
    "jp-MarkdownHeadingCollapsed": true,
    "tags": []
   },
   "source": [
    "## ACLED (Not needed)"
   ]
  },
  {
   "cell_type": "code",
   "execution_count": null,
   "id": "8af57c0c-cec3-4ca5-a2d7-9e20bd64ef09",
   "metadata": {},
   "outputs": [],
   "source": [
    "df_ACLED = pd.read_csv('2014-01-01-2023-06-26-Europe-France.csv', encoding='utf8')\n",
    "df_ACLED.head()\n"
   ]
  },
  {
   "cell_type": "code",
   "execution_count": null,
   "id": "bc614a7e-49bf-4ec9-b279-5ee642f65d33",
   "metadata": {},
   "outputs": [],
   "source": [
    "print(df_ACLED['year'].max())\n",
    "print(df_ACLED['year'].min())"
   ]
  },
  {
   "cell_type": "markdown",
   "id": "eab993be-e6ff-4919-8278-cfb68fbc2a0d",
   "metadata": {
    "jp-MarkdownHeadingCollapsed": true,
    "tags": []
   },
   "source": [
    "# ACLED (Not needed)"
   ]
  },
  {
   "cell_type": "code",
   "execution_count": null,
   "id": "687decc4-1527-4bad-9726-b5ee6d175025",
   "metadata": {},
   "outputs": [],
   "source": [
    "# df_ACLED = pd.read_csv('2022-06-01-2023-06-01-Europe-France.csv', encoding='utf8')\n",
    "# df_ACLED.head()"
   ]
  },
  {
   "cell_type": "code",
   "execution_count": null,
   "id": "f3e188f9-b56c-4c04-9883-f0b8e5c4ad35",
   "metadata": {},
   "outputs": [],
   "source": [
    "df_ACLED.info()"
   ]
  },
  {
   "cell_type": "code",
   "execution_count": null,
   "id": "e0b9f64a-224c-4863-8b65-d151fff1d69f",
   "metadata": {},
   "outputs": [],
   "source": [
    "df_ACLED['year'].min()"
   ]
  },
  {
   "cell_type": "code",
   "execution_count": null,
   "id": "fb32c429-e103-4738-b55d-c29f30618cbd",
   "metadata": {},
   "outputs": [],
   "source": [
    "def plot_against_time(dataframe, dependant_variable, title):\n",
    "\n",
    "    # Convert \"event_date\" column to datetime format\n",
    "    df_ACLED['event_date'] = pd.to_datetime(df_ACLED['event_date'], format='%d %B %Y')\n",
    "\n",
    "    # Group events by date and sub_event_type, and count occurrences\n",
    "    grouped = df_ACLED.groupby(['event_date', dependant_variable]).size().reset_index(name='occurrences')\n",
    "\n",
    "    # Pivot the table to create the desired format\n",
    "    pivoted_table = grouped.pivot_table(index='event_date', columns=dependant_variable, values='occurrences', fill_value=0)\n",
    "\n",
    "    # Create a table with unique dates\n",
    "    dates_table = pd.DataFrame({'event_date': df_ACLED['event_date'].unique()})\n",
    "\n",
    "    # Merge the tables to get the final result\n",
    "    result_table = pd.merge(dates_table, pivoted_table, on='event_date', how='left')\n",
    "\n",
    "    # Set up the style using Seaborn\n",
    "    sns.set(style=\"darkgrid\", palette=\"bright\")\n",
    "\n",
    "    # Plot each column with a different color against time\n",
    "    plt.figure(figsize=(10, 6))\n",
    "    for column in pivoted_table.columns:\n",
    "        sns.lineplot(data=pivoted_table[column], label=column)\n",
    "\n",
    "    plt.xlabel('Event Date')\n",
    "    plt.ylabel('Number of Occurrences')\n",
    "    plt.title(title)\n",
    "    plt.xticks(rotation=45)\n",
    "    plt.legend(loc='upper left')\n",
    "    plt.tight_layout()\n",
    "    plt.show()\n",
    "    return result_table\n",
    "\n",
    "results_sub_event_type = plot_against_time(df_ACLED, 'sub_event_type', 'Occurrences of Sub-event Types Over Time')\n"
   ]
  },
  {
   "cell_type": "code",
   "execution_count": null,
   "id": "444103e6-a4c1-4d17-8957-df3ae775f404",
   "metadata": {},
   "outputs": [],
   "source": [
    "print(results_sub_event_type)"
   ]
  },
  {
   "cell_type": "code",
   "execution_count": null,
   "id": "cf0898fb-8704-420d-a0c3-fab882ef323b",
   "metadata": {},
   "outputs": [],
   "source": [
    "\n",
    "results_event_type = plot_against_time(df_ACLED, 'event_type', 'Occurrences of event Types Over Time')"
   ]
  },
  {
   "cell_type": "markdown",
   "id": "65d602eb-a847-4b34-9f4c-5ab2e1c3ef21",
   "metadata": {},
   "source": [
    "violent demonstartions and riots are very similiar variables. May be redundant to use both sub event type and event type. just use sub event type feature."
   ]
  },
  {
   "cell_type": "code",
   "execution_count": null,
   "id": "c875cd09-3f4e-4fc5-80d0-a149881ff807",
   "metadata": {},
   "outputs": [],
   "source": [
    "\n",
    "# def correlation_plot(results_df, group_1, group_2, group_1_name, group_2_name):\n",
    "#     # Extract the columns for peaceful protests and violent protests\n",
    "#     peaceful_protests = results_df[group_1]\n",
    "#     violent_protests = results_df[group_2]\n",
    "\n",
    "#     # Calculate the correlation coefficient\n",
    "#     correlation = peaceful_protests.corr(violent_protests)\n",
    "\n",
    "#     # Create a scatter plot\n",
    "#     plt.scatter(peaceful_protests, violent_protests)\n",
    "#     plt.xlabel(group_1_name)\n",
    "#     plt.ylabel(group_2_name)\n",
    "#     plt.title('Correlation between '+group_1_name +' and '+ group_2_name)\n",
    "#     plt.text(0.1, 0.9, f'Correlation: {correlation:.2f}', transform=plt.gca().transAxes)\n",
    "#     plt.show()\n",
    "#     return None\n",
    "\n",
    "    \n",
    "    \n",
    "# correlation_plot(results_sub_event_type, 'Peaceful protest', 'Violent demonstration', 'Peaceful protest', 'Violent demonstration')"
   ]
  },
  {
   "cell_type": "markdown",
   "id": "b447f602-48e4-456f-8a6e-3e847e40b78a",
   "metadata": {},
   "source": [
    "whenever violent demonstrations is high the numebr of peacful protests is high. But a high number of peacful protests doesnt always imply violent demonstartions. Implies there are other factors for violent protests. there is some other factor which causes an increase in peacful and violent protests possibly?"
   ]
  },
  {
   "cell_type": "code",
   "execution_count": null,
   "id": "05a46c50-cf66-409d-aeac-126b4ed4e432",
   "metadata": {},
   "outputs": [],
   "source": [
    "is_not_zero = lambda x: x!=0 \n",
    "df_NaN = df_ACLED.isna().sum().where(is_not_zero).dropna()\n",
    "# df.isna().sum()"
   ]
  },
  {
   "cell_type": "code",
   "execution_count": null,
   "id": "9a2ceb85-8b0c-426c-9009-1d7f7b279a30",
   "metadata": {},
   "outputs": [],
   "source": [
    "df_dropped_NaN = df_ACLED.dropna()"
   ]
  },
  {
   "cell_type": "code",
   "execution_count": null,
   "id": "9e93fb20-7f1f-4b16-bbbd-60d9188cc3ae",
   "metadata": {},
   "outputs": [],
   "source": [
    "df_ACLED.shape"
   ]
  },
  {
   "cell_type": "code",
   "execution_count": null,
   "id": "7ad45ed8-9f5f-49ae-bf19-676fea47e5e4",
   "metadata": {},
   "outputs": [],
   "source": [
    "df_ACLED['timestamp'].apply(lambda x: datetime.fromtimestamp(x)).dt.month.value_counts()"
   ]
  },
  {
   "cell_type": "code",
   "execution_count": null,
   "id": "c978ceba-7603-40fb-88ef-06519fbc976d",
   "metadata": {},
   "outputs": [],
   "source": [
    "pd.to_datetime(df_ACLED['timestamp'], infer_datetime_format=True)"
   ]
  },
  {
   "cell_type": "code",
   "execution_count": null,
   "id": "058ec81b-a742-4ed7-a93b-0494db23c8ca",
   "metadata": {},
   "outputs": [],
   "source": [
    "def graph_plotter(data_frame, column_name, title_name):\n",
    "    data_frame[column_name].value_counts().plot.bar(color='red', title=title_name)\n",
    "    plt.xticks(rotation=45)\n",
    "    return plt.show()\n",
    "\n",
    "graph_plotter(df_ACLED, \"source_scale\", 'ACLED France Source Scale')\n",
    "graph_plotter(df_ACLED,\"event_type\", 'ACLED France event type')\n",
    "graph_plotter(df_ACLED, \"sub_event_type\", 'ACLED France Sub event type')\n",
    "graph_plotter(df_ACLED, \"disorder_type\", 'ACLED France disorder type')\n",
    "\n"
   ]
  },
  {
   "cell_type": "code",
   "execution_count": null,
   "id": "e7699f11-e633-452d-ad43-a29922060d8c",
   "metadata": {},
   "outputs": [],
   "source": [
    "fig = px.scatter_mapbox(df_ACLED,\n",
    "# Here, plotly gets, (x,y) coordinates\n",
    "lat=\"latitude\",\n",
    "lon=\"longitude\",\n",
    "# text='fatalities',\n",
    "\n",
    "                #Here, plotly detects color of series\n",
    "                size=\"time_precision\",\n",
    "                color = \"sub_event_type\",\n",
    "                # labels=\"fatalities\",\n",
    "\n",
    "                zoom=8,\n",
    "                center={\"lat\":48.856614, \"lon\":2.3522219},\n",
    "                height=600,\n",
    "                width=800)\n",
    "fig.update_layout(mapbox_style='stamen-terrain')\n",
    "fig.update_layout(margin={\"r\": 0, \"t\": 0, \"l\": 0, \"b\": 0})\n",
    "# fig.update_layout(title_text=\"ACLED fatalities in France\")\n",
    "fig.show()"
   ]
  },
  {
   "cell_type": "code",
   "execution_count": null,
   "id": "b51b140f-6041-4e0d-a137-e46b0dd2a02c",
   "metadata": {},
   "outputs": [],
   "source": [
    "corr = df_ACLED.corr(numeric_only=True)\n",
    "corr.style.background_gradient(cmap='coolwarm')"
   ]
  },
  {
   "cell_type": "markdown",
   "id": "81d39f70-dbe8-46cc-ad9a-9d0a8a2a144c",
   "metadata": {},
   "source": [
    "seems to be some week correlation between inter2 and interaction "
   ]
  },
  {
   "cell_type": "code",
   "execution_count": null,
   "id": "a713b43a-f7b2-4dbc-aed3-ce54d37ada41",
   "metadata": {},
   "outputs": [],
   "source": [
    "graph_plotter(df_ACLED,\"interaction\", 'ACLED France interaction')\n",
    "graph_plotter(df_ACLED,\"inter1\", 'ACLED France interaction type 1')\n",
    "graph_plotter(df_ACLED,\"inter2\", 'ACLED France interaction type 2')\n",
    "graph_plotter(df_ACLED,\"fatalities\", 'fatalities')"
   ]
  },
  {
   "cell_type": "code",
   "execution_count": null,
   "id": "d38c1280-e492-470e-9561-8ae24014b70d",
   "metadata": {},
   "outputs": [],
   "source": [
    "df_ACLED['fatalities'].info()"
   ]
  },
  {
   "cell_type": "markdown",
   "id": "f5d96db5-f7ab-4e20-acf3-0dec9ae44c76",
   "metadata": {},
   "source": [
    "There are no fatalaities"
   ]
  },
  {
   "cell_type": "code",
   "execution_count": null,
   "id": "c4645df7-b639-478a-b734-0e4a187459c3",
   "metadata": {},
   "outputs": [],
   "source": [
    "def get_conflict_group(r):\n",
    "    r.tolist()\n",
    "    r = sorted(r)\n",
    "    return ''.join(r)\n",
    "\n",
    "conflict_data = df_ACLED.query('event_type== \"Protests\"')[['actor1']].apply(get_conflict_group,axis=1).value_counts()[:10].to_frame(name=\"Number of Conflicts\").reset_index().rename(columns={\"index\": \"Conflict Groups\"})\n",
    "\n",
    "with pd.option_context('display.max_colwidth', None):\n",
    "      display(conflict_data.style.set_properties(**{\n",
    "                'font-size': '10pt',\n",
    "                'background_gradient': True\n",
    "        }).background_gradient(axis=0,gmap=conflict_data['Number of Conflicts'],\n",
    "            cmap='YlOrRd'\n",
    "        )  )\n"
   ]
  },
  {
   "cell_type": "code",
   "execution_count": null,
   "id": "c26c8261-27a9-4cf2-b87e-bfc0e8446710",
   "metadata": {},
   "outputs": [],
   "source": [
    "print(conflict_data)"
   ]
  },
  {
   "cell_type": "markdown",
   "id": "2d9d7d3b-2545-4fad-84f3-152b87624b22",
   "metadata": {},
   "source": [
    "Plotted for the dataset where the NaN are removed"
   ]
  },
  {
   "cell_type": "code",
   "execution_count": null,
   "id": "e5e81eb3-0b9a-47ad-9007-160482ad9d5a",
   "metadata": {},
   "outputs": [],
   "source": [
    "graph_plotter(df_dropped_NaN, \"sub_event_type\", 'ACLED France Sub event type')"
   ]
  },
  {
   "cell_type": "code",
   "execution_count": null,
   "id": "83020452-24f6-4c13-be15-a63a6e674eba",
   "metadata": {},
   "outputs": [],
   "source": []
  },
  {
   "cell_type": "markdown",
   "id": "a0c0c757-113e-475b-bbbd-db3be08fa0c0",
   "metadata": {
    "jp-MarkdownHeadingCollapsed": true,
    "tags": []
   },
   "source": [
    "# GKG data"
   ]
  },
  {
   "cell_type": "code",
   "execution_count": null,
   "id": "0edcd5e1-f073-435b-ba83-8d440de4602c",
   "metadata": {},
   "outputs": [],
   "source": [
    "df_gkg = pd.read_csv('gkg.csv', encoding='utf8')\n",
    "df_gkg.info()\n"
   ]
  },
  {
   "cell_type": "code",
   "execution_count": null,
   "id": "388fe7ab-f1a5-48dd-a5fe-6cda93d84ee3",
   "metadata": {},
   "outputs": [],
   "source": [
    "df_gkg['Locations'].value_counts()"
   ]
  },
  {
   "cell_type": "code",
   "execution_count": null,
   "id": "7674b17e-3388-423c-ac92-3539d381446b",
   "metadata": {},
   "outputs": [],
   "source": [
    "df_gkg.head()"
   ]
  },
  {
   "cell_type": "markdown",
   "id": "bee77448-1442-449d-ac67-a9a536a58c62",
   "metadata": {},
   "source": [
    "Themes  contains key topic - topic modelling has almost been done for me"
   ]
  },
  {
   "cell_type": "code",
   "execution_count": null,
   "id": "59e8dba2-84e3-4134-8c53-b7291e2661bf",
   "metadata": {},
   "outputs": [],
   "source": [
    "# key people\n",
    "df_gkg['Persons'][4]"
   ]
  },
  {
   "cell_type": "code",
   "execution_count": null,
   "id": "6d08fbe1-5f72-48fb-93f7-7d7e0f016f26",
   "metadata": {},
   "outputs": [],
   "source": [
    "df_gkg['Organizations'][4]"
   ]
  },
  {
   "cell_type": "code",
   "execution_count": null,
   "id": "5687e5bf-336c-4704-84e8-9f74998fe57b",
   "metadata": {},
   "outputs": [],
   "source": [
    "df_gkg['Themes'] \n",
    "# Topic modelling??"
   ]
  },
  {
   "cell_type": "markdown",
   "id": "75549bc4-25c7-45be-a3fe-d8fdfc4eb3db",
   "metadata": {
    "tags": [],
    "toc-hr-collapsed": true
   },
   "source": [
    "\n",
    "## V2 Tone 6 dimensions corresponding to the following \n",
    "[Tone, possitive score, negative score, polarity, activity reference density, self/group refrecne denisty, word count]\n",
    "## Tone \n",
    "Avergae tone of the document (-10 negative to 10 possitive) - positive score - negative score columns\n",
    "## Polarity \n",
    "Percenatge - high polarity suggets words used were highly emotional - can have neutral tone but high polarity\n",
    "## Group reference\n",
    "Percentage that measures how many times groups or individuals are refercned - a measure of reliability of news articles"
   ]
  },
  {
   "cell_type": "code",
   "execution_count": null,
   "id": "fb052784-2166-44d2-8af1-b88b5d20ca12",
   "metadata": {},
   "outputs": [],
   "source": [
    "df_gkg['V2Tone'][4]"
   ]
  },
  {
   "cell_type": "code",
   "execution_count": null,
   "id": "12ec4f0f-bb1e-428a-b2aa-cfc7ca154539",
   "metadata": {},
   "outputs": [],
   "source": [
    "df_gkg['Dates'][4]"
   ]
  },
  {
   "cell_type": "markdown",
   "id": "fce1c227-8d11-4c40-91a1-c887539c1af0",
   "metadata": {
    "tags": []
   },
   "source": [
    "## GCAM column"
   ]
  },
  {
   "cell_type": "code",
   "execution_count": null,
   "id": "0100d2d2-82a1-4d16-a079-0554d1fa1fb9",
   "metadata": {},
   "outputs": [],
   "source": [
    "# df_gkg['GCAM'][0]"
   ]
  },
  {
   "cell_type": "markdown",
   "id": "8e31bd89-dde1-4a3b-9bae-e330ba249962",
   "metadata": {},
   "source": [
    "Count-based scores: In count-based dimensions, the score represents the number of words or terms in the document that were found in a particular content analysis dictionary or dimension. For example, a score of 10 in a count-based dimension would indicate that 10 words in the document were matched to that specific dictionary or dimension.\n",
    "\n",
    "Numeric value scores: Some content analysis systems assign numeric scores to words or terms based on certain attributes, such as sentiment or emotion. In these cases, the score represents an aggregated measure of the assigned scores for the matched words or terms in the document. For example, a score of 3.5 could represent the average sentiment score of the words in the document that matched a sentiment analysis dictionary."
   ]
  },
  {
   "cell_type": "code",
   "execution_count": null,
   "id": "ab94d673-b13a-4fcb-b0e9-6fc770a1be3f",
   "metadata": {},
   "outputs": [],
   "source": [
    "import pandas as pd\n",
    "\n",
    "def parse_gcam_column(gcam_string):\n",
    "    gcam_entries = gcam_string.split(',')\n",
    "    gcam_data = []\n",
    "    word_count = 0\n",
    "\n",
    "    for entry in gcam_entries:\n",
    "        key, value = entry.split(':')\n",
    "\n",
    "        if key == 'wc':\n",
    "            word_count = int(value)\n",
    "        else:\n",
    "            if '.' in key:\n",
    "                dictionary_id, dimension_id = key.split('.')\n",
    "            else:\n",
    "                dictionary_id = key\n",
    "                dimension_id = ''\n",
    "\n",
    "            score = float(value)\n",
    "\n",
    "            gcam_data.append({\n",
    "                'DictionaryID': dictionary_id,\n",
    "                'DimensionID': dimension_id,\n",
    "                'Score': score\n",
    "            })\n",
    "\n",
    "    return pd.DataFrame(gcam_data), word_count\n",
    "\n",
    "\n",
    "gcam_string = df_gkg['GCAM'][0]\n",
    "gcam_data, word_count = parse_gcam_column(gcam_string)\n",
    "\n",
    "print(\"Word Count:\", word_count)\n",
    "\n",
    "# Print the extracted dimension information\n",
    "print(gcam_data)\n"
   ]
  },
  {
   "cell_type": "code",
   "execution_count": null,
   "id": "58d56898-1490-4342-a746-344587e4f536",
   "metadata": {},
   "outputs": [],
   "source": [
    "# do spertaely for c and v indexes and then have two columns in teh initial df of these \n",
    "# Would prob make more sense to pick one dict\n",
    "# aggregated_value = gcam_data['Score'].sum()\n",
    "aggregated_value = gcam_data['Score'].max()  # or min()\n",
    "\n"
   ]
  },
  {
   "cell_type": "code",
   "execution_count": null,
   "id": "25a58372-f0c4-45ba-a510-f42bc56bc971",
   "metadata": {},
   "outputs": [],
   "source": [
    "print(aggregated_value)"
   ]
  },
  {
   "cell_type": "code",
   "execution_count": null,
   "id": "86ae42f4-936c-4cf5-9040-444d65178adb",
   "metadata": {},
   "outputs": [],
   "source": [
    "\n",
    "# Read the codebook from the text file\n",
    "codebook_df = pd.read_csv('GCAM-MASTER-CODEBOOK.TXT', delimiter='\\t', encoding='latin-1')\n",
    "\n",
    "# Extract the relevant information from the codebook\n",
    "dictionary_ids = codebook_df['DictionaryID'].unique()\n",
    "dimension_ids = codebook_df['DimensionID'].unique()\n",
    "\n",
    "# Print the dictionary and dimension IDs along with their human-readable names\n",
    "# for dictionary_id in dictionary_ids:\n",
    "#     dictionary_name = codebook_df.loc[codebook_df['DictionaryID'] == dictionary_id, 'DictionaryHumanName'].iloc[0]\n",
    "#     print(f\"Dictionary ID: {dictionary_id} - Dictionary Name: {dictionary_name}\")\n",
    "#     dimensions = codebook_df.loc[codebook_df['DictionaryID'] == dictionary_id, ['DimensionID', 'DimensionHumanName']]\n",
    "#     for _, dimension in dimensions.iterrows():\n",
    "#         print(f\"    Dimension ID: {dimension['DimensionID']} - Dimension Name: {dimension['DimensionHumanName']}\")\n"
   ]
  },
  {
   "cell_type": "code",
   "execution_count": null,
   "id": "32d7e844-16e8-4c88-895e-399ddc645ff5",
   "metadata": {},
   "outputs": [],
   "source": [
    "\n",
    "\n",
    "# Read the codebook from the text file\n",
    "codebook_df = pd.read_csv('GCAM-MASTER-CODEBOOK.TXT', delimiter='\\t', encoding='latin-1')\n",
    "\n",
    "# Extract the relevant information from the codebook\n",
    "dictionary_ids = codebook_df['DictionaryID'].unique()\n",
    "dimension_ids = codebook_df['DimensionID'].unique()\n",
    "\n",
    "# Create an empty DataFrame to store the dictionary and dimension information\n",
    "dictionary_dim_df = pd.DataFrame(columns=['DictionaryID', 'DictionaryName', 'DimensionID', 'DimensionName'])\n",
    "\n",
    "# Iterate over the dictionary and dimension IDs and extract their names\n",
    "for dictionary_id in dictionary_ids:\n",
    "    dictionary_name = codebook_df.loc[codebook_df['DictionaryID'] == dictionary_id, 'DictionaryHumanName'].iloc[0]\n",
    "    dimensions = codebook_df.loc[codebook_df['DictionaryID'] == dictionary_id, ['DimensionID', 'DimensionHumanName']]\n",
    "    for _, dimension in dimensions.iterrows():\n",
    "        dimension_id = dimension['DimensionID']\n",
    "        dimension_name = dimension['DimensionHumanName']\n",
    "        row = {'DictionaryID': dictionary_id,\n",
    "               'DictionaryName': dictionary_name,\n",
    "               'DimensionID': dimension_id,\n",
    "               'DimensionName': dimension_name}\n",
    "        dictionary_dim_df = pd.concat([dictionary_dim_df, pd.DataFrame([row])], ignore_index=True)\n",
    "\n",
    "\n",
    "\n"
   ]
  },
  {
   "cell_type": "code",
   "execution_count": null,
   "id": "e07b7037-5ffb-40d5-9249-ffb893bb386a",
   "metadata": {},
   "outputs": [],
   "source": [
    "dictionary_dim_df.head()"
   ]
  },
  {
   "cell_type": "code",
   "execution_count": null,
   "id": "d375c3b0-313c-4d55-acac-0b79cd21ee48",
   "metadata": {},
   "outputs": [],
   "source": [
    "dictionary_dim_df.iloc[300]"
   ]
  },
  {
   "cell_type": "code",
   "execution_count": null,
   "id": "8f147f12-69be-4588-9979-0b6034b705f8",
   "metadata": {},
   "outputs": [],
   "source": [
    "dictionary_dim_df.head()"
   ]
  },
  {
   "cell_type": "markdown",
   "id": "b7e756d5-399c-41e3-b7af-6abc9a77f58f",
   "metadata": {},
   "source": [
    "Amounts (any numbers mentioned in the document) may be useful + quotatiions (what nlp should i do on this?)"
   ]
  },
  {
   "cell_type": "markdown",
   "id": "67cec170-6906-4037-bdf2-ac9af95d385c",
   "metadata": {
    "jp-MarkdownHeadingCollapsed": true,
    "tags": []
   },
   "source": [
    "# Events data"
   ]
  },
  {
   "cell_type": "code",
   "execution_count": 22,
   "id": "7f29ee86-4dd6-413d-aef1-45208fa60785",
   "metadata": {},
   "outputs": [],
   "source": [
    "df_events = df_events_contains14.copy()"
   ]
  },
  {
   "cell_type": "code",
   "execution_count": 23,
   "id": "1b750d51-b8eb-4bc8-b0b4-73729bc44851",
   "metadata": {},
   "outputs": [
    {
     "name": "stdout",
     "output_type": "stream",
     "text": [
      "<class 'pandas.core.frame.DataFrame'>\n",
      "Int64Index: 14588 entries, 384 to 499165\n",
      "Data columns (total 11 columns):\n",
      " #   Column                 Non-Null Count  Dtype  \n",
      "---  ------                 --------------  -----  \n",
      " 0   SQLDATE                14588 non-null  int64  \n",
      " 1   EventCode              14588 non-null  object \n",
      " 2   QuadClass              14588 non-null  int64  \n",
      " 3   GoldsteinScale         14588 non-null  float64\n",
      " 4   AvgTone                14588 non-null  float64\n",
      " 5   NumArticles            14588 non-null  int64  \n",
      " 6   ActionGeo_CountryCode  14588 non-null  object \n",
      " 7   IsRootEvent            14588 non-null  int64  \n",
      " 8   NumMentions            14588 non-null  int64  \n",
      " 9   Contains14sub          14588 non-null  int64  \n",
      " 10  Contains14             14588 non-null  int64  \n",
      "dtypes: float64(2), int64(7), object(2)\n",
      "memory usage: 1.3+ MB\n"
     ]
    }
   ],
   "source": [
    "df_events.info()"
   ]
  },
  {
   "cell_type": "code",
   "execution_count": 24,
   "id": "1d765c28-0e6f-4853-9149-c290663596e2",
   "metadata": {},
   "outputs": [
    {
     "data": {
      "text/plain": [
       "1    14588\n",
       "Name: IsRootEvent, dtype: int64"
      ]
     },
     "execution_count": 24,
     "metadata": {},
     "output_type": "execute_result"
    }
   ],
   "source": [
    "df_events['IsRootEvent'].value_counts()"
   ]
  },
  {
   "cell_type": "markdown",
   "id": "86a24931-0d10-4dc6-9343-5853995bd1bc",
   "metadata": {},
   "source": [
    "any event code with 14 in its first 2 digits is a protest event "
   ]
  },
  {
   "cell_type": "code",
   "execution_count": 25,
   "id": "b7b676bb-9073-469f-ba46-677441e1ccb0",
   "metadata": {},
   "outputs": [
    {
     "data": {
      "text/plain": [
       "<AxesSubplot: >"
      ]
     },
     "execution_count": 25,
     "metadata": {},
     "output_type": "execute_result"
    },
    {
     "data": {
      "image/png": "[encoded data removed]",
      "text/plain": [
       "<Figure size 640x480 with 1 Axes>"
      ]
     },
     "metadata": {},
     "output_type": "display_data"
    }
   ],
   "source": [
    "df_events['ActionGeo_CountryCode'].value_counts().plot()"
   ]
  },
  {
   "cell_type": "code",
   "execution_count": 145,
   "id": "54858ea2-4fdb-42b8-babe-4cf6b7196387",
   "metadata": {},
   "outputs": [
    {
     "data": {
      "text/plain": [
       "1    566771\n",
       "Name: IsRootEvent, dtype: int64"
      ]
     },
     "execution_count": 145,
     "metadata": {},
     "output_type": "execute_result"
    }
   ],
   "source": [
    "# Remove rows where 'isrootevent' column contains 0\n",
    "df_events = df_events[df_events['IsRootEvent'] != 0]\n",
    "df_events['IsRootEvent'].value_counts()"
   ]
  },
  {
   "cell_type": "code",
   "execution_count": 27,
   "id": "f87fad8b-6758-401f-bb76-6874090ffb78",
   "metadata": {},
   "outputs": [
    {
     "data": {
      "text/plain": [
       "0    13803\n",
       "1      785\n",
       "Name: Contains14, dtype: int64"
      ]
     },
     "execution_count": 27,
     "metadata": {},
     "output_type": "execute_result"
    }
   ],
   "source": [
    "df_events_contains14['Contains14'].value_counts()"
   ]
  },
  {
   "cell_type": "code",
   "execution_count": 28,
   "id": "39ea74ba-2e7f-451c-9d44-2b169cb117a9",
   "metadata": {},
   "outputs": [],
   "source": [
    "# df_events_protests['SQLDATE'].value_counts().sort_index().plot()"
   ]
  },
  {
   "cell_type": "code",
   "execution_count": 29,
   "id": "1574b7d5-14eb-4242-bfc4-4768c13c6825",
   "metadata": {},
   "outputs": [],
   "source": [
    "# Actor1Geo_CountryCode  "
   ]
  },
  {
   "cell_type": "code",
   "execution_count": 30,
   "id": "e733f0b8-2df9-433e-b196-b5f49d5ffa61",
   "metadata": {},
   "outputs": [
    {
     "data": {
      "text/plain": [
       "HK    14588\n",
       "Name: ActionGeo_CountryCode, dtype: int64"
      ]
     },
     "execution_count": 30,
     "metadata": {},
     "output_type": "execute_result"
    }
   ],
   "source": [
    "# Filtered by ActionGeo_CountryCode = FR\n",
    "df_events_contains14['ActionGeo_CountryCode'].value_counts()"
   ]
  },
  {
   "cell_type": "markdown",
   "id": "d8c3d922-bb27-44a1-992f-cd43c47e9bc3",
   "metadata": {},
   "source": [
    "Quad class: 1=Verbal Cooperation, 2=Material Cooperation, 3=Verbal Conflict, 4=Material Conflict"
   ]
  },
  {
   "cell_type": "code",
   "execution_count": 31,
   "id": "2c7b2d83-7beb-462a-83f3-142bf1f859d3",
   "metadata": {},
   "outputs": [
    {
     "data": {
      "text/plain": [
       "3    14588\n",
       "Name: QuadClass, dtype: int64"
      ]
     },
     "execution_count": 31,
     "metadata": {},
     "output_type": "execute_result"
    }
   ],
   "source": [
    "df_events_contains14['QuadClass'].value_counts()"
   ]
  },
  {
   "cell_type": "code",
   "execution_count": 32,
   "id": "742867b4-119e-4aa1-9123-f33be24258de",
   "metadata": {},
   "outputs": [],
   "source": [
    "# df_events['SOURCEURL'][10]"
   ]
  },
  {
   "cell_type": "code",
   "execution_count": 33,
   "id": "25306718-a4ec-4050-a764-15972d08657b",
   "metadata": {},
   "outputs": [],
   "source": [
    "# YYYY MM DD HH MM SS\n",
    "# Probably only want sensitivity up to a day no more - use SQLDATE\n",
    "# df_events['DATEADDED'][2500]\n",
    "# df_events['FractionDate'].value_counts().sort_index().plot()"
   ]
  },
  {
   "cell_type": "code",
   "execution_count": 34,
   "id": "778797f9-9308-40d0-b3c1-d32e0c93819b",
   "metadata": {},
   "outputs": [
    {
     "data": {
      "text/plain": [
       "<AxesSubplot: >"
      ]
     },
     "execution_count": 34,
     "metadata": {},
     "output_type": "execute_result"
    },
    {
     "data": {
      "image/png": "[encoded data removed]",
      "text/plain": [
       "<Figure size 640x480 with 1 Axes>"
      ]
     },
     "metadata": {},
     "output_type": "display_data"
    }
   ],
   "source": [
    "df_events_contains14['SQLDATE'].value_counts().sort_index().plot()"
   ]
  },
  {
   "cell_type": "code",
   "execution_count": 35,
   "id": "29fef38f-4675-43e7-844e-e7f77e0cf9ff",
   "metadata": {},
   "outputs": [
    {
     "data": {
      "text/plain": [
       "<AxesSubplot: >"
      ]
     },
     "execution_count": 35,
     "metadata": {},
     "output_type": "execute_result"
    },
    {
     "data": {
      "image/png": "[encoded data removed]",
      "text/plain": [
       "<Figure size 640x480 with 1 Axes>"
      ]
     },
     "metadata": {},
     "output_type": "display_data"
    }
   ],
   "source": [
    "df_events_contains14['GoldsteinScale'].value_counts().sort_index().plot()"
   ]
  },
  {
   "cell_type": "code",
   "execution_count": 36,
   "id": "fc868184-dd7f-4029-a9b4-58a5442578fe",
   "metadata": {},
   "outputs": [
    {
     "data": {
      "image/png": "[encoded data removed]",
      "text/plain": [
       "<Figure size 640x480 with 1 Axes>"
      ]
     },
     "metadata": {},
     "output_type": "display_data"
    }
   ],
   "source": [
    "df_events_contains14.boxplot(column='GoldsteinScale')\n",
    "\n",
    "plt.ylabel('Goldstein Scale')\n",
    "plt.title('Boxplot of Goldstein Scale')\n",
    "plt.show()"
   ]
  },
  {
   "cell_type": "code",
   "execution_count": 37,
   "id": "6388ce9f-86fc-40b4-ae9f-e3258eb27be9",
   "metadata": {},
   "outputs": [
    {
     "data": {
      "text/plain": [
       "20150102"
      ]
     },
     "execution_count": 37,
     "metadata": {},
     "output_type": "execute_result"
    }
   ],
   "source": [
    "# YYYY MM DD HH MM SS\n",
    "# Probably only want sensitivity up to a day no more - use SQLDATE\n",
    "# df_events['DATEADDED'][2500]\n",
    "df_events_contains14['SQLDATE'].min()"
   ]
  },
  {
   "cell_type": "code",
   "execution_count": 38,
   "id": "5bee97d9-9d3a-48d1-99c2-4d607ae761db",
   "metadata": {},
   "outputs": [],
   "source": [
    "def plot_counts(df, column_name, n):\n",
    "    value_counts = df[column_name].value_counts().head(n)\n",
    "\n",
    "    # Create a bar plot\n",
    "    plt.figure(figsize=(10, 6))\n",
    "    value_counts.plot(kind='bar')\n",
    "    plt.xlabel(column_name)\n",
    "    plt.ylabel('Occurrences')\n",
    "    plt.title('Top ' + str(n) +  ' Number of Occurrences of ' + column_name)\n",
    "    return plt.show()\n",
    "\n",
    "# plot_counts(df_events, 'Actor1Code', 10)\n",
    "# plot_counts(df_events, 'Actor1KnownGroupCode', 10)"
   ]
  },
  {
   "cell_type": "code",
   "execution_count": 39,
   "id": "344ce060-d7a1-468d-99bb-5aefce4b39a9",
   "metadata": {},
   "outputs": [],
   "source": [
    "# maybe filter by this root event to stop reoccurences\n",
    "# plot_counts(df_events,'Actor2Code',10)"
   ]
  },
  {
   "cell_type": "code",
   "execution_count": 40,
   "id": "c1d28f1e-5a24-4662-b123-cd579025e5ca",
   "metadata": {},
   "outputs": [],
   "source": [
    "# event code = 186?? assination attempt!?\n",
    "# maybe pick the more serious events and keep these rather than going through each ID \n",
    "# df_events.iloc[9999]['Actor2Code']\n"
   ]
  },
  {
   "cell_type": "code",
   "execution_count": 41,
   "id": "45c93c22-e493-491c-9f56-a8c0007d62d7",
   "metadata": {},
   "outputs": [],
   "source": [
    "# df_events['SQLDATE']"
   ]
  },
  {
   "cell_type": "code",
   "execution_count": 42,
   "id": "204140ce-5c87-472a-a6ca-5ce30fcfc6fd",
   "metadata": {},
   "outputs": [],
   "source": [
    "\n",
    "df_events_plotty = df_events_contains14.head(1000).copy()"
   ]
  },
  {
   "cell_type": "code",
   "execution_count": 43,
   "id": "eada4de6-4cbf-4ace-b0c0-6b368fb1f733",
   "metadata": {},
   "outputs": [
    {
     "data": {
      "text/html": [
       "<div>\n",
       "<style scoped>\n",
       "    .dataframe tbody tr th:only-of-type {\n",
       "        vertical-align: middle;\n",
       "    }\n",
       "\n",
       "    .dataframe tbody tr th {\n",
       "        vertical-align: top;\n",
       "    }\n",
       "\n",
       "    .dataframe thead th {\n",
       "        text-align: right;\n",
       "    }\n",
       "</style>\n",
       "<table border=\"1\" class=\"dataframe\">\n",
       "  <thead>\n",
       "    <tr style=\"text-align: right;\">\n",
       "      <th></th>\n",
       "      <th>SQLDATE</th>\n",
       "      <th>EventCode</th>\n",
       "      <th>QuadClass</th>\n",
       "      <th>GoldsteinScale</th>\n",
       "      <th>AvgTone</th>\n",
       "      <th>NumArticles</th>\n",
       "      <th>ActionGeo_CountryCode</th>\n",
       "      <th>IsRootEvent</th>\n",
       "      <th>NumMentions</th>\n",
       "      <th>Contains14sub</th>\n",
       "      <th>Contains14</th>\n",
       "    </tr>\n",
       "  </thead>\n",
       "  <tbody>\n",
       "    <tr>\n",
       "      <th>384</th>\n",
       "      <td>20170427</td>\n",
       "      <td>1412</td>\n",
       "      <td>3</td>\n",
       "      <td>-6.5</td>\n",
       "      <td>-5.015679</td>\n",
       "      <td>12</td>\n",
       "      <td>HK</td>\n",
       "      <td>1</td>\n",
       "      <td>12</td>\n",
       "      <td>1</td>\n",
       "      <td>1</td>\n",
       "    </tr>\n",
       "    <tr>\n",
       "      <th>1728</th>\n",
       "      <td>20171001</td>\n",
       "      <td>1411</td>\n",
       "      <td>3</td>\n",
       "      <td>-6.5</td>\n",
       "      <td>-1.256732</td>\n",
       "      <td>10</td>\n",
       "      <td>HK</td>\n",
       "      <td>1</td>\n",
       "      <td>10</td>\n",
       "      <td>1</td>\n",
       "      <td>0</td>\n",
       "    </tr>\n",
       "    <tr>\n",
       "      <th>2459</th>\n",
       "      <td>20170427</td>\n",
       "      <td>1412</td>\n",
       "      <td>3</td>\n",
       "      <td>-6.5</td>\n",
       "      <td>-10.185185</td>\n",
       "      <td>10</td>\n",
       "      <td>HK</td>\n",
       "      <td>1</td>\n",
       "      <td>10</td>\n",
       "      <td>1</td>\n",
       "      <td>0</td>\n",
       "    </tr>\n",
       "    <tr>\n",
       "      <th>3125</th>\n",
       "      <td>20161114</td>\n",
       "      <td>1411</td>\n",
       "      <td>3</td>\n",
       "      <td>-6.5</td>\n",
       "      <td>-0.131062</td>\n",
       "      <td>1</td>\n",
       "      <td>HK</td>\n",
       "      <td>1</td>\n",
       "      <td>1</td>\n",
       "      <td>1</td>\n",
       "      <td>0</td>\n",
       "    </tr>\n",
       "    <tr>\n",
       "      <th>3181</th>\n",
       "      <td>20171203</td>\n",
       "      <td>1413</td>\n",
       "      <td>3</td>\n",
       "      <td>-6.5</td>\n",
       "      <td>-5.087719</td>\n",
       "      <td>10</td>\n",
       "      <td>HK</td>\n",
       "      <td>1</td>\n",
       "      <td>10</td>\n",
       "      <td>1</td>\n",
       "      <td>0</td>\n",
       "    </tr>\n",
       "  </tbody>\n",
       "</table>\n",
       "</div>"
      ],
      "text/plain": [
       "       SQLDATE EventCode  QuadClass  GoldsteinScale    AvgTone  NumArticles  \\\n",
       "384   20170427      1412          3            -6.5  -5.015679           12   \n",
       "1728  20171001      1411          3            -6.5  -1.256732           10   \n",
       "2459  20170427      1412          3            -6.5 -10.185185           10   \n",
       "3125  20161114      1411          3            -6.5  -0.131062            1   \n",
       "3181  20171203      1413          3            -6.5  -5.087719           10   \n",
       "\n",
       "     ActionGeo_CountryCode  IsRootEvent  NumMentions  Contains14sub  \\\n",
       "384                     HK            1           12              1   \n",
       "1728                    HK            1           10              1   \n",
       "2459                    HK            1           10              1   \n",
       "3125                    HK            1            1              1   \n",
       "3181                    HK            1           10              1   \n",
       "\n",
       "      Contains14  \n",
       "384            1  \n",
       "1728           0  \n",
       "2459           0  \n",
       "3125           0  \n",
       "3181           0  "
      ]
     },
     "execution_count": 43,
     "metadata": {},
     "output_type": "execute_result"
    }
   ],
   "source": [
    "df_events_plotty.head()"
   ]
  },
  {
   "cell_type": "code",
   "execution_count": 44,
   "id": "286e55bd-63bf-4f5f-bded-f0550ae92066",
   "metadata": {},
   "outputs": [
    {
     "data": {
      "image/png": "[encoded data removed]",
      "text/plain": [
       "<Figure size 640x480 with 1 Axes>"
      ]
     },
     "metadata": {},
     "output_type": "display_data"
    }
   ],
   "source": [
    "\n",
    "# def plot_against_time(column_name, year, df):\n",
    "#     df.loc[:, 'SQLDATE'] = pd.to_datetime(df['SQLDATE'], format='%Y%m%d')\n",
    "#     df.sort_values('SQLDATE', inplace=True)\n",
    "\n",
    "#     # df['SQLDATE'] = pd.to_datetime(df['SQLDATE'], format='%Y%m%d')\n",
    "#     # df.sort_values('SQLDATE', inplace=True)\n",
    "\n",
    "#     # Filter the data for dates starting from 2023\n",
    "#     df_filtered = df[df['SQLDATE'].dt.year >= year]\n",
    "\n",
    "#     plt.plot(df_filtered['SQLDATE'], df_filtered[column_name])\n",
    "#     plt.xlabel('Date')\n",
    "#     plt.ylabel(column_name)\n",
    "#     plt.title('Distribution of {} over Time'.format(column_name))\n",
    "#     plt.grid(True)\n",
    "#     plt.xticks(rotation=45)\n",
    "\n",
    "#     return plt.show()\n",
    "\n",
    "def plot_against_time(column_name, year, df):\n",
    "    df_copy = df.copy()  # Make a copy of the DataFrame to avoid modifying the original\n",
    "    df_copy['SQLDATE'] = pd.to_datetime(df_copy['SQLDATE'], format='%Y%m%d')\n",
    "    df_copy.sort_values('SQLDATE', inplace=True)\n",
    "\n",
    "    # Filter the data for dates starting from the specified year\n",
    "    df_filtered = df_copy[df_copy['SQLDATE'].dt.year >= year]\n",
    "\n",
    "    plt.plot(df_filtered['SQLDATE'], df_filtered[column_name])\n",
    "    plt.xlabel('Date')\n",
    "    plt.ylabel(column_name)\n",
    "    plt.title('Distribution of {} over Time'.format(column_name))\n",
    "    plt.grid(True)\n",
    "    plt.xticks(rotation=45)\n",
    "\n",
    "    return plt.show()\n",
    "\n",
    "\n",
    "plot_against_time('GoldsteinScale', 2022, df_events_contains14)\n"
   ]
  },
  {
   "cell_type": "code",
   "execution_count": 45,
   "id": "873a9719-9584-49ec-94cc-504dd3bbfbc0",
   "metadata": {},
   "outputs": [
    {
     "data": {
      "image/png": "[encoded data removed]",
      "text/plain": [
       "<Figure size 640x480 with 1 Axes>"
      ]
     },
     "metadata": {},
     "output_type": "display_data"
    }
   ],
   "source": [
    "plot_against_time('GoldsteinScale', 2014, df_events_plotty)\n"
   ]
  },
  {
   "cell_type": "markdown",
   "id": "0c0c1cc4-d2b5-42a4-9d92-1c312c443c3c",
   "metadata": {},
   "source": [
    "Had to reduce the number of rows to 1000 in order to see a sensitivity as when all the data is used there are roughly 10,000,000 points "
   ]
  },
  {
   "cell_type": "code",
   "execution_count": 46,
   "id": "d579baf4-22c2-445a-a1a5-0c1f6a6f88ea",
   "metadata": {},
   "outputs": [
    {
     "data": {
      "image/png": "[encoded data removed]",
      "text/plain": [
       "<Figure size 640x480 with 1 Axes>"
      ]
     },
     "metadata": {},
     "output_type": "display_data"
    }
   ],
   "source": [
    "plot_against_time('QuadClass', 2022, df_events)"
   ]
  },
  {
   "cell_type": "code",
   "execution_count": 47,
   "id": "46d43c89-d51b-4e68-a3f8-a366e1d49dec",
   "metadata": {},
   "outputs": [
    {
     "data": {
      "image/png": "[encoded data removed]",
      "text/plain": [
       "<Figure size 640x480 with 1 Axes>"
      ]
     },
     "metadata": {},
     "output_type": "display_data"
    }
   ],
   "source": [
    "plot_against_time('QuadClass', 2014, df_events_plotty)"
   ]
  },
  {
   "cell_type": "code",
   "execution_count": 48,
   "id": "15d9b92a-9166-4ca4-af23-95b4e0863554",
   "metadata": {},
   "outputs": [
    {
     "data": {
      "text/plain": [
       "3    14588\n",
       "Name: QuadClass, dtype: int64"
      ]
     },
     "execution_count": 48,
     "metadata": {},
     "output_type": "execute_result"
    }
   ],
   "source": [
    "df_events_contains14['QuadClass'].value_counts()"
   ]
  },
  {
   "cell_type": "code",
   "execution_count": 49,
   "id": "66653f14-733d-4a3c-aac8-674785656b7b",
   "metadata": {},
   "outputs": [
    {
     "data": {
      "text/plain": [
       "141     14390\n",
       "1411      108\n",
       "1412       85\n",
       "1413        5\n",
       "Name: EventCode, dtype: int64"
      ]
     },
     "execution_count": 49,
     "metadata": {},
     "output_type": "execute_result"
    }
   ],
   "source": [
    "df_events_contains14['EventCode'].value_counts()"
   ]
  },
  {
   "cell_type": "code",
   "execution_count": 50,
   "id": "da5d6f4e-3576-4aa1-88cd-a191a4892edf",
   "metadata": {},
   "outputs": [
    {
     "data": {
      "image/png": "[encoded data removed]",
      "text/plain": [
       "<Figure size 640x480 with 1 Axes>"
      ]
     },
     "metadata": {},
     "output_type": "display_data"
    }
   ],
   "source": [
    "plot_against_time('EventCode', 2022, df_events_contains14)"
   ]
  },
  {
   "cell_type": "code",
   "execution_count": 51,
   "id": "00e19072-e7db-4989-af90-1445d66d46d3",
   "metadata": {},
   "outputs": [
    {
     "name": "stderr",
     "output_type": "stream",
     "text": [
      "/var/tmp/ipykernel_6519/1770004960.py:5: FutureWarning: The default value of numeric_only in DataFrame.corr is deprecated. In a future version, it will default to False. Select only valid columns or specify the value of numeric_only to silence this warning.\n",
      "  corr_matrix = df.corr()\n"
     ]
    },
    {
     "data": {
      "image/png": "[encoded data removed]",
      "text/plain": [
       "<Figure size 2000x2000 with 2 Axes>"
      ]
     },
     "metadata": {},
     "output_type": "display_data"
    }
   ],
   "source": [
    "\n",
    "\n",
    "# import seaborn as sns\n",
    "# import matplotlib.pyplot as plt\n",
    "def correlation_matrix_plot(df):\n",
    "    # Calculate correlation matrix\n",
    "    corr_matrix = df.corr()\n",
    "\n",
    "    # Set figure size\n",
    "    plt.figure(figsize=(20, 20))\n",
    "\n",
    "    # Generate heatmap with color-coded values\n",
    "    sns.heatmap(corr_matrix, annot=True, cmap='coolwarm', fmt=\".2f\")\n",
    "\n",
    "    # Rotate tick labels for better visibility\n",
    "    plt.xticks(rotation=45)\n",
    "    plt.yticks(rotation=0)\n",
    "\n",
    "    # Add title and adjust padding\n",
    "    plt.title('Correlation Matrix', pad=20)\n",
    "\n",
    "    # Adjust margins\n",
    "    plt.tight_layout()\n",
    "\n",
    "    # Display the plot\n",
    "    return plt.show()\n",
    "\n",
    "correlation_matrix_plot(df_events)\n"
   ]
  },
  {
   "cell_type": "code",
   "execution_count": 52,
   "id": "db6c8ff4-1ccb-415e-bd70-1d3fa22ddcdc",
   "metadata": {},
   "outputs": [
    {
     "data": {
      "text/html": [
       "<div>\n",
       "<style scoped>\n",
       "    .dataframe tbody tr th:only-of-type {\n",
       "        vertical-align: middle;\n",
       "    }\n",
       "\n",
       "    .dataframe tbody tr th {\n",
       "        vertical-align: top;\n",
       "    }\n",
       "\n",
       "    .dataframe thead th {\n",
       "        text-align: right;\n",
       "    }\n",
       "</style>\n",
       "<table border=\"1\" class=\"dataframe\">\n",
       "  <thead>\n",
       "    <tr style=\"text-align: right;\">\n",
       "      <th></th>\n",
       "      <th>SQLDATE</th>\n",
       "      <th>EventCode</th>\n",
       "      <th>QuadClass</th>\n",
       "      <th>GoldsteinScale</th>\n",
       "      <th>AvgTone</th>\n",
       "      <th>NumArticles</th>\n",
       "      <th>ActionGeo_CountryCode</th>\n",
       "      <th>IsRootEvent</th>\n",
       "      <th>NumMentions</th>\n",
       "      <th>Contains14sub</th>\n",
       "      <th>Contains14</th>\n",
       "    </tr>\n",
       "  </thead>\n",
       "  <tbody>\n",
       "    <tr>\n",
       "      <th>384</th>\n",
       "      <td>20170427</td>\n",
       "      <td>1412</td>\n",
       "      <td>3</td>\n",
       "      <td>-6.5</td>\n",
       "      <td>-5.015679</td>\n",
       "      <td>12</td>\n",
       "      <td>HK</td>\n",
       "      <td>1</td>\n",
       "      <td>12</td>\n",
       "      <td>1</td>\n",
       "      <td>1</td>\n",
       "    </tr>\n",
       "    <tr>\n",
       "      <th>1728</th>\n",
       "      <td>20171001</td>\n",
       "      <td>1411</td>\n",
       "      <td>3</td>\n",
       "      <td>-6.5</td>\n",
       "      <td>-1.256732</td>\n",
       "      <td>10</td>\n",
       "      <td>HK</td>\n",
       "      <td>1</td>\n",
       "      <td>10</td>\n",
       "      <td>1</td>\n",
       "      <td>0</td>\n",
       "    </tr>\n",
       "    <tr>\n",
       "      <th>2459</th>\n",
       "      <td>20170427</td>\n",
       "      <td>1412</td>\n",
       "      <td>3</td>\n",
       "      <td>-6.5</td>\n",
       "      <td>-10.185185</td>\n",
       "      <td>10</td>\n",
       "      <td>HK</td>\n",
       "      <td>1</td>\n",
       "      <td>10</td>\n",
       "      <td>1</td>\n",
       "      <td>0</td>\n",
       "    </tr>\n",
       "    <tr>\n",
       "      <th>3125</th>\n",
       "      <td>20161114</td>\n",
       "      <td>1411</td>\n",
       "      <td>3</td>\n",
       "      <td>-6.5</td>\n",
       "      <td>-0.131062</td>\n",
       "      <td>1</td>\n",
       "      <td>HK</td>\n",
       "      <td>1</td>\n",
       "      <td>1</td>\n",
       "      <td>1</td>\n",
       "      <td>0</td>\n",
       "    </tr>\n",
       "    <tr>\n",
       "      <th>3181</th>\n",
       "      <td>20171203</td>\n",
       "      <td>1413</td>\n",
       "      <td>3</td>\n",
       "      <td>-6.5</td>\n",
       "      <td>-5.087719</td>\n",
       "      <td>10</td>\n",
       "      <td>HK</td>\n",
       "      <td>1</td>\n",
       "      <td>10</td>\n",
       "      <td>1</td>\n",
       "      <td>0</td>\n",
       "    </tr>\n",
       "  </tbody>\n",
       "</table>\n",
       "</div>"
      ],
      "text/plain": [
       "       SQLDATE EventCode  QuadClass  GoldsteinScale    AvgTone  NumArticles  \\\n",
       "384   20170427      1412          3            -6.5  -5.015679           12   \n",
       "1728  20171001      1411          3            -6.5  -1.256732           10   \n",
       "2459  20170427      1412          3            -6.5 -10.185185           10   \n",
       "3125  20161114      1411          3            -6.5  -0.131062            1   \n",
       "3181  20171203      1413          3            -6.5  -5.087719           10   \n",
       "\n",
       "     ActionGeo_CountryCode  IsRootEvent  NumMentions  Contains14sub  \\\n",
       "384                     HK            1           12              1   \n",
       "1728                    HK            1           10              1   \n",
       "2459                    HK            1           10              1   \n",
       "3125                    HK            1            1              1   \n",
       "3181                    HK            1           10              1   \n",
       "\n",
       "      Contains14  \n",
       "384            1  \n",
       "1728           0  \n",
       "2459           0  \n",
       "3125           0  \n",
       "3181           0  "
      ]
     },
     "execution_count": 52,
     "metadata": {},
     "output_type": "execute_result"
    }
   ],
   "source": [
    "df_events.head()\n"
   ]
  },
  {
   "cell_type": "code",
   "execution_count": 38,
   "id": "684609b6-481b-4d4c-821d-c40f6cc85c50",
   "metadata": {},
   "outputs": [
    {
     "ename": "type",
     "evalue": "name 'df_gkg' is not defined",
     "output_type": "error",
     "traceback": [
      "\u001b[0;31m---------------------------------------------------------------------------\u001b[0m",
      "\u001b[0;31mNameError\u001b[0m                                 Traceback (most recent call last)",
      "Cell \u001b[0;32mIn[38], line 1\u001b[0m\n\u001b[0;32m----> 1\u001b[0m \u001b[43mdf_gkg\u001b[49m\u001b[38;5;241m.\u001b[39mhead()\n",
      "\u001b[0;31mNameError\u001b[0m: name 'df_gkg' is not defined"
     ]
    }
   ],
   "source": [
    "df_gkg.head()"
   ]
  },
  {
   "cell_type": "markdown",
   "id": "260cd824-b435-4edd-a633-2368950c6acc",
   "metadata": {},
   "source": [
    "Modify the time that records the events"
   ]
  },
  {
   "cell_type": "code",
   "execution_count": null,
   "id": "5258253e-1fdd-4c90-9eab-7f9a9c0b972e",
   "metadata": {},
   "outputs": [],
   "source": [
    "# Create a new column with modified information\n",
    "df_gkg['Modified_GKGRECORDID'] = df_gkg['GKGRECORDID'].str.split('-').str[0]\n",
    "\n",
    "print(df_gkg['Modified_GKGRECORDID'].min())\n",
    "print(df_gkg['Modified_GKGRECORDID'].max())\n"
   ]
  },
  {
   "cell_type": "code",
   "execution_count": null,
   "id": "554118d1-d547-489a-88c2-279837ac6fa4",
   "metadata": {},
   "outputs": [],
   "source": [
    "# df_events['DATEADDED'][0]"
   ]
  },
  {
   "cell_type": "code",
   "execution_count": null,
   "id": "af309480-d6cf-4b0b-9969-d858b6dca81b",
   "metadata": {},
   "outputs": [],
   "source": [
    "# df_test = df_events.copy()\n",
    "# df_test['DATEADDED'] = pd.to_datetime(df_test['DATEADDED'], format='%Y%m%d%H%M%S')\n",
    "# df_test['DATEADDED'] = df_test['DATEADDED'].dt.strftime('%Y%m%d')"
   ]
  },
  {
   "cell_type": "code",
   "execution_count": null,
   "id": "fc540e73-8e29-4918-b5bc-1fee9dbd8b8a",
   "metadata": {},
   "outputs": [],
   "source": [
    "# df_test['DATEADDED'].value_counts().sort_index().plot()\n",
    "# plt.xlabel('DATEADDED')\n",
    "# plt.ylabel('Count')\n",
    "# plt.title('Frequency of DATEADDED')\n",
    "# plt.show()\n"
   ]
  },
  {
   "cell_type": "code",
   "execution_count": null,
   "id": "8ae420cc-0739-4e23-94cd-29c60117f0e9",
   "metadata": {},
   "outputs": [],
   "source": [
    "print(df_events['SQLDATE'].max())\n",
    "print(df_events['SQLDATE'].min())"
   ]
  },
  {
   "cell_type": "markdown",
   "id": "6d878a05-7176-437d-b297-c4ec07b1160a",
   "metadata": {
    "tags": []
   },
   "source": [
    "\n",
    "# Process data new (START)"
   ]
  },
  {
   "cell_type": "code",
   "execution_count": null,
   "id": "603cdde8-c309-4cbb-9434-9f4412237feb",
   "metadata": {},
   "outputs": [],
   "source": [
    "# df_events_contains14.to_csv('events_FR_SP_AG_L_YM_cleaned_13_17_18_19_20.csv', index=False)"
   ]
  },
  {
   "cell_type": "markdown",
   "id": "e3940f9c-bd84-4fa5-bdcd-895b9509fe42",
   "metadata": {},
   "source": [
    "Import data"
   ]
  },
  {
   "cell_type": "code",
   "execution_count": 30,
   "id": "9abd40f6-d6fb-4c14-835c-90b9acc87422",
   "metadata": {},
   "outputs": [],
   "source": [
    "# df_events_contains14 = pd.read_csv('events_FR_SP_AG_L_YM_cleaned.csv', encoding='utf8', dtype={'EventCode': str})\n",
    "# df_events_contains14 = pd.read_csv('events_IS_cleaned.csv', encoding='utf8', dtype={'EventCode': str})"
   ]
  },
  {
   "cell_type": "code",
   "execution_count": 76,
   "id": "db03b557-cb19-44b6-80c9-d7c638a1fa09",
   "metadata": {},
   "outputs": [
    {
     "data": {
      "text/plain": [
       "HK    14588\n",
       "Name: ActionGeo_CountryCode, dtype: int64"
      ]
     },
     "execution_count": 76,
     "metadata": {},
     "output_type": "execute_result"
    }
   ],
   "source": [
    "df_events_contains14['ActionGeo_CountryCode'].value_counts()"
   ]
  },
  {
   "cell_type": "code",
   "execution_count": 77,
   "id": "2bb1df95-cf0e-4c2b-b955-a2576d14cf32",
   "metadata": {},
   "outputs": [
    {
     "data": {
      "text/html": [
       "<div>\n",
       "<style scoped>\n",
       "    .dataframe tbody tr th:only-of-type {\n",
       "        vertical-align: middle;\n",
       "    }\n",
       "\n",
       "    .dataframe tbody tr th {\n",
       "        vertical-align: top;\n",
       "    }\n",
       "\n",
       "    .dataframe thead th {\n",
       "        text-align: right;\n",
       "    }\n",
       "</style>\n",
       "<table border=\"1\" class=\"dataframe\">\n",
       "  <thead>\n",
       "    <tr style=\"text-align: right;\">\n",
       "      <th></th>\n",
       "      <th>SQLDATE</th>\n",
       "      <th>EventCode</th>\n",
       "      <th>QuadClass</th>\n",
       "      <th>GoldsteinScale</th>\n",
       "      <th>AvgTone</th>\n",
       "      <th>NumArticles</th>\n",
       "      <th>ActionGeo_CountryCode</th>\n",
       "      <th>IsRootEvent</th>\n",
       "      <th>NumMentions</th>\n",
       "      <th>Contains14sub</th>\n",
       "      <th>Contains14</th>\n",
       "    </tr>\n",
       "  </thead>\n",
       "  <tbody>\n",
       "    <tr>\n",
       "      <th>576</th>\n",
       "      <td>20170427</td>\n",
       "      <td>1412</td>\n",
       "      <td>3</td>\n",
       "      <td>-6.5</td>\n",
       "      <td>-5.015679</td>\n",
       "      <td>12</td>\n",
       "      <td>HK</td>\n",
       "      <td>1</td>\n",
       "      <td>12</td>\n",
       "      <td>1</td>\n",
       "      <td>1</td>\n",
       "    </tr>\n",
       "    <tr>\n",
       "      <th>1850</th>\n",
       "      <td>20171001</td>\n",
       "      <td>1411</td>\n",
       "      <td>3</td>\n",
       "      <td>-6.5</td>\n",
       "      <td>-1.256732</td>\n",
       "      <td>10</td>\n",
       "      <td>HK</td>\n",
       "      <td>1</td>\n",
       "      <td>10</td>\n",
       "      <td>1</td>\n",
       "      <td>0</td>\n",
       "    </tr>\n",
       "    <tr>\n",
       "      <th>2029</th>\n",
       "      <td>20161114</td>\n",
       "      <td>1411</td>\n",
       "      <td>3</td>\n",
       "      <td>-6.5</td>\n",
       "      <td>-0.131062</td>\n",
       "      <td>1</td>\n",
       "      <td>HK</td>\n",
       "      <td>1</td>\n",
       "      <td>1</td>\n",
       "      <td>1</td>\n",
       "      <td>0</td>\n",
       "    </tr>\n",
       "    <tr>\n",
       "      <th>4947</th>\n",
       "      <td>20170427</td>\n",
       "      <td>1412</td>\n",
       "      <td>3</td>\n",
       "      <td>-6.5</td>\n",
       "      <td>-10.185185</td>\n",
       "      <td>10</td>\n",
       "      <td>HK</td>\n",
       "      <td>1</td>\n",
       "      <td>10</td>\n",
       "      <td>1</td>\n",
       "      <td>0</td>\n",
       "    </tr>\n",
       "    <tr>\n",
       "      <th>5839</th>\n",
       "      <td>20171204</td>\n",
       "      <td>1413</td>\n",
       "      <td>3</td>\n",
       "      <td>-6.5</td>\n",
       "      <td>-5.508475</td>\n",
       "      <td>10</td>\n",
       "      <td>HK</td>\n",
       "      <td>1</td>\n",
       "      <td>10</td>\n",
       "      <td>1</td>\n",
       "      <td>0</td>\n",
       "    </tr>\n",
       "  </tbody>\n",
       "</table>\n",
       "</div>"
      ],
      "text/plain": [
       "       SQLDATE EventCode  QuadClass  GoldsteinScale    AvgTone  NumArticles  \\\n",
       "576   20170427      1412          3            -6.5  -5.015679           12   \n",
       "1850  20171001      1411          3            -6.5  -1.256732           10   \n",
       "2029  20161114      1411          3            -6.5  -0.131062            1   \n",
       "4947  20170427      1412          3            -6.5 -10.185185           10   \n",
       "5839  20171204      1413          3            -6.5  -5.508475           10   \n",
       "\n",
       "     ActionGeo_CountryCode  IsRootEvent  NumMentions  Contains14sub  \\\n",
       "576                     HK            1           12              1   \n",
       "1850                    HK            1           10              1   \n",
       "2029                    HK            1            1              1   \n",
       "4947                    HK            1           10              1   \n",
       "5839                    HK            1           10              1   \n",
       "\n",
       "      Contains14  \n",
       "576            1  \n",
       "1850           0  \n",
       "2029           0  \n",
       "4947           0  \n",
       "5839           0  "
      ]
     },
     "execution_count": 77,
     "metadata": {},
     "output_type": "execute_result"
    }
   ],
   "source": [
    "df_events_contains14.head()"
   ]
  },
  {
   "cell_type": "code",
   "execution_count": 78,
   "id": "d8056cdb-96e8-4b65-8f59-645b094382ba",
   "metadata": {},
   "outputs": [],
   "source": [
    "# df_events_contains14.to_csv('events_FR_SP_AG_L_YM_cleaned_18_19_20.csv', index=False)"
   ]
  },
  {
   "cell_type": "code",
   "execution_count": 79,
   "id": "b6a20f24-378f-4a11-9e60-55a743bfc8d5",
   "metadata": {},
   "outputs": [
    {
     "data": {
      "text/plain": [
       "0    14023\n",
       "1      565\n",
       "Name: Contains14, dtype: int64"
      ]
     },
     "execution_count": 79,
     "metadata": {},
     "output_type": "execute_result"
    }
   ],
   "source": [
    "df_events_contains14['Contains14'].value_counts()"
   ]
  },
  {
   "cell_type": "code",
   "execution_count": 80,
   "id": "9bceaef9-61dc-432f-b47b-8fae9a2d2bb4",
   "metadata": {},
   "outputs": [],
   "source": [
    "from sklearn.utils import resample\n"
   ]
  },
  {
   "cell_type": "markdown",
   "id": "cd4b031c-005e-408d-812c-dbf843922ad8",
   "metadata": {},
   "source": [
    "The process data function ensures each row is a unique date for a specfic country."
   ]
  },
  {
   "cell_type": "code",
   "execution_count": 81,
   "id": "25413e2a-be83-4143-adc6-58c2951509bc",
   "metadata": {},
   "outputs": [
    {
     "name": "stderr",
     "output_type": "stream",
     "text": [
      "/var/tmp/ipykernel_7114/4036219549.py:5: SettingWithCopyWarning: \n",
      "A value is trying to be set on a copy of a slice from a DataFrame\n",
      "\n",
      "See the caveats in the documentation: https://pandas.pydata.org/pandas-docs/stable/user_guide/indexing.html#returning-a-view-versus-a-copy\n",
      "  unique_dates_df.drop('IsRootEvent', axis=1, inplace=True)\n"
     ]
    }
   ],
   "source": [
    "def process_data(df):\n",
    "    unique_dates_df = df.copy()\n",
    "    # unique_dates_df = df.drop_duplicates(subset='SQLDATE')\n",
    "    unique_dates_df = df.drop_duplicates(subset=['SQLDATE', 'ActionGeo_CountryCode'])\n",
    "    unique_dates_df.drop('IsRootEvent', axis=1, inplace=True)\n",
    "    # unique_dates_df.drop('IsRootEvent', axis=1, inplace=True)\n",
    "    unique_dates_df = unique_dates_df.sort_index()\n",
    "    unique_dates_df.sort_values(by='SQLDATE', inplace=True)\n",
    "    # df_upsampled = df_upsampled.sort_index()\n",
    "    \n",
    "    return unique_dates_df\n",
    "\n",
    "unique_dates_df = process_data(df_events_contains14)\n",
    "\n",
    "\n",
    "    "
   ]
  },
  {
   "cell_type": "code",
   "execution_count": 82,
   "id": "29881750-10de-4f14-8eb7-35c2462f5f6a",
   "metadata": {},
   "outputs": [
    {
     "data": {
      "text/plain": [
       "0    2048\n",
       "1      62\n",
       "Name: Contains14, dtype: int64"
      ]
     },
     "execution_count": 82,
     "metadata": {},
     "output_type": "execute_result"
    }
   ],
   "source": [
    "unique_dates_df['Contains14'].value_counts()"
   ]
  },
  {
   "cell_type": "code",
   "execution_count": 83,
   "id": "e8b4510b-774b-41f3-89ab-897612fc5c0f",
   "metadata": {},
   "outputs": [
    {
     "data": {
      "text/html": [
       "<div>\n",
       "<style scoped>\n",
       "    .dataframe tbody tr th:only-of-type {\n",
       "        vertical-align: middle;\n",
       "    }\n",
       "\n",
       "    .dataframe tbody tr th {\n",
       "        vertical-align: top;\n",
       "    }\n",
       "\n",
       "    .dataframe thead th {\n",
       "        text-align: right;\n",
       "    }\n",
       "</style>\n",
       "<table border=\"1\" class=\"dataframe\">\n",
       "  <thead>\n",
       "    <tr style=\"text-align: right;\">\n",
       "      <th></th>\n",
       "      <th>SQLDATE</th>\n",
       "      <th>EventCode</th>\n",
       "      <th>QuadClass</th>\n",
       "      <th>GoldsteinScale</th>\n",
       "      <th>AvgTone</th>\n",
       "      <th>NumArticles</th>\n",
       "      <th>ActionGeo_CountryCode</th>\n",
       "      <th>IsRootEvent</th>\n",
       "      <th>NumMentions</th>\n",
       "      <th>Contains14sub</th>\n",
       "      <th>Contains14</th>\n",
       "    </tr>\n",
       "  </thead>\n",
       "  <tbody>\n",
       "    <tr>\n",
       "      <th>576</th>\n",
       "      <td>20170427</td>\n",
       "      <td>1412</td>\n",
       "      <td>3</td>\n",
       "      <td>-6.5</td>\n",
       "      <td>-5.015679</td>\n",
       "      <td>12</td>\n",
       "      <td>HK</td>\n",
       "      <td>1</td>\n",
       "      <td>12</td>\n",
       "      <td>1</td>\n",
       "      <td>1</td>\n",
       "    </tr>\n",
       "    <tr>\n",
       "      <th>1850</th>\n",
       "      <td>20171001</td>\n",
       "      <td>1411</td>\n",
       "      <td>3</td>\n",
       "      <td>-6.5</td>\n",
       "      <td>-1.256732</td>\n",
       "      <td>10</td>\n",
       "      <td>HK</td>\n",
       "      <td>1</td>\n",
       "      <td>10</td>\n",
       "      <td>1</td>\n",
       "      <td>0</td>\n",
       "    </tr>\n",
       "    <tr>\n",
       "      <th>2029</th>\n",
       "      <td>20161114</td>\n",
       "      <td>1411</td>\n",
       "      <td>3</td>\n",
       "      <td>-6.5</td>\n",
       "      <td>-0.131062</td>\n",
       "      <td>1</td>\n",
       "      <td>HK</td>\n",
       "      <td>1</td>\n",
       "      <td>1</td>\n",
       "      <td>1</td>\n",
       "      <td>0</td>\n",
       "    </tr>\n",
       "    <tr>\n",
       "      <th>4947</th>\n",
       "      <td>20170427</td>\n",
       "      <td>1412</td>\n",
       "      <td>3</td>\n",
       "      <td>-6.5</td>\n",
       "      <td>-10.185185</td>\n",
       "      <td>10</td>\n",
       "      <td>HK</td>\n",
       "      <td>1</td>\n",
       "      <td>10</td>\n",
       "      <td>1</td>\n",
       "      <td>0</td>\n",
       "    </tr>\n",
       "    <tr>\n",
       "      <th>5839</th>\n",
       "      <td>20171204</td>\n",
       "      <td>1413</td>\n",
       "      <td>3</td>\n",
       "      <td>-6.5</td>\n",
       "      <td>-5.508475</td>\n",
       "      <td>10</td>\n",
       "      <td>HK</td>\n",
       "      <td>1</td>\n",
       "      <td>10</td>\n",
       "      <td>1</td>\n",
       "      <td>0</td>\n",
       "    </tr>\n",
       "  </tbody>\n",
       "</table>\n",
       "</div>"
      ],
      "text/plain": [
       "       SQLDATE EventCode  QuadClass  GoldsteinScale    AvgTone  NumArticles  \\\n",
       "576   20170427      1412          3            -6.5  -5.015679           12   \n",
       "1850  20171001      1411          3            -6.5  -1.256732           10   \n",
       "2029  20161114      1411          3            -6.5  -0.131062            1   \n",
       "4947  20170427      1412          3            -6.5 -10.185185           10   \n",
       "5839  20171204      1413          3            -6.5  -5.508475           10   \n",
       "\n",
       "     ActionGeo_CountryCode  IsRootEvent  NumMentions  Contains14sub  \\\n",
       "576                     HK            1           12              1   \n",
       "1850                    HK            1           10              1   \n",
       "2029                    HK            1            1              1   \n",
       "4947                    HK            1           10              1   \n",
       "5839                    HK            1           10              1   \n",
       "\n",
       "      Contains14  \n",
       "576            1  \n",
       "1850           0  \n",
       "2029           0  \n",
       "4947           0  \n",
       "5839           0  "
      ]
     },
     "execution_count": 83,
     "metadata": {},
     "output_type": "execute_result"
    }
   ],
   "source": [
    "df_events_contains14.head()"
   ]
  },
  {
   "cell_type": "code",
   "execution_count": 84,
   "id": "87e0e4e7-e37c-4a5e-9a73-055fa95080bf",
   "metadata": {},
   "outputs": [
    {
     "data": {
      "text/plain": [
       "3    14588\n",
       "Name: QuadClass, dtype: int64"
      ]
     },
     "execution_count": 84,
     "metadata": {},
     "output_type": "execute_result"
    }
   ],
   "source": [
    "df_events_contains14['QuadClass'].value_counts()"
   ]
  },
  {
   "cell_type": "code",
   "execution_count": 85,
   "id": "44165188-037b-481e-a830-04277e2bed8b",
   "metadata": {},
   "outputs": [
    {
     "ename": "type",
     "evalue": "name 'correlation_matrix_plot' is not defined",
     "output_type": "error",
     "traceback": [
      "\u001b[0;31m---------------------------------------------------------------------------\u001b[0m",
      "\u001b[0;31mNameError\u001b[0m                                 Traceback (most recent call last)",
      "Cell \u001b[0;32mIn[85], line 1\u001b[0m\n\u001b[0;32m----> 1\u001b[0m \u001b[43mcorrelation_matrix_plot\u001b[49m(df_events_contains14)\n",
      "\u001b[0;31mNameError\u001b[0m: name 'correlation_matrix_plot' is not defined"
     ]
    }
   ],
   "source": [
    "correlation_matrix_plot(df_events_contains14)"
   ]
  },
  {
   "cell_type": "code",
   "execution_count": 86,
   "id": "10a3109b-3419-4512-8c5d-23e990ac6201",
   "metadata": {},
   "outputs": [
    {
     "data": {
      "text/plain": [
       "0    2048\n",
       "1      62\n",
       "Name: Contains14, dtype: int64"
      ]
     },
     "execution_count": 86,
     "metadata": {},
     "output_type": "execute_result"
    }
   ],
   "source": [
    "unique_dates_df['Contains14'].value_counts()"
   ]
  },
  {
   "cell_type": "code",
   "execution_count": 87,
   "id": "dc6d105d-2667-438f-9550-0813957c6427",
   "metadata": {},
   "outputs": [
    {
     "data": {
      "text/html": [
       "<div>\n",
       "<style scoped>\n",
       "    .dataframe tbody tr th:only-of-type {\n",
       "        vertical-align: middle;\n",
       "    }\n",
       "\n",
       "    .dataframe tbody tr th {\n",
       "        vertical-align: top;\n",
       "    }\n",
       "\n",
       "    .dataframe thead th {\n",
       "        text-align: right;\n",
       "    }\n",
       "</style>\n",
       "<table border=\"1\" class=\"dataframe\">\n",
       "  <thead>\n",
       "    <tr style=\"text-align: right;\">\n",
       "      <th></th>\n",
       "      <th>SQLDATE</th>\n",
       "      <th>EventCode</th>\n",
       "      <th>QuadClass</th>\n",
       "      <th>GoldsteinScale</th>\n",
       "      <th>AvgTone</th>\n",
       "      <th>NumArticles</th>\n",
       "      <th>ActionGeo_CountryCode</th>\n",
       "      <th>NumMentions</th>\n",
       "      <th>Contains14sub</th>\n",
       "      <th>Contains14</th>\n",
       "    </tr>\n",
       "  </thead>\n",
       "  <tbody>\n",
       "    <tr>\n",
       "      <th>496787</th>\n",
       "      <td>20150102</td>\n",
       "      <td>141</td>\n",
       "      <td>3</td>\n",
       "      <td>-6.5</td>\n",
       "      <td>-2.594340</td>\n",
       "      <td>2</td>\n",
       "      <td>HK</td>\n",
       "      <td>2</td>\n",
       "      <td>1</td>\n",
       "      <td>0</td>\n",
       "    </tr>\n",
       "    <tr>\n",
       "      <th>495647</th>\n",
       "      <td>20150111</td>\n",
       "      <td>141</td>\n",
       "      <td>3</td>\n",
       "      <td>-6.5</td>\n",
       "      <td>-3.607214</td>\n",
       "      <td>10</td>\n",
       "      <td>HK</td>\n",
       "      <td>10</td>\n",
       "      <td>1</td>\n",
       "      <td>0</td>\n",
       "    </tr>\n",
       "    <tr>\n",
       "      <th>488533</th>\n",
       "      <td>20150112</td>\n",
       "      <td>141</td>\n",
       "      <td>3</td>\n",
       "      <td>-6.5</td>\n",
       "      <td>-5.568445</td>\n",
       "      <td>20</td>\n",
       "      <td>HK</td>\n",
       "      <td>20</td>\n",
       "      <td>1</td>\n",
       "      <td>1</td>\n",
       "    </tr>\n",
       "    <tr>\n",
       "      <th>498671</th>\n",
       "      <td>20150113</td>\n",
       "      <td>141</td>\n",
       "      <td>3</td>\n",
       "      <td>-6.5</td>\n",
       "      <td>-1.229508</td>\n",
       "      <td>10</td>\n",
       "      <td>HK</td>\n",
       "      <td>10</td>\n",
       "      <td>1</td>\n",
       "      <td>0</td>\n",
       "    </tr>\n",
       "    <tr>\n",
       "      <th>490033</th>\n",
       "      <td>20150219</td>\n",
       "      <td>141</td>\n",
       "      <td>3</td>\n",
       "      <td>-6.5</td>\n",
       "      <td>-3.543307</td>\n",
       "      <td>1</td>\n",
       "      <td>HK</td>\n",
       "      <td>1</td>\n",
       "      <td>1</td>\n",
       "      <td>0</td>\n",
       "    </tr>\n",
       "  </tbody>\n",
       "</table>\n",
       "</div>"
      ],
      "text/plain": [
       "         SQLDATE EventCode  QuadClass  GoldsteinScale   AvgTone  NumArticles  \\\n",
       "496787  20150102       141          3            -6.5 -2.594340            2   \n",
       "495647  20150111       141          3            -6.5 -3.607214           10   \n",
       "488533  20150112       141          3            -6.5 -5.568445           20   \n",
       "498671  20150113       141          3            -6.5 -1.229508           10   \n",
       "490033  20150219       141          3            -6.5 -3.543307            1   \n",
       "\n",
       "       ActionGeo_CountryCode  NumMentions  Contains14sub  Contains14  \n",
       "496787                    HK            2              1           0  \n",
       "495647                    HK           10              1           0  \n",
       "488533                    HK           20              1           1  \n",
       "498671                    HK           10              1           0  \n",
       "490033                    HK            1              1           0  "
      ]
     },
     "execution_count": 87,
     "metadata": {},
     "output_type": "execute_result"
    }
   ],
   "source": [
    "unique_dates_df.head()"
   ]
  },
  {
   "cell_type": "code",
   "execution_count": null,
   "id": "14820b48-9a77-4fab-8234-88a8cf7e0929",
   "metadata": {},
   "outputs": [],
   "source": [
    "# from statsmodels.graphics.tsaplots import plot_acf\n",
    "# import matplotlib.pyplot as plt\n",
    "\n",
    "# # Generate the autocorrelation plot\n",
    "# fig, ax = plt.subplots()\n",
    "# plot_acf(df_downsampled['Contains14'], lags=10, ax=ax)\n",
    "\n",
    "# # Extract the y-values (autocorrelation values)\n",
    "# y_values = ax.lines[1].get_ydata()\n",
    "# x_values = ax.lines[1].get_xdata()\n",
    "\n",
    "# d = {'x_values': x_values, 'y_values': y_values}\n",
    "# plot_data = pd.DataFrame(data=d)\n",
    "# plot_data = plot_data.drop(0)\n",
    "# # plot_data = pd.DataFrame(x_values, y_values)\n",
    "# # Print the y-values\n",
    "# # print(y_values[1:].max())\n",
    "# # print(plot_data.head())\n",
    "# plot_data['x_values'][plot_data['y_values'].idxmax()]\n"
   ]
  },
  {
   "cell_type": "markdown",
   "id": "096cebf4-2b7c-4910-9cb1-78a98cad09fc",
   "metadata": {
    "jp-MarkdownHeadingCollapsed": true,
    "tags": []
   },
   "source": [
    "# Test model (IGNORE)"
   ]
  },
  {
   "cell_type": "code",
   "execution_count": 49,
   "id": "4461d5d6-4d45-46e6-8b6b-30e8b36f1dbe",
   "metadata": {},
   "outputs": [],
   "source": [
    "import matplotlib.pyplot as plt\n",
    "import numpy as np\n",
    "import pandas as pd\n",
    "import torch\n",
    "import torch.nn as nn\n",
    "\n",
    "import torch.optim as optim\n",
    "import torch.utils.data as data"
   ]
  },
  {
   "cell_type": "code",
   "execution_count": 50,
   "id": "083a1848-7205-4903-9470-a2b4da07b692",
   "metadata": {},
   "outputs": [
    {
     "ename": "type",
     "evalue": "name 'df_events_combine' is not defined",
     "output_type": "error",
     "traceback": [
      "\u001b[0;31m---------------------------------------------------------------------------\u001b[0m",
      "\u001b[0;31mNameError\u001b[0m                                 Traceback (most recent call last)",
      "Cell \u001b[0;32mIn[50], line 2\u001b[0m\n\u001b[1;32m      1\u001b[0m \u001b[38;5;66;03m# df = df_events_combine[['SQLDATE','protest']]\u001b[39;00m\n\u001b[0;32m----> 2\u001b[0m df \u001b[38;5;241m=\u001b[39m \u001b[43mdf_events_combine\u001b[49m\u001b[38;5;241m.\u001b[39mloc[:, (\u001b[38;5;124m'\u001b[39m\u001b[38;5;124mSQLDATE\u001b[39m\u001b[38;5;124m'\u001b[39m, \u001b[38;5;124m'\u001b[39m\u001b[38;5;124mContains14\u001b[39m\u001b[38;5;124m'\u001b[39m)]\n\u001b[1;32m      3\u001b[0m df\u001b[38;5;241m.\u001b[39mhead()\n",
      "\u001b[0;31mNameError\u001b[0m: name 'df_events_combine' is not defined"
     ]
    }
   ],
   "source": [
    "# df = df_events_combine[['SQLDATE','protest']]\n",
    "df = df_events_combine.loc[:, ('SQLDATE', 'Contains14')]\n",
    "df.head()"
   ]
  },
  {
   "cell_type": "code",
   "execution_count": null,
   "id": "968129c2-7b7a-49d7-89fa-8ca953068530",
   "metadata": {},
   "outputs": [],
   "source": [
    "df['protest'].value_counts()"
   ]
  },
  {
   "cell_type": "code",
   "execution_count": null,
   "id": "de293e39-52aa-4af6-b0c4-32c32c0b3462",
   "metadata": {},
   "outputs": [],
   "source": [
    "# df = pd.read_csv('airline-passengers.csv')\n",
    "\n",
    "# # assuming the date column in your csv file is called 'Date'\n",
    "df['SQLDATE'] = pd.to_datetime(df['SQLDATE'])\n",
    "df.set_index('SQLDATE', inplace=True)\n",
    "\n",
    "timeseries = df.copy()\n",
    "\n",
    "\n",
    "# train-test split for time series\n",
    "train_size = int(len(timeseries) * 0.67)\n",
    "test_size = len(timeseries) - train_size\n",
    "train, test = timeseries[:train_size], timeseries[train_size:]\n",
    "train = train.astype(np.float32)\n",
    "test = test.astype(np.float32)"
   ]
  },
  {
   "cell_type": "code",
   "execution_count": null,
   "id": "457bb9ec-9d08-4cc1-ac71-f6586ae4aa50",
   "metadata": {},
   "outputs": [],
   "source": [
    "def create_dataset(dataset, lookback, n_future):\n",
    "    X, y = [], []\n",
    "    for i in range(len(dataset)-lookback-n_future+1):\n",
    "        feature = dataset.iloc[i:i+lookback].values\n",
    "        target = dataset.iloc[i+lookback:i+lookback+n_future].values\n",
    "        X.append(feature)\n",
    "        y.append(target)\n",
    "    return torch.tensor(X).float(), torch.tensor(y).view(-1, n_future).float() # reshape y into (batch_size, n_future)\n",
    "\n",
    "\n",
    "lookback = 2\n",
    "n_future = 2\n",
    "X_train, y_train = create_dataset(train, lookback=lookback, n_future=n_future)\n",
    "X_test, y_test = create_dataset(test, lookback=lookback, n_future=n_future)"
   ]
  },
  {
   "cell_type": "code",
   "execution_count": null,
   "id": "e5a7de20-51bc-4bd2-a7e2-a4c034c1d014",
   "metadata": {},
   "outputs": [],
   "source": [
    "y_test.size()"
   ]
  },
  {
   "cell_type": "code",
   "execution_count": null,
   "id": "06040c09-353c-4c73-b362-ff2c9ba84a5b",
   "metadata": {},
   "outputs": [],
   "source": [
    "class AirModel(nn.Module):\n",
    "    def __init__(self):\n",
    "        super().__init__()\n",
    "        self.lstm = nn.LSTM(input_size=1, hidden_size=50, num_layers=1, batch_first=True)\n",
    "        self.linear = nn.Linear(50, n_future) # adjust the output size to match n_future\n",
    "    def forward(self, x):\n",
    "        x, _ = self.lstm(x)\n",
    "        x = self.linear(x[:, -1, :]) # only consider the last output of LSTM for prediction\n",
    "        return x"
   ]
  },
  {
   "cell_type": "code",
   "execution_count": null,
   "id": "b6b1697f-bf02-4bee-9868-f1a4fc254eee",
   "metadata": {},
   "outputs": [],
   "source": [
    "model = AirModel()\n",
    "optimizer = optim.Adam(model.parameters())\n",
    "loss_fn = nn.MSELoss()\n",
    "loader = data.DataLoader(data.TensorDataset(X_train, y_train), shuffle=True, batch_size=1000)\n",
    "\n",
    "n_epochs = 2000\n",
    "for epoch in range(n_epochs):\n",
    "    model.train()\n",
    "    for X_batch, y_batch in loader:\n",
    "        y_pred = model(X_batch)\n",
    "        # print(y_pred.size(), y_batch.size())\n",
    "        loss = loss_fn(y_pred, y_batch)\n",
    "        optimizer.zero_grad()\n",
    "        loss.backward()\n",
    "        optimizer.step()\n",
    "    # Validation\n",
    "    if epoch % 100 != 0:\n",
    "        continue\n",
    "    model.eval()\n",
    "    with torch.no_grad():\n",
    "        y_pred = model(X_train)\n",
    "        train_rmse = torch.sqrt(loss_fn(y_pred, y_train))\n",
    "        y_pred = model(X_test)\n",
    "        test_rmse = torch.sqrt(loss_fn(y_pred, y_test))\n",
    "    print(\"Epoch %d: train RMSE %.4f, test RMSE %.4f\" % (epoch, train_rmse, test_rmse))"
   ]
  },
  {
   "cell_type": "code",
   "execution_count": null,
   "id": "14cce227-2196-4d98-b13c-a7593f3ce65c",
   "metadata": {},
   "outputs": [],
   "source": [
    "with torch.no_grad():\n",
    "    train_pred = model(X_train)\n",
    "    test_pred = model(X_test)\n",
    "    \n",
    "# converting predictions to numpy\n",
    "train_pred = train_pred.cpu().detach().numpy()\n",
    "test_pred = test_pred.cpu().detach().numpy()\n",
    "\n",
    "train_pred = train_pred.squeeze()\n",
    "test_pred = test_pred.squeeze()\n",
    "\n",
    "\n",
    "\n",
    "train_true = y_train.cpu().numpy()\n",
    "test_true = y_test.cpu().numpy()\n"
   ]
  },
  {
   "cell_type": "code",
   "execution_count": null,
   "id": "c87e0de7-78ca-4a35-a55a-a6ab0e185643",
   "metadata": {},
   "outputs": [],
   "source": [
    "# Adjusted start points for train and test data\n",
    "train_start = lookback\n",
    "test_start = len(train_pred) + lookback + n_future\n",
    "\n",
    "# Create corresponding date indices for train and test predictions\n",
    "train_pred_index = df.index[train_start:train_start + len(train_pred)]\n",
    "test_pred_index = df.index[test_start:test_start + len(test_pred)]\n",
    "\n",
    "# create new pandas dataframe for each future point\n",
    "for i in range(n_future):\n",
    "    print(i)\n",
    "    train_pred_df = pd.DataFrame(train_pred[:, i], index=train_pred_index, columns=[f'Train Prediction {i+1}'])\n",
    "    test_pred_df = pd.DataFrame(test_pred[:, i], index=test_pred_index, columns=[f'Test Prediction {i+1}'])\n",
    "    \n",
    "    # plot the original data and the training and test predictions\n",
    "    plt.figure(figsize=(12, 6))\n",
    "    plt.plot(df, label='Original data')\n",
    "    plt.plot(train_pred_df, label=f'Train Prediction {i+1}')\n",
    "    plt.plot(test_pred_df, label=f'Test Prediction {i+1}')\n",
    "    plt.xlabel(\"Date\")\n",
    "    plt.ylabel(\"Passengers\")\n",
    "    plt.title(f\"Predicted vs Actual Airline Passengers for Prediction {i+1}\")\n",
    "    plt.legend()\n",
    "    plt.show()\n"
   ]
  },
  {
   "cell_type": "markdown",
   "id": "403733ae-438b-4447-9872-fa8ad0d94fb9",
   "metadata": {},
   "source": [
    "Why are multiple graphs outputed? \n",
    "\n",
    "for example, the model is trained on n_lookback = 2 and n_future = 2. The models performance metric is calcualted based on this. The plot just say how does this model predict for 1 day in the future and the 2nd day in the future. **The performance score is based only for n_future = 2**."
   ]
  },
  {
   "cell_type": "code",
   "execution_count": null,
   "id": "9ca51dc0-20a0-40f9-b593-5d57daa79d88",
   "metadata": {},
   "outputs": [],
   "source": [
    "import matplotlib.pyplot as plt\n",
    "import pandas as pd\n",
    "\n",
    "# Adjusted start points for train and test data\n",
    "train_start = lookback\n",
    "test_start = len(train_pred) + lookback + n_future\n",
    "\n",
    "# Create corresponding date indices for train and test predictions\n",
    "train_pred_index = df.index[train_start:train_start + len(train_pred)]\n",
    "test_pred_index = df.index[test_start:test_start + len(test_pred)]\n",
    "\n",
    "# Create new pandas dataframe for each future point\n",
    "for i in range(n_future):\n",
    "    print(i)\n",
    "    train_pred_df = pd.DataFrame(train_pred[:, i], index=train_pred_index, columns=[f'Train Prediction {i+1}'])\n",
    "    test_pred_df = pd.DataFrame(test_pred[:, i], index=test_pred_index, columns=[f'Test Prediction {i+1}'])\n",
    "    \n",
    "    # Plot the original data and the training and test predictions\n",
    "    plt.figure(figsize=(12, 6))\n",
    "    plt.scatter(df.index, df['protest'], label='Original data', marker='o')\n",
    "    plt.scatter(train_pred_df.index, train_pred_df[f'Train Prediction {i+1}'], label=f'Train Prediction {i+1}', marker='x')\n",
    "    plt.scatter(test_pred_df.index, test_pred_df[f'Test Prediction {i+1}'], label=f'Test Prediction {i+1}', marker='x')\n",
    "    plt.xlabel(\"Date\")\n",
    "    plt.ylabel(\"Passengers\")\n",
    "    plt.title(f\"Predicted vs Actual Airline Passengers for Prediction {i+1}\")\n",
    "    plt.legend()\n",
    "    plt.show()\n"
   ]
  },
  {
   "cell_type": "markdown",
   "id": "62bd87a8-874d-4b90-bdef-0a866170dde0",
   "metadata": {
    "jp-MarkdownHeadingCollapsed": true,
    "tags": []
   },
   "source": [
    "# Test model LSTM classification (IGNORE)"
   ]
  },
  {
   "cell_type": "code",
   "execution_count": null,
   "id": "aadb6798-c80c-4591-ac2d-7b51358299ef",
   "metadata": {},
   "outputs": [],
   "source": [
    "unique_dates_df.head()"
   ]
  },
  {
   "cell_type": "code",
   "execution_count": null,
   "id": "1c053649-a81d-4c59-9307-5254f343fa52",
   "metadata": {},
   "outputs": [],
   "source": [
    "from sklearn.metrics import accuracy_score, f1_score, confusion_matrix, precision_score, recall_score\n",
    "import matplotlib.pyplot as plt\n",
    "import numpy as np\n",
    "import pandas as pd\n",
    "import torch\n",
    "import torch.nn as nn\n",
    "\n",
    "import torch.optim as optim\n",
    "import torch.utils.data as data"
   ]
  },
  {
   "cell_type": "code",
   "execution_count": null,
   "id": "92a95e18-4b0b-4f1b-8f6b-9b88b17d61c6",
   "metadata": {},
   "outputs": [],
   "source": [
    "lstm_data = unique_dates_df.copy()\n",
    "# lstm_data = df_downsampled.copy()\n",
    "lstm_data = lstm_data[['SQLDATE','QuadClass','GoldsteinScale','AvgTone','NumArticles','Contains14']]  \n",
    "lstm_data.set_index('SQLDATE')"
   ]
  },
  {
   "cell_type": "code",
   "execution_count": null,
   "id": "19e573bc-0da9-477e-84f6-0ecc81940392",
   "metadata": {},
   "outputs": [],
   "source": [
    "# lstm_data.head()"
   ]
  },
  {
   "cell_type": "code",
   "execution_count": null,
   "id": "a34791b8-b760-4409-8f06-b3aa36cc437e",
   "metadata": {},
   "outputs": [],
   "source": [
    "# df = pd.read_csv('airline-passengers.csv')\n",
    "\n",
    "# # assuming the date column in your csv file is called 'Date'\n",
    "# df['SQLDATE'] = pd.to_datetime(df['SQLDATE'])\n",
    "# df.set_index('SQLDATE', inplace=True)\n",
    "\n",
    "timeseries = lstm_data.copy()\n",
    "# timeseries = df_downsampled.copy()\n",
    "\n",
    "\n",
    "# train-test split for time series\n",
    "train_size = int(len(timeseries) * 0.67)\n",
    "test_size = len(timeseries) - train_size\n",
    "train, test = timeseries[:train_size], timeseries[train_size:]\n",
    "train = train.astype(np.float32)\n",
    "test = test.astype(np.float32)"
   ]
  },
  {
   "cell_type": "code",
   "execution_count": null,
   "id": "e71be31f-db2d-4521-b64a-53c0a27d8e79",
   "metadata": {},
   "outputs": [],
   "source": [
    "train.shape[0]"
   ]
  },
  {
   "cell_type": "code",
   "execution_count": null,
   "id": "a7d8beca-44c4-4097-a38c-f597cc2bb85c",
   "metadata": {},
   "outputs": [],
   "source": [
    "def create_dataset(dataset, lookback, n_future, target_col):\n",
    "    data = dataset.values\n",
    "    X, y = [], []\n",
    "    \n",
    "    target_index = dataset.columns.get_loc(target_col)\n",
    "    \n",
    "    for i in range(len(dataset) - lookback - n_future + 1):\n",
    "        feature = data[i:i+lookback]\n",
    "        target = data[i+lookback:i+lookback+n_future, target_index]\n",
    "        X.append(feature)\n",
    "        y.append(target)\n",
    "    \n",
    "    X = np.array(X)\n",
    "    y = np.array(y)\n",
    "    \n",
    "    return torch.from_numpy(X).float(), torch.from_numpy(y).float().view(-1, n_future)\n"
   ]
  },
  {
   "cell_type": "code",
   "execution_count": null,
   "id": "b239bd47-13b7-4ae9-9e49-a90e91fceee8",
   "metadata": {},
   "outputs": [],
   "source": [
    "target_col = 'Contains14'  # Specify the name of the target column\n",
    "lookback = 80\n",
    "n_future = 1\n",
    "X_train, y_train = create_dataset(train, lookback=lookback, n_future=n_future, target_col=target_col)\n",
    "X_test, y_test = create_dataset(test, lookback=lookback, n_future=n_future, target_col=target_col)\n",
    "\n",
    "n_features = X_train.size()[2]\n"
   ]
  },
  {
   "cell_type": "code",
   "execution_count": null,
   "id": "70b900a1-168f-478b-a975-80286f12552b",
   "metadata": {},
   "outputs": [],
   "source": [
    "# def create_dataset(dataset, lookback, n_future):\n",
    "#     data = dataset.values\n",
    "#     X, y = [], []\n",
    "    \n",
    "#     for i in range(len(dataset) - lookback - n_future + 1):\n",
    "#         feature = data[i:i+lookback]\n",
    "#         target = data[i+lookback:i+lookback+n_future]\n",
    "#         X.append(feature)\n",
    "#         # print(X)\n",
    "#         y.append(target)\n",
    "#         # print(y)\n",
    "    \n",
    "#     X = np.array(X)\n",
    "#     y = np.array(y)\n",
    "    \n",
    "#     return torch.from_numpy(X).float(), torch.from_numpy(y).float().view(-1, n_future)\n",
    "\n",
    "# lookback = 3\n",
    "# n_future = 1\n",
    "# # num_classes = 2\n",
    "# X_train, y_train = create_dataset(train, lookback=lookback, n_future=n_future)\n",
    "# X_test, y_test = create_dataset(test, lookback=lookback, n_future=n_future)\n"
   ]
  },
  {
   "cell_type": "code",
   "execution_count": null,
   "id": "f0ab6e14-b232-496f-9c05-e590aff7dcad",
   "metadata": {},
   "outputs": [],
   "source": [
    "# print(y_test.tolist())"
   ]
  },
  {
   "cell_type": "code",
   "execution_count": null,
   "id": "f4946bca-a2fa-4847-a4bd-460efd58ccbc",
   "metadata": {},
   "outputs": [],
   "source": [
    "print(X_train.shape)\n",
    "print(y_train.shape)\n",
    "print(X_test.shape)\n",
    "print(y_test.shape)"
   ]
  },
  {
   "cell_type": "code",
   "execution_count": null,
   "id": "3b283323-3bfe-4a2f-b8ec-a9d211a083c8",
   "metadata": {},
   "outputs": [],
   "source": [
    "\n",
    "# def create_dataset(dataset, lookback, n_future):\n",
    "#     X = np.empty((len(dataset) - lookback - n_future + 1, lookback, dataset.shape[1]))\n",
    "#     y = np.empty((len(dataset) - lookback - n_future + 1, n_future, dataset.shape[1]))\n",
    "\n",
    "#     for i in range(len(dataset) - lookback - n_future + 1):\n",
    "#         feature = dataset[i : i + lookback]\n",
    "#         target = dataset[i + lookback : i + lookback + n_future]\n",
    "\n",
    "#         X[i] = feature\n",
    "#         y[i] = target\n",
    "\n",
    "#     return torch.tensor(X).float(), torch.tensor(y).view(-1, n_future, dataset.shape[1]).float()\n",
    "\n",
    "\n",
    "# lookback = 2\n",
    "# n_future = 2\n",
    "\n",
    "# # Convert train and test DataFrames to NumPy arrays\n",
    "# train_array = train.values\n",
    "# test_array = test.values\n",
    "\n",
    "# X_train, y_train = create_dataset(train_array, lookback=lookback, n_future=n_future)\n",
    "# X_test, y_test = create_dataset(test_array, lookback=lookback, n_future=n_future)"
   ]
  },
  {
   "cell_type": "code",
   "execution_count": null,
   "id": "c0f196ce-f66d-4a77-8af8-fe852dbf862e",
   "metadata": {},
   "outputs": [],
   "source": [
    "# def create_dataset(dataset, lookback, n_future):\n",
    "#     X, y = [], []\n",
    "#     for i in range(len(dataset)-lookback-n_future+1):\n",
    "#         feature = dataset.iloc[i:i+lookback].values\n",
    "#         target = dataset.iloc[i+lookback:i+lookback+n_future].values\n",
    "#         X.append(feature)\n",
    "#         y.append(target)\n",
    "#     return torch.tensor(X).float(), torch.tensor(y).view(-1, n_future).float() # reshape y into (batch_size, n_future)\n",
    "\n",
    "\n",
    "# lookback = 2\n",
    "# n_future = 2\n",
    "# # num_classes = 2\n",
    "# X_train, y_train = create_dataset(train, lookback=lookback, n_future=n_future)\n",
    "# X_test, y_test = create_dataset(test, lookback=lookback, n_future=n_future)"
   ]
  },
  {
   "cell_type": "code",
   "execution_count": null,
   "id": "83d97df9-6811-4b0b-acf5-2dbb4e25c038",
   "metadata": {},
   "outputs": [],
   "source": [
    "y_test.size()\n",
    "y_train.size()\n",
    "X_train.size()"
   ]
  },
  {
   "cell_type": "code",
   "execution_count": null,
   "id": "deb1a18a-bf72-47ba-8899-7d2da41394f0",
   "metadata": {},
   "outputs": [],
   "source": [
    "type(X_train.size()[2])"
   ]
  },
  {
   "cell_type": "code",
   "execution_count": null,
   "id": "477acc74-d6d3-47c4-8c47-590792ddfc39",
   "metadata": {},
   "outputs": [],
   "source": [
    "class AirModel(nn.Module):\n",
    "    def __init__(self):\n",
    "        super().__init__()\n",
    "        # self.lstm = nn.LSTM(input_size=1, hidden_size=50, num_layers=1, batch_first=True) \n",
    "        self.lstm = nn.LSTM(input_size=n_features, hidden_size=50, num_layers=1, batch_first=True)\n",
    "        # self.dropout = nn.Dropout(0.1)\n",
    "        self.linear = nn.Linear(50, n_future) # adjust the output size to match n_future\n",
    "        # self.linear = nn.Linear(50, num_classes)\n",
    "        # self.softmax = nn.softmax(dim=1)\n",
    "    def forward(self, x):\n",
    "        x, _ = self.lstm(x)\n",
    "        # x = self.dropout(x)\n",
    "        x = self.linear(x[:, -1, :]) # only consider the last output of LSTM for prediction\n",
    "        return x"
   ]
  },
  {
   "cell_type": "code",
   "execution_count": null,
   "id": "b7c02d78-15d8-47be-8546-c95586ccb34b",
   "metadata": {},
   "outputs": [],
   "source": [
    "# model = AirModel()\n",
    "# # weight decay = l2 - model is very sensitive to this - bets so far 0.0005 - TUNE THIS PARAM\n",
    "# # optimizer = optim.Adam(model.parameters(), weight_decay=0.0005)\n",
    "# optimizer = optim.Adam(model.parameters(), weight_decay=0.001)\n",
    "# # optimizer = optim.Adam(model.parameters())\n",
    "# loss_fn = nn.BCEWithLogitsLoss()\n",
    "# # imbalance_ratio = 10\n",
    "# # class_weights = torch.tensor([imbalance_ratio])  # imbalance_ratio = (number of majority samples) / (number of minority samples)\n",
    "# # loss_fn = nn.BCEWithLogitsLoss(weight=class_weights)\n",
    "# loader = data.DataLoader(data.TensorDataset(X_train, y_train), shuffle=True, batch_size=16)\n",
    "\n",
    "# n_epochs = 1000\n",
    "# early_stopping_patience = 10000  # Number of epochs to wait for improvement in validation loss\n",
    "# best_loss = float(0.00001)\n",
    "# best_epoch = 0\n",
    "# stop_training = False\n",
    "\n",
    "# for epoch in range(n_epochs):\n",
    "#     model.train()\n",
    "#     for X_batch, y_batch in loader:\n",
    "#         y_pred = model(X_batch)\n",
    "#         loss = loss_fn(y_pred, y_batch)\n",
    "#         optimizer.zero_grad()\n",
    "#         loss.backward()\n",
    "#         optimizer.step()\n",
    "\n",
    "#     # Validation\n",
    "#     if epoch % 100 != 0:\n",
    "#         continue\n",
    "#     model.eval()\n",
    "#     with torch.no_grad():\n",
    "#         y_pred = model(X_train)\n",
    "#         train_preds = torch.round(torch.sigmoid(y_pred))\n",
    "#         train_loss = loss_fn(y_pred, y_train)\n",
    "#         train_acc = accuracy_score(y_train, train_preds)\n",
    "#         train_f1 = f1_score(y_train, train_preds)\n",
    "        \n",
    "#         y_pred = model(X_test)\n",
    "#         test_preds = torch.round(torch.sigmoid(y_pred))\n",
    "#         test_loss = loss_fn(y_pred, y_test)\n",
    "#         test_acc = accuracy_score(y_test, test_preds)\n",
    "#         test_f1 = f1_score(y_test, test_preds)\n",
    "\n",
    "\n",
    "#     print(\"Epoch %d: train loss %.4f, train accuracy %.4f, train F1 score %.4f, test loss %.4f, test accuracy %.4f, test F1 score %.4f\" % (epoch, train_loss, train_acc, train_f1, test_loss, test_acc, test_f1))\n",
    "\n",
    "#     # Check if test loss has improved\n",
    "#     if test_loss < best_loss:\n",
    "#         best_loss = test_loss\n",
    "#         best_epoch = epoch\n",
    "#         stop_training = False\n",
    "#     else:\n",
    "#         stop_training = True\n",
    "\n",
    "#     # Early stopping condition\n",
    "#     if stop_training and (epoch - best_epoch) >= early_stopping_patience:\n",
    "#         print(\"Early stopping at epoch %d\" % epoch)\n",
    "#         break\n",
    "# confusion_mat = confusion_matrix(y_test, test_preds)\n",
    "# print(\"Confusion Matrix:\")\n",
    "# print(confusion_mat)\n"
   ]
  },
  {
   "cell_type": "code",
   "execution_count": null,
   "id": "ca371d52-73c8-4cc7-a68e-531a94ce2683",
   "metadata": {},
   "outputs": [],
   "source": [
    "majority_class_count = unique_dates_df['Contains14'].value_counts().values[0]\n",
    "minority_class_count = unique_dates_df['Contains14'].value_counts().values[1]\n",
    "imbalance_ratio = majority_class_count/minority_class_count\n",
    "print(imbalance_ratio)"
   ]
  },
  {
   "cell_type": "code",
   "execution_count": null,
   "id": "8cfba5df-6f88-4194-898b-4df70480d251",
   "metadata": {},
   "outputs": [],
   "source": [
    "metrics_list = []\n",
    "threshold = 0.5  # Custom threshold value between 0 and 1\n",
    "model = AirModel()\n",
    "optimizer = optim.Adam(model.parameters(), weight_decay=0.01)\n",
    "# optimizer = optim.SGD(model.parameters(), lr=0.1, weight_decay=-0.01)\n",
    "# loss_fn = nn.BCEWithLogitsLoss()\n",
    "\n",
    "# imbalance_ratio = 14\n",
    "# imbalance_ratio = (number of majority samples) / (number of minority samples)\n",
    "class_weights = torch.tensor([imbalance_ratio])  # imbalance_ratio = (number of majority samples) / (number of minority samples)\n",
    "loss_fn = nn.BCEWithLogitsLoss(weight=class_weights)\n",
    "\n",
    "loader = data.DataLoader(data.TensorDataset(X_train, y_train), shuffle=True, batch_size=64)\n",
    "\n",
    "n_epochs = 500\n",
    "early_stopping_patience = 10000  # Number of steps to wait for improvement in validation loss\n",
    "best_loss = float('inf')\n",
    "best_epoch = 0\n",
    "stop_training = False\n",
    "no_improvement_count = 0\n",
    "\n",
    "for epoch in range(n_epochs):\n",
    "    model.train()\n",
    "    for X_batch, y_batch in loader:\n",
    "        y_pred = model(X_batch)\n",
    "        loss = loss_fn(y_pred, y_batch)\n",
    "        optimizer.zero_grad()\n",
    "        loss.backward()\n",
    "        optimizer.step()\n",
    "\n",
    "    # Validation\n",
    "    if epoch % 100 != 0:\n",
    "        continue\n",
    "    model.eval()\n",
    "    with torch.no_grad():\n",
    "        y_pred = model(X_train)\n",
    "        # train_preds = torch.round(torch.sigmoid(y_pred))\n",
    "        \n",
    "        \n",
    "        \n",
    "\n",
    "        sigmoid_output = torch.sigmoid(y_pred)\n",
    "        train_preds = (sigmoid_output >= threshold).float()\n",
    "        train_preds = torch.round(train_preds)\n",
    "\n",
    "\n",
    "        \n",
    "        train_loss = loss_fn(y_pred, y_train)\n",
    "        train_acc = accuracy_score(y_train, train_preds)\n",
    "        if n_future > 1:\n",
    "            train_f1 = f1_score(y_train, train_preds, average = 'weighted')\n",
    "            train_precision = precision_score(y_train, train_preds, average = 'weighted')\n",
    "            train_recall = recall_score(y_train, train_preds, average = 'weighted')\n",
    "        else:\n",
    "            train_f1 = f1_score(y_train, train_preds)\n",
    "            train_precision = precision_score(y_train, train_preds)\n",
    "            train_recall = recall_score(y_train, train_preds)\n",
    "        \n",
    "        y_pred = model(X_test)\n",
    "        # test_preds = torch.round(torch.sigmoid(y_pred))\n",
    "\n",
    "        sigmoid_output = torch.sigmoid(y_pred)\n",
    "        test_preds = (sigmoid_output >= threshold).float()\n",
    "        test_preds = torch.round(test_preds)\n",
    "\n",
    "        \n",
    "        test_loss = loss_fn(y_pred, y_test)\n",
    "        test_acc = accuracy_score(y_test, test_preds)\n",
    "        if n_future > 1:\n",
    "            test_f1 = f1_score(y_test, test_preds, average = 'weighted')\n",
    "            test_precision = precision_score(y_test, test_preds, average = 'weighted')\n",
    "            test_recall = recall_score(y_test, test_preds, average = 'weighted')\n",
    "        else:\n",
    "            test_f1 = f1_score(y_test, test_preds)\n",
    "            test_precision = precision_score(y_test, test_preds)\n",
    "            test_recall = recall_score(y_test, test_preds)\n",
    "    \n",
    "    metrics_dict = {'Epoch': epoch, \n",
    "                    'Train Loss': train_loss.item(), 'Train Accuracy': train_acc, \n",
    "                    'Train Precision': train_precision, 'Train Recall': train_recall,\n",
    "                    'Train F1 Score': train_f1,\n",
    "                    'Test Loss': test_loss.item(), 'Test Accuracy': test_acc, \n",
    "                    'Test Precision': test_precision, 'Test Recall': test_recall,\n",
    "                    'Test F1 Score': test_f1}\n",
    "    metrics_list.append(metrics_dict)\n",
    "\n",
    "    print(\"Epoch %d: train loss %.4f, train accuracy %.4f, train F1 score %.4f, test loss %.4f, test accuracy %.4f, test F1 score %.4f\" % (epoch, train_loss, train_acc, train_f1, test_loss, test_acc, test_f1))\n",
    "\n",
    "    # Check if test loss has improved\n",
    "    if test_loss < best_loss:\n",
    "        best_loss = test_loss\n",
    "        best_epoch = epoch\n",
    "        no_improvement_count = 0\n",
    "    else:\n",
    "        no_improvement_count += 1\n",
    "\n",
    "    # Early stopping condition\n",
    "    if no_improvement_count >= early_stopping_patience:\n",
    "        print(\"Early stopping at epoch %d\" % epoch)\n",
    "        stop_training = True\n",
    "        break\n",
    "\n",
    "    # Update best loss and epoch if there is an improvement\n",
    "    if test_loss < best_loss:\n",
    "        best_loss = test_loss\n",
    "        best_epoch = epoch\n",
    "\n",
    "    # Stop training if the early stopping condition is met\n",
    "    if stop_training:\n",
    "        break\n",
    "if n_future == 1:\n",
    "    confusion_mat = confusion_matrix(y_test, test_preds)\n",
    "    print(\"Confusion Matrix:\")\n",
    "    print(confusion_mat)\n",
    "else:\n",
    "    print('Can not use confusion matrix')\n",
    "\n",
    "metrics_table = pd.DataFrame(metrics_list)\n",
    "\n",
    "\n"
   ]
  },
  {
   "cell_type": "code",
   "execution_count": null,
   "id": "36fb418a-578a-4277-8a64-1e3f2c65377f",
   "metadata": {},
   "outputs": [],
   "source": [
    "print(metrics_table.iloc[-1])"
   ]
  },
  {
   "cell_type": "code",
   "execution_count": null,
   "id": "5dd6356e-4941-4aff-aa11-87df565611eb",
   "metadata": {},
   "outputs": [],
   "source": [
    "with torch.no_grad():\n",
    "    train_pred = model(X_train)\n",
    "    train_pred = torch.round(torch.sigmoid(train_pred))\n",
    "    test_pred = model(X_test)\n",
    "    test_pred = torch.round(torch.sigmoid(test_pred))\n",
    "    \n",
    "# converting predictions to numpy\n",
    "train_pred = train_pred.cpu().detach().numpy()\n",
    "test_pred = test_pred.cpu().detach().numpy()\n",
    "\n",
    "train_pred = train_pred.squeeze()\n",
    "test_pred = test_pred.squeeze()\n",
    "\n",
    "\n",
    "\n",
    "train_true = y_train.cpu().numpy()\n",
    "test_true = y_test.cpu().numpy()\n"
   ]
  },
  {
   "cell_type": "markdown",
   "id": "bf21b39b-3ba8-43c6-a15c-0f67652493e8",
   "metadata": {},
   "source": [
    "Why are multiple graphs outputed? \n",
    "\n",
    "for example, the model is trained on n_lookback = 2 and n_future = 2. The models performance metric is calcualted based on this. The plot just say how does this model predict for 1 day in the future and the 2nd day in the future. **The performance score is based only for n_future = 2**."
   ]
  },
  {
   "cell_type": "code",
   "execution_count": null,
   "id": "9bd0a1d5-e059-468c-b543-f619ea71363c",
   "metadata": {},
   "outputs": [],
   "source": [
    "import matplotlib.pyplot as plt\n",
    "import pandas as pd\n",
    "\n",
    "# Adjusted start points for train and test data\n",
    "train_start = lookback\n",
    "test_start = len(train_pred) + lookback + n_future\n",
    "\n",
    "# Create corresponding date indices for train and test predictions\n",
    "train_pred_index = df.index[train_start:train_start + len(train_pred)]\n",
    "test_pred_index = df.index[test_start:test_start + len(test_pred)]\n",
    "\n",
    "# Create new pandas dataframe for each future point\n",
    "for i in range(n_future):\n",
    "    print(i)\n",
    "    train_pred_df = pd.DataFrame(train_pred[:, i], index=train_pred_index, columns=[f'Train Prediction {i+1}'])\n",
    "    test_pred_df = pd.DataFrame(test_pred[:, i], index=test_pred_index, columns=[f'Test Prediction {i+1}'])\n",
    "    \n",
    "    # Plot the original data and the training and test predictions\n",
    "    plt.figure(figsize=(12, 6))\n",
    "    plt.scatter(df_downsampled.index.get_level_values(1), df_downsampled['Contains14'], label='Original data', marker='o')\n",
    "    plt.scatter(train_pred_df.index, train_pred_df[f'Train Prediction {i+1}'], label=f'Train Prediction {i+1}', marker='x')\n",
    "    plt.scatter(test_pred_df.index, test_pred_df[f'Test Prediction {i+1}'], label=f'Test Prediction {i+1}', marker='x')\n",
    "    plt.xlabel(\"Date\")\n",
    "    plt.ylabel(\"Passengers\")\n",
    "    plt.title(f\"Predicted vs Actual Protests for Prediction {i+1}\")\n",
    "    plt.legend()\n",
    "    plt.show()\n"
   ]
  },
  {
   "cell_type": "code",
   "execution_count": null,
   "id": "3dae80fa-9de6-40ab-9fc2-1f65a06d0761",
   "metadata": {},
   "outputs": [],
   "source": [
    "df_downsampled.index.get_level_values(1)"
   ]
  },
  {
   "cell_type": "code",
   "execution_count": null,
   "id": "9ea8c481-c509-458d-ae31-78259fc8f528",
   "metadata": {},
   "outputs": [],
   "source": []
  },
  {
   "cell_type": "code",
   "execution_count": null,
   "id": "3b6b5e2f-49bd-4fc1-b13c-34bae442b9d3",
   "metadata": {},
   "outputs": [],
   "source": [
    "import pandas as pd\n",
    "import xgboost as xgb\n",
    "from catboost import CatBoostClassifier\n",
    "from sklearn.ensemble import RandomForestClassifier\n",
    "import matplotlib.pyplot as plt\n",
    "import seaborn as sns\n",
    "from sklearn.model_selection import train_test_split\n",
    "from sklearn.metrics import accuracy_score, f1_score, confusion_matrix\n",
    "\n",
    "def train_evaluate_model(model, X_train, X_test, y_train, y_test, class_weights):\n",
    "    # Set the parameters for the model\n",
    "    if isinstance(model, xgb.XGBClassifier):\n",
    "        params = {\n",
    "            'objective': 'binary:logistic',  # Binary classification objective\n",
    "            'eval_metric': 'error',  # Evaluation metric for classification\n",
    "            'scale_pos_weight': class_weights  # Adjusts the weights of positive class instances\n",
    "        }\n",
    "    elif isinstance(model, CatBoostClassifier):\n",
    "        params = {\n",
    "            'eval_metric': 'Accuracy',  # Evaluation metric for classification\n",
    "            'class_weights': [1, class_weights]  # Adjusts the weights of positive class instances\n",
    "        }\n",
    "    elif isinstance(model, RandomForestClassifier):\n",
    "        params = {\n",
    "            'class_weight': {0: 1, 1: class_weights}  # Adjusts the weights of positive class instances\n",
    "        }\n",
    "    else:\n",
    "        raise ValueError('Invalid model type. Supported models: xgboost, catboost, random forest')\n",
    "\n",
    "    # Train the model\n",
    "    model.fit(X_train, y_train)\n",
    "\n",
    "    # Make predictions on the test set\n",
    "    preds = model.predict(X_test)\n",
    "    pred_labels = [round(pred) for pred in preds]\n",
    "\n",
    "    # Evaluate the accuracy and F1 score of the model\n",
    "    accuracy = accuracy_score(y_test, pred_labels)\n",
    "    f1 = f1_score(y_test, pred_labels)\n",
    "    print('Accuracy:', accuracy)\n",
    "    print('F1 Score:', f1)\n",
    "\n",
    "    # Plot the confusion matrix\n",
    "    cm = confusion_matrix(y_test, pred_labels)\n",
    "    plt.figure(figsize=(6, 4))\n",
    "    sns.heatmap(cm, annot=True, fmt='d', cmap='Blues')\n",
    "    plt.title('Confusion Matrix')\n",
    "    plt.xlabel('Predicted Label')\n",
    "    plt.ylabel('True Label')\n",
    "    plt.show()\n",
    "\n",
    "# data\n",
    "df = unique_dates_df\n",
    "# df = df_downsampled \n",
    "\n",
    "# Create lagged features\n",
    "lookback = 20\n",
    "for i in range(1, lookback+1):\n",
    "    df[f'lag_{i}'] = df['Contains14'].shift(i)\n",
    "\n",
    "# Drop rows with missing values\n",
    "df.dropna(inplace=True)\n",
    "\n",
    "# Split the data into features (X) and labels (y)\n",
    "X = df.iloc[:, 2:]  # Exclude the date column\n",
    "y = df['Contains14']\n",
    "\n",
    "# Split the data into training and testing sets\n",
    "X_train, X_test, y_train, y_test = train_test_split(X, y, test_size=0.3, random_state=42)\n",
    "\n",
    "# Calculate class weights for handling class imbalance\n",
    "class_counts = y_train.value_counts()\n",
    "class_weights = class_counts[0] / class_counts[1]\n",
    "\n",
    "# Create and train the models\n",
    "xgb_model = xgb.XGBClassifier()\n",
    "catboost_model = CatBoostClassifier(verbose=0)\n",
    "rf_model = RandomForestClassifier()\n",
    "\n",
    "# Train and evaluate the XGBoost model\n",
    "print('XGBoost:')\n",
    "train_evaluate_model(xgb_model, X_train, X_test, y_train, y_test, class_weights)\n",
    "\n",
    "# Train and evaluate the CatBoost model\n",
    "print('CatBoost:')\n",
    "train_evaluate_model(catboost_model, X_train, X_test, y_train, y_test, class_weights)\n",
    "\n",
    "# Train and evaluate the Random Forest model\n",
    "print('Random Forest:')\n",
    "train_evaluate_model(rf_model, X_train, X_test, y_train, y_test, class_weights)\n",
    "\n",
    "\n"
   ]
  },
  {
   "cell_type": "markdown",
   "id": "1b46347d-6318-4226-aec1-03db75b09e17",
   "metadata": {
    "tags": []
   },
   "source": [
    "# Models multi country"
   ]
  },
  {
   "cell_type": "code",
   "execution_count": 88,
   "id": "162ffef0-a928-428b-afe8-ceddffba14ce",
   "metadata": {},
   "outputs": [],
   "source": [
    "# unique_dates_df.to_csv('events_FR_SP_AG_L_YM_processed.csv', index=False)"
   ]
  },
  {
   "cell_type": "code",
   "execution_count": 89,
   "id": "cb166c16-0950-440a-a269-e28df5433e37",
   "metadata": {},
   "outputs": [],
   "source": [
    "# unique_dates_df = pd.read_csv('events_HK_processed_18.csv', encoding='utf8', dtype={'EventCode': str})"
   ]
  },
  {
   "cell_type": "code",
   "execution_count": 90,
   "id": "66baf813-f351-4e81-a670-ace6a9c81300",
   "metadata": {},
   "outputs": [
    {
     "data": {
      "text/html": [
       "<div>\n",
       "<style scoped>\n",
       "    .dataframe tbody tr th:only-of-type {\n",
       "        vertical-align: middle;\n",
       "    }\n",
       "\n",
       "    .dataframe tbody tr th {\n",
       "        vertical-align: top;\n",
       "    }\n",
       "\n",
       "    .dataframe thead th {\n",
       "        text-align: right;\n",
       "    }\n",
       "</style>\n",
       "<table border=\"1\" class=\"dataframe\">\n",
       "  <thead>\n",
       "    <tr style=\"text-align: right;\">\n",
       "      <th></th>\n",
       "      <th>SQLDATE</th>\n",
       "      <th>EventCode</th>\n",
       "      <th>QuadClass</th>\n",
       "      <th>GoldsteinScale</th>\n",
       "      <th>AvgTone</th>\n",
       "      <th>NumArticles</th>\n",
       "      <th>ActionGeo_CountryCode</th>\n",
       "      <th>NumMentions</th>\n",
       "      <th>Contains14sub</th>\n",
       "      <th>Contains14</th>\n",
       "    </tr>\n",
       "  </thead>\n",
       "  <tbody>\n",
       "    <tr>\n",
       "      <th>496787</th>\n",
       "      <td>20150102</td>\n",
       "      <td>141</td>\n",
       "      <td>3</td>\n",
       "      <td>-6.5</td>\n",
       "      <td>-2.594340</td>\n",
       "      <td>2</td>\n",
       "      <td>HK</td>\n",
       "      <td>2</td>\n",
       "      <td>1</td>\n",
       "      <td>0</td>\n",
       "    </tr>\n",
       "    <tr>\n",
       "      <th>495647</th>\n",
       "      <td>20150111</td>\n",
       "      <td>141</td>\n",
       "      <td>3</td>\n",
       "      <td>-6.5</td>\n",
       "      <td>-3.607214</td>\n",
       "      <td>10</td>\n",
       "      <td>HK</td>\n",
       "      <td>10</td>\n",
       "      <td>1</td>\n",
       "      <td>0</td>\n",
       "    </tr>\n",
       "    <tr>\n",
       "      <th>488533</th>\n",
       "      <td>20150112</td>\n",
       "      <td>141</td>\n",
       "      <td>3</td>\n",
       "      <td>-6.5</td>\n",
       "      <td>-5.568445</td>\n",
       "      <td>20</td>\n",
       "      <td>HK</td>\n",
       "      <td>20</td>\n",
       "      <td>1</td>\n",
       "      <td>1</td>\n",
       "    </tr>\n",
       "    <tr>\n",
       "      <th>498671</th>\n",
       "      <td>20150113</td>\n",
       "      <td>141</td>\n",
       "      <td>3</td>\n",
       "      <td>-6.5</td>\n",
       "      <td>-1.229508</td>\n",
       "      <td>10</td>\n",
       "      <td>HK</td>\n",
       "      <td>10</td>\n",
       "      <td>1</td>\n",
       "      <td>0</td>\n",
       "    </tr>\n",
       "    <tr>\n",
       "      <th>490033</th>\n",
       "      <td>20150219</td>\n",
       "      <td>141</td>\n",
       "      <td>3</td>\n",
       "      <td>-6.5</td>\n",
       "      <td>-3.543307</td>\n",
       "      <td>1</td>\n",
       "      <td>HK</td>\n",
       "      <td>1</td>\n",
       "      <td>1</td>\n",
       "      <td>0</td>\n",
       "    </tr>\n",
       "  </tbody>\n",
       "</table>\n",
       "</div>"
      ],
      "text/plain": [
       "         SQLDATE EventCode  QuadClass  GoldsteinScale   AvgTone  NumArticles  \\\n",
       "496787  20150102       141          3            -6.5 -2.594340            2   \n",
       "495647  20150111       141          3            -6.5 -3.607214           10   \n",
       "488533  20150112       141          3            -6.5 -5.568445           20   \n",
       "498671  20150113       141          3            -6.5 -1.229508           10   \n",
       "490033  20150219       141          3            -6.5 -3.543307            1   \n",
       "\n",
       "       ActionGeo_CountryCode  NumMentions  Contains14sub  Contains14  \n",
       "496787                    HK            2              1           0  \n",
       "495647                    HK           10              1           0  \n",
       "488533                    HK           20              1           1  \n",
       "498671                    HK           10              1           0  \n",
       "490033                    HK            1              1           0  "
      ]
     },
     "execution_count": 90,
     "metadata": {},
     "output_type": "execute_result"
    }
   ],
   "source": [
    "unique_dates_df.head()"
   ]
  },
  {
   "cell_type": "markdown",
   "id": "5aa8b5f2-1c93-40aa-89e3-69e1137d6c53",
   "metadata": {},
   "source": [
    "The below code label encodes the country codes to be used as a feature in the model. Sorts the data in terms of date. Then groups the data in terms of country code and then groups each country in terms of date. The features are lagged for each country and the target is pushed forward by a speciifed amount."
   ]
  },
  {
   "cell_type": "code",
   "execution_count": 91,
   "id": "f1cff9b1-b5d5-46f0-a445-68a3c173605d",
   "metadata": {},
   "outputs": [
    {
     "name": "stderr",
     "output_type": "stream",
     "text": [
      "/var/tmp/ipykernel_7114/1567826995.py:29: FutureWarning: Not prepending group keys to the result index of transform-like apply. In the future, the group keys will be included in the index, regardless of whether the applied function returns a like-indexed object.\n",
      "To preserve the previous behavior, use\n",
      "\n",
      "\t>>> .groupby(..., group_keys=False)\n",
      "\n",
      "To adopt the future behavior and silence this warning, use \n",
      "\n",
      "\t>>> .groupby(..., group_keys=True)\n",
      "  df_multi_country_date = grouped.apply(lambda group: group if len(group) == 1 else group.reset_index(drop=True))\n"
     ]
    }
   ],
   "source": [
    "import pandas as pd\n",
    "from sklearn.preprocessing import LabelEncoder\n",
    "n_future = 1\n",
    "n_past = 100\n",
    "rolling_mean_window_week = 7\n",
    "rolling_mean_window_month = 28\n",
    "# Step 1: Create a unique date-country identifier\n",
    "# df = df_events_contains14.copy()\n",
    "df = unique_dates_df.copy()\n",
    "label_encoder_country = LabelEncoder()\n",
    "df['country_code_encoded'] = label_encoder_country.fit_transform(df['ActionGeo_CountryCode'])\n",
    "df = df.drop('ActionGeo_CountryCode', axis=1)\n",
    "\n",
    "# Upsample data at a daily frequency\n",
    "df['SQLDATE'] = pd.to_datetime(df['SQLDATE'], format='%Y%m%d')\n",
    "df = df.set_index('SQLDATE')\n",
    "df = df.groupby('country_code_encoded').resample('D').fillna(method='ffill')\n",
    "# df = df.reset_index()\n",
    "\n",
    "\n",
    "# Step 2: Sort the data\n",
    "# df['SQLDATE'] = pd.to_datetime(df['SQLDATE'], format='%Y%m%d')\n",
    "df.sort_values(by='SQLDATE', inplace=True)\n",
    "\n",
    "# Step 3: Group the data by date\n",
    "grouped = df.groupby('SQLDATE')\n",
    "\n",
    "# Step 4: Handle multiple countries on the same date\n",
    "df_multi_country_date = grouped.apply(lambda group: group if len(group) == 1 else group.reset_index(drop=True))\n",
    "df_multi_country_date = df_multi_country_date.rename_axis(index={'SQLDATE': 'date_index', 'country_code_encoded':'country_code_encoded_index'})\n",
    "\n",
    "# Step 5: Apply lag feature engineering\n",
    "\n",
    "\n",
    "# df_multi_country_date['lag_fut_Contains14 ' + str(n_future)] = df_multi_country_date.groupby('country_code_encoded')['Contains14'].shift(-n_future)\n",
    "\n",
    "# # rolling mean of target\n",
    "# df_multi_country_date['Contains14_rolling_mean_' + str(rolling_mean_window_week)] = df_multi_country_date.groupby('country_code_encoded')['Contains14'].rolling(window=rolling_mean_window_week).mean().reset_index(level=0, drop=True)\n",
    "# df_multi_country_date['Contains14_rolling_mean_' + str(rolling_mean_window_month)] = df_multi_country_date.groupby('country_code_encoded')['Contains14'].rolling(window=rolling_mean_window_month).mean().reset_index(level=0, drop=True)\n",
    "# # columns defined below are lagged and used as features\n",
    "# df_lag_columns = pd.DataFrame()\n",
    "# for i in range(1, n_past + 1):\n",
    "#     df_lag_columns = pd.concat([\n",
    "#         df_lag_columns,\n",
    "#         # df_multi_country_date.groupby('country_code_encoded')['QuadClass'].shift(i).rename('lag_QuadClass_' + str(i)),\n",
    "#         # df_multi_country_date.groupby('country_code_encoded')['GoldsteinScale'].shift(i).rename('lag_GoldsteinScale_' + str(i)),\n",
    "#         # df_multi_country_date.groupby('country_code_encoded')['AvgTone'].shift(i).rename('lag_AvgTone_' + str(i)),\n",
    "#         # df_multi_country_date.groupby('country_code_encoded')['NumArticles'].shift(i).rename('lag_NumArticles_' + str(i)),\n",
    "#         df_multi_country_date.groupby('country_code_encoded')['Contains14'].shift(i).rename('lag_Contains14_' + str(i))\n",
    "#     ], axis=1)\n",
    "\n",
    "# df_multi_country_date = pd.concat([df_multi_country_date, df_lag_columns], axis=1)\n",
    "\n",
    "df_multi_country_date = df_multi_country_date.reset_index()\n",
    "# # print(df_multi_country_date.head())\n",
    "# # You may have to change the level 1 part to level 0 depending on the df\n",
    "df_multi_country_date.rename(columns={'date_index': 'SQLDATE'}, inplace=True)\n",
    "# df_multi_country_date.rename(columns={'level_0': 'SQLDATE'}, inplace=True)\n",
    "df_multi_country_date['Year'] = df_multi_country_date['SQLDATE'].dt.year\n",
    "df_multi_country_date['Month'] = df_multi_country_date['SQLDATE'].dt.month\n",
    "df_multi_country_date['DayOfMonth'] = df_multi_country_date['SQLDATE'].dt.day\n",
    "\n",
    "df_multi_country_date = df_multi_country_date.dropna()\n"
   ]
  },
  {
   "cell_type": "code",
   "execution_count": 92,
   "id": "5415bc47-a4e7-4d44-8f52-d97a81d48582",
   "metadata": {},
   "outputs": [
    {
     "data": {
      "text/html": [
       "<div>\n",
       "<style scoped>\n",
       "    .dataframe tbody tr th:only-of-type {\n",
       "        vertical-align: middle;\n",
       "    }\n",
       "\n",
       "    .dataframe tbody tr th {\n",
       "        vertical-align: top;\n",
       "    }\n",
       "\n",
       "    .dataframe thead th {\n",
       "        text-align: right;\n",
       "    }\n",
       "</style>\n",
       "<table border=\"1\" class=\"dataframe\">\n",
       "  <thead>\n",
       "    <tr style=\"text-align: right;\">\n",
       "      <th></th>\n",
       "      <th>country_code_encoded_index</th>\n",
       "      <th>SQLDATE</th>\n",
       "      <th>EventCode</th>\n",
       "      <th>QuadClass</th>\n",
       "      <th>GoldsteinScale</th>\n",
       "      <th>AvgTone</th>\n",
       "      <th>NumArticles</th>\n",
       "      <th>NumMentions</th>\n",
       "      <th>Contains14sub</th>\n",
       "      <th>Contains14</th>\n",
       "      <th>country_code_encoded</th>\n",
       "      <th>Year</th>\n",
       "      <th>Month</th>\n",
       "      <th>DayOfMonth</th>\n",
       "    </tr>\n",
       "  </thead>\n",
       "  <tbody>\n",
       "    <tr>\n",
       "      <th>0</th>\n",
       "      <td>0</td>\n",
       "      <td>2015-01-02</td>\n",
       "      <td>141</td>\n",
       "      <td>3</td>\n",
       "      <td>-6.5</td>\n",
       "      <td>-2.59434</td>\n",
       "      <td>2</td>\n",
       "      <td>2</td>\n",
       "      <td>1</td>\n",
       "      <td>0</td>\n",
       "      <td>0</td>\n",
       "      <td>2015</td>\n",
       "      <td>1</td>\n",
       "      <td>2</td>\n",
       "    </tr>\n",
       "    <tr>\n",
       "      <th>1</th>\n",
       "      <td>0</td>\n",
       "      <td>2015-01-03</td>\n",
       "      <td>141</td>\n",
       "      <td>3</td>\n",
       "      <td>-6.5</td>\n",
       "      <td>-2.59434</td>\n",
       "      <td>2</td>\n",
       "      <td>2</td>\n",
       "      <td>1</td>\n",
       "      <td>0</td>\n",
       "      <td>0</td>\n",
       "      <td>2015</td>\n",
       "      <td>1</td>\n",
       "      <td>3</td>\n",
       "    </tr>\n",
       "    <tr>\n",
       "      <th>2</th>\n",
       "      <td>0</td>\n",
       "      <td>2015-01-04</td>\n",
       "      <td>141</td>\n",
       "      <td>3</td>\n",
       "      <td>-6.5</td>\n",
       "      <td>-2.59434</td>\n",
       "      <td>2</td>\n",
       "      <td>2</td>\n",
       "      <td>1</td>\n",
       "      <td>0</td>\n",
       "      <td>0</td>\n",
       "      <td>2015</td>\n",
       "      <td>1</td>\n",
       "      <td>4</td>\n",
       "    </tr>\n",
       "    <tr>\n",
       "      <th>3</th>\n",
       "      <td>0</td>\n",
       "      <td>2015-01-05</td>\n",
       "      <td>141</td>\n",
       "      <td>3</td>\n",
       "      <td>-6.5</td>\n",
       "      <td>-2.59434</td>\n",
       "      <td>2</td>\n",
       "      <td>2</td>\n",
       "      <td>1</td>\n",
       "      <td>0</td>\n",
       "      <td>0</td>\n",
       "      <td>2015</td>\n",
       "      <td>1</td>\n",
       "      <td>5</td>\n",
       "    </tr>\n",
       "    <tr>\n",
       "      <th>4</th>\n",
       "      <td>0</td>\n",
       "      <td>2015-01-06</td>\n",
       "      <td>141</td>\n",
       "      <td>3</td>\n",
       "      <td>-6.5</td>\n",
       "      <td>-2.59434</td>\n",
       "      <td>2</td>\n",
       "      <td>2</td>\n",
       "      <td>1</td>\n",
       "      <td>0</td>\n",
       "      <td>0</td>\n",
       "      <td>2015</td>\n",
       "      <td>1</td>\n",
       "      <td>6</td>\n",
       "    </tr>\n",
       "  </tbody>\n",
       "</table>\n",
       "</div>"
      ],
      "text/plain": [
       "   country_code_encoded_index    SQLDATE EventCode  QuadClass  GoldsteinScale  \\\n",
       "0                           0 2015-01-02       141          3            -6.5   \n",
       "1                           0 2015-01-03       141          3            -6.5   \n",
       "2                           0 2015-01-04       141          3            -6.5   \n",
       "3                           0 2015-01-05       141          3            -6.5   \n",
       "4                           0 2015-01-06       141          3            -6.5   \n",
       "\n",
       "   AvgTone  NumArticles  NumMentions  Contains14sub  Contains14  \\\n",
       "0 -2.59434            2            2              1           0   \n",
       "1 -2.59434            2            2              1           0   \n",
       "2 -2.59434            2            2              1           0   \n",
       "3 -2.59434            2            2              1           0   \n",
       "4 -2.59434            2            2              1           0   \n",
       "\n",
       "   country_code_encoded  Year  Month  DayOfMonth  \n",
       "0                     0  2015      1           2  \n",
       "1                     0  2015      1           3  \n",
       "2                     0  2015      1           4  \n",
       "3                     0  2015      1           5  \n",
       "4                     0  2015      1           6  "
      ]
     },
     "execution_count": 92,
     "metadata": {},
     "output_type": "execute_result"
    }
   ],
   "source": [
    "df_multi_country_date.head()"
   ]
  },
  {
   "cell_type": "code",
   "execution_count": 93,
   "id": "4dfd1dab-50ae-448f-a839-cf26167e8a1b",
   "metadata": {},
   "outputs": [
    {
     "data": {
      "text/plain": [
       "0    2978\n",
       "1      84\n",
       "Name: Contains14, dtype: int64"
      ]
     },
     "execution_count": 93,
     "metadata": {},
     "output_type": "execute_result"
    }
   ],
   "source": [
    "df_multi_country_date['Contains14'].value_counts()"
   ]
  },
  {
   "cell_type": "code",
   "execution_count": 94,
   "id": "e4df2e16-8f86-479f-94db-17069fdc2f12",
   "metadata": {},
   "outputs": [],
   "source": [
    "df_multi_country_date.to_csv('events_HK_with_date.csv', index=False)"
   ]
  },
  {
   "cell_type": "code",
   "execution_count": 87,
   "id": "f794259d-206a-460b-b7bb-9d7b20a0c697",
   "metadata": {},
   "outputs": [],
   "source": [
    "# outliers look at"
   ]
  },
  {
   "cell_type": "code",
   "execution_count": 88,
   "id": "29ccb512-b911-4dc9-b62c-1947638f322b",
   "metadata": {},
   "outputs": [
    {
     "ename": "type",
     "evalue": "'Series' object is not callable",
     "output_type": "error",
     "traceback": [
      "\u001b[0;31m---------------------------------------------------------------------------\u001b[0m",
      "\u001b[0;31mTypeError\u001b[0m                                 Traceback (most recent call last)",
      "Cell \u001b[0;32mIn[88], line 1\u001b[0m\n\u001b[0;32m----> 1\u001b[0m df_plot \u001b[38;5;241m=\u001b[39m df_multi_country_date[\u001b[43m(\u001b[49m\u001b[43mdf_multi_country_date\u001b[49m\u001b[43m[\u001b[49m\u001b[38;5;124;43m'\u001b[39;49m\u001b[38;5;124;43mYear\u001b[39;49m\u001b[38;5;124;43m'\u001b[39;49m\u001b[43m]\u001b[49m\u001b[43m \u001b[49m\u001b[38;5;241;43m<\u001b[39;49m\u001b[38;5;241;43m=\u001b[39;49m\u001b[43m \u001b[49m\u001b[38;5;241;43m2015\u001b[39;49m\u001b[43m)\u001b[49m\u001b[43m  \u001b[49m\u001b[43m(\u001b[49m\u001b[43mdf_multi_country_date\u001b[49m\u001b[43m[\u001b[49m\u001b[38;5;124;43m'\u001b[39;49m\u001b[38;5;124;43mMonth\u001b[39;49m\u001b[38;5;124;43m'\u001b[39;49m\u001b[43m]\u001b[49m\u001b[43m \u001b[49m\u001b[38;5;241;43m<\u001b[39;49m\u001b[38;5;241;43m=\u001b[39;49m\u001b[43m \u001b[49m\u001b[38;5;241;43m3\u001b[39;49m\u001b[43m)\u001b[49m]\n",
      "\u001b[0;31mTypeError\u001b[0m: 'Series' object is not callable"
     ]
    }
   ],
   "source": [
    "df_plot = df_multi_country_date[(df_multi_country_date['Year'] <= 2015)  (df_multi_country_date['Month'] <= 3)]\n"
   ]
  },
  {
   "cell_type": "code",
   "execution_count": 89,
   "id": "18578e31-b788-4459-8845-87ea59f8adc7",
   "metadata": {},
   "outputs": [
    {
     "data": {
      "text/plain": [
       "<matplotlib.collections.PathCollection at 0x7fb812984520>"
      ]
     },
     "execution_count": 89,
     "metadata": {},
     "output_type": "execute_result"
    },
    {
     "data": {
      "image/png": "[encoded data removed]",
      "text/plain": [
       "<Figure size 640x480 with 1 Axes>"
      ]
     },
     "metadata": {},
     "output_type": "display_data"
    }
   ],
   "source": [
    "df_plot = df_multi_country_date[(df_multi_country_date['Year'] <= 2015) & (df_multi_country_date['Month'] <= 3)]\n",
    "X = df_multi_country_date['SQLDATE']\n",
    "Y = df_multi_country_date['Contains14']\n",
    "plt.scatter(X, Y)"
   ]
  },
  {
   "cell_type": "code",
   "execution_count": 90,
   "id": "b6fa0397-8e74-4228-a31b-eb6063a2e465",
   "metadata": {},
   "outputs": [
    {
     "name": "stderr",
     "output_type": "stream",
     "text": [
      "/var/tmp/ipykernel_4331/518368204.py:4: FutureWarning: Series.dt.weekofyear and Series.dt.week have been deprecated. Please use Series.dt.isocalendar().week instead.\n",
      "  df_multi_country_date['Week'] = df_multi_country_date['SQLDATE'].dt.week\n"
     ]
    },
    {
     "data": {
      "image/png": "[encoded data removed]",
      "text/plain": [
       "<Figure size 640x480 with 2 Axes>"
      ]
     },
     "metadata": {},
     "output_type": "display_data"
    }
   ],
   "source": [
    "import seaborn as sns\n",
    "\n",
    "df_multi_country_date['Year'] = df_multi_country_date['SQLDATE'].dt.year\n",
    "df_multi_country_date['Week'] = df_multi_country_date['SQLDATE'].dt.week\n",
    "\n",
    "heatmap_data = df_multi_country_date.pivot_table(index='Week', columns='Year', values='Contains14', aggfunc='mean')\n",
    "sns.heatmap(heatmap_data, cmap='YlGnBu')\n",
    "plt.title('Yearly pattern of SPE by week')\n",
    "plt.savefig('Heatmap.png', dpi=300, bbox_inches='tight') \n",
    "plt.show()\n",
    "\n"
   ]
  },
  {
   "cell_type": "code",
   "execution_count": 91,
   "id": "33de0a9d-360e-41e8-81e6-2d9f169002cc",
   "metadata": {},
   "outputs": [
    {
     "name": "stderr",
     "output_type": "stream",
     "text": [
      "/var/tmp/ipykernel_4331/2631443574.py:17: FutureWarning: The default value of numeric_only in DataFrameGroupBy.mean is deprecated. In a future version, numeric_only will default to False. Either specify numeric_only or select only columns which should be valid for the function.\n",
      "  monthly_mean = df_multi_country_date.resample('M', on='SQLDATE').mean()\n"
     ]
    },
    {
     "data": {
      "image/png": "[encoded data removed]",
      "text/plain": [
       "<Figure size 1000x600 with 1 Axes>"
      ]
     },
     "metadata": {},
     "output_type": "display_data"
    }
   ],
   "source": [
    "# # 1. Resample the data on a monthly basis.\n",
    "# monthly_mean = df_multi_country_date.resample('M', on='SQLDATE').mean()\n",
    "\n",
    "# # 2. Apply a rolling average. Let's use a window of 3 months for the smoothing.\n",
    "# smoothed = monthly_mean['Contains14'].rolling(window=3).mean()\n",
    "\n",
    "# # 3. Plot the smoothed data.\n",
    "# plt.plot(monthly_mean.index, smoothed)\n",
    "# plt.xlabel('Date')\n",
    "# plt.ylabel('SPE smoothed monthly average')\n",
    "# plt.title('Smoothed Monthly Average of Contains14')\n",
    "# plt.show()\n",
    "# plt.savefig('Month plot')\n",
    "\n",
    "\n",
    "# 1. Resample the data on a monthly basis.\n",
    "monthly_mean = df_multi_country_date.resample('M', on='SQLDATE').mean()\n",
    "\n",
    "# 2. Apply a rolling average. Let's use a window of 3 months for the smoothing.\n",
    "smoothed = monthly_mean['Contains14'].rolling(window=3).mean()\n",
    "\n",
    "# 3. Plot the smoothed data.\n",
    "plt.figure(figsize=(10,6))  # Optional: You can adjust the size of the figure\n",
    "plt.plot(monthly_mean.index, smoothed)\n",
    "plt.xlabel('Date')\n",
    "plt.ylabel('SPE Smoothed Monthly Average')\n",
    "plt.title('Smoothed Monthly Average of SPE')\n",
    "\n",
    "# Save the figure to a file.\n",
    "plt.savefig('smoothed_monthly_average.png', dpi=300, bbox_inches='tight')  # Saves with high dpi and adjusts the bounding box\n",
    "\n",
    "plt.show()\n"
   ]
  },
  {
   "cell_type": "code",
   "execution_count": 92,
   "id": "b549f56f-df22-41cc-b6f3-eae4136078a3",
   "metadata": {},
   "outputs": [
    {
     "name": "stderr",
     "output_type": "stream",
     "text": [
      "/var/tmp/ipykernel_4331/2591736777.py:1: FutureWarning: The default value of numeric_only in DataFrame.corr is deprecated. In a future version, it will default to False. Select only valid columns or specify the value of numeric_only to silence this warning.\n",
      "  df_multi_country_date[df_multi_country_date['country_code_encoded'] == 0].corr()['Contains14'].abs().sort_values(ascending=False)\n"
     ]
    },
    {
     "data": {
      "text/plain": [
       "Contains14                    1.000000\n",
       "NumMentions                   0.618929\n",
       "NumArticles                   0.441186\n",
       "AvgTone                       0.069740\n",
       "Year                          0.044105\n",
       "Month                         0.041271\n",
       "Week                          0.038076\n",
       "GoldsteinScale                0.030156\n",
       "DayOfMonth                    0.010534\n",
       "country_code_encoded_index         NaN\n",
       "QuadClass                          NaN\n",
       "Contains14sub                      NaN\n",
       "country_code_encoded               NaN\n",
       "Name: Contains14, dtype: float64"
      ]
     },
     "execution_count": 92,
     "metadata": {},
     "output_type": "execute_result"
    }
   ],
   "source": [
    "df_multi_country_date[df_multi_country_date['country_code_encoded'] == 0].corr()['Contains14'].abs().sort_values(ascending=False)"
   ]
  },
  {
   "cell_type": "code",
   "execution_count": 93,
   "id": "526ce57a-589e-4d6a-a7f4-176110356dac",
   "metadata": {},
   "outputs": [
    {
     "ename": "type",
     "evalue": "'Contains14_rolling_mean_28'",
     "output_type": "error",
     "traceback": [
      "\u001b[0;31m---------------------------------------------------------------------------\u001b[0m",
      "\u001b[0;31mKeyError\u001b[0m                                  Traceback (most recent call last)",
      "File \u001b[0;32m/opt/conda/lib/python3.10/site-packages/pandas/core/indexes/base.py:3802\u001b[0m, in \u001b[0;36mIndex.get_loc\u001b[0;34m(self, key, method, tolerance)\u001b[0m\n\u001b[1;32m   3801\u001b[0m \u001b[38;5;28;01mtry\u001b[39;00m:\n\u001b[0;32m-> 3802\u001b[0m     \u001b[38;5;28;01mreturn\u001b[39;00m \u001b[38;5;28;43mself\u001b[39;49m\u001b[38;5;241;43m.\u001b[39;49m\u001b[43m_engine\u001b[49m\u001b[38;5;241;43m.\u001b[39;49m\u001b[43mget_loc\u001b[49m\u001b[43m(\u001b[49m\u001b[43mcasted_key\u001b[49m\u001b[43m)\u001b[49m\n\u001b[1;32m   3803\u001b[0m \u001b[38;5;28;01mexcept\u001b[39;00m \u001b[38;5;167;01mKeyError\u001b[39;00m \u001b[38;5;28;01mas\u001b[39;00m err:\n",
      "File \u001b[0;32m/opt/conda/lib/python3.10/site-packages/pandas/_libs/index.pyx:138\u001b[0m, in \u001b[0;36mpandas._libs.index.IndexEngine.get_loc\u001b[0;34m()\u001b[0m\n",
      "File \u001b[0;32m/opt/conda/lib/python3.10/site-packages/pandas/_libs/index.pyx:165\u001b[0m, in \u001b[0;36mpandas._libs.index.IndexEngine.get_loc\u001b[0;34m()\u001b[0m\n",
      "File \u001b[0;32mpandas/_libs/hashtable_class_helper.pxi:5745\u001b[0m, in \u001b[0;36mpandas._libs.hashtable.PyObjectHashTable.get_item\u001b[0;34m()\u001b[0m\n",
      "File \u001b[0;32mpandas/_libs/hashtable_class_helper.pxi:5753\u001b[0m, in \u001b[0;36mpandas._libs.hashtable.PyObjectHashTable.get_item\u001b[0;34m()\u001b[0m\n",
      "\u001b[0;31mKeyError\u001b[0m: 'Contains14_rolling_mean_28'",
      "\nThe above exception was the direct cause of the following exception:\n",
      "\u001b[0;31mKeyError\u001b[0m                                  Traceback (most recent call last)",
      "Cell \u001b[0;32mIn[93], line 7\u001b[0m\n\u001b[1;32m      4\u001b[0m     df_multi_country_date\u001b[38;5;241m.\u001b[39mgroupby([pd\u001b[38;5;241m.\u001b[39mqcut(df_multi_country_date[column_name]\u001b[38;5;241m.\u001b[39mrank(method\u001b[38;5;241m=\u001b[39m\u001b[38;5;124m'\u001b[39m\u001b[38;5;124mfirst\u001b[39m\u001b[38;5;124m'\u001b[39m), \u001b[38;5;241m10\u001b[39m, labels\u001b[38;5;241m=\u001b[39m\u001b[38;5;28mrange\u001b[39m(\u001b[38;5;241m10\u001b[39m))])[[column_name]]\u001b[38;5;241m.\u001b[39mmean()\u001b[38;5;241m.\u001b[39mplot(ax\u001b[38;5;241m=\u001b[39max2)\n\u001b[1;32m      5\u001b[0m     \u001b[38;5;28;01mreturn\u001b[39;00m plt\u001b[38;5;241m.\u001b[39mshow()\n\u001b[0;32m----> 7\u001b[0m \u001b[43mbin_plotter\u001b[49m\u001b[43m(\u001b[49m\u001b[38;5;124;43m'\u001b[39;49m\u001b[38;5;124;43mContains14_rolling_mean_28\u001b[39;49m\u001b[38;5;124;43m'\u001b[39;49m\u001b[43m,\u001b[49m\u001b[43m \u001b[49m\u001b[38;5;124;43m'\u001b[39;49m\u001b[38;5;124;43mlag_fut_Contains14 1\u001b[39;49m\u001b[38;5;124;43m'\u001b[39;49m\u001b[43m)\u001b[49m\n",
      "Cell \u001b[0;32mIn[93], line 3\u001b[0m, in \u001b[0;36mbin_plotter\u001b[0;34m(column_name, target_column)\u001b[0m\n\u001b[1;32m      1\u001b[0m \u001b[38;5;28;01mdef\u001b[39;00m \u001b[38;5;21mbin_plotter\u001b[39m(column_name, target_column):\n\u001b[1;32m      2\u001b[0m     fig, (ax1, ax2) \u001b[38;5;241m=\u001b[39m plt\u001b[38;5;241m.\u001b[39msubplots(\u001b[38;5;241m1\u001b[39m,\u001b[38;5;241m2\u001b[39m, figsize\u001b[38;5;241m=\u001b[39m(\u001b[38;5;241m20\u001b[39m,\u001b[38;5;241m10\u001b[39m))\n\u001b[0;32m----> 3\u001b[0m     df_multi_country_date\u001b[38;5;241m.\u001b[39mgroupby([pd\u001b[38;5;241m.\u001b[39mqcut(\u001b[43mdf_multi_country_date\u001b[49m\u001b[43m[\u001b[49m\u001b[43mcolumn_name\u001b[49m\u001b[43m]\u001b[49m\u001b[38;5;241m.\u001b[39mrank(method\u001b[38;5;241m=\u001b[39m\u001b[38;5;124m'\u001b[39m\u001b[38;5;124mfirst\u001b[39m\u001b[38;5;124m'\u001b[39m), \u001b[38;5;241m10\u001b[39m, labels\u001b[38;5;241m=\u001b[39m\u001b[38;5;28mrange\u001b[39m(\u001b[38;5;241m10\u001b[39m))])[[target_column]]\u001b[38;5;241m.\u001b[39mmean()\u001b[38;5;241m.\u001b[39mplot(ax\u001b[38;5;241m=\u001b[39max1)\n\u001b[1;32m      4\u001b[0m     df_multi_country_date\u001b[38;5;241m.\u001b[39mgroupby([pd\u001b[38;5;241m.\u001b[39mqcut(df_multi_country_date[column_name]\u001b[38;5;241m.\u001b[39mrank(method\u001b[38;5;241m=\u001b[39m\u001b[38;5;124m'\u001b[39m\u001b[38;5;124mfirst\u001b[39m\u001b[38;5;124m'\u001b[39m), \u001b[38;5;241m10\u001b[39m, labels\u001b[38;5;241m=\u001b[39m\u001b[38;5;28mrange\u001b[39m(\u001b[38;5;241m10\u001b[39m))])[[column_name]]\u001b[38;5;241m.\u001b[39mmean()\u001b[38;5;241m.\u001b[39mplot(ax\u001b[38;5;241m=\u001b[39max2)\n\u001b[1;32m      5\u001b[0m     \u001b[38;5;28;01mreturn\u001b[39;00m plt\u001b[38;5;241m.\u001b[39mshow()\n",
      "File \u001b[0;32m/opt/conda/lib/python3.10/site-packages/pandas/core/frame.py:3807\u001b[0m, in \u001b[0;36mDataFrame.__getitem__\u001b[0;34m(self, key)\u001b[0m\n\u001b[1;32m   3805\u001b[0m \u001b[38;5;28;01mif\u001b[39;00m \u001b[38;5;28mself\u001b[39m\u001b[38;5;241m.\u001b[39mcolumns\u001b[38;5;241m.\u001b[39mnlevels \u001b[38;5;241m>\u001b[39m \u001b[38;5;241m1\u001b[39m:\n\u001b[1;32m   3806\u001b[0m     \u001b[38;5;28;01mreturn\u001b[39;00m \u001b[38;5;28mself\u001b[39m\u001b[38;5;241m.\u001b[39m_getitem_multilevel(key)\n\u001b[0;32m-> 3807\u001b[0m indexer \u001b[38;5;241m=\u001b[39m \u001b[38;5;28;43mself\u001b[39;49m\u001b[38;5;241;43m.\u001b[39;49m\u001b[43mcolumns\u001b[49m\u001b[38;5;241;43m.\u001b[39;49m\u001b[43mget_loc\u001b[49m\u001b[43m(\u001b[49m\u001b[43mkey\u001b[49m\u001b[43m)\u001b[49m\n\u001b[1;32m   3808\u001b[0m \u001b[38;5;28;01mif\u001b[39;00m is_integer(indexer):\n\u001b[1;32m   3809\u001b[0m     indexer \u001b[38;5;241m=\u001b[39m [indexer]\n",
      "File \u001b[0;32m/opt/conda/lib/python3.10/site-packages/pandas/core/indexes/base.py:3804\u001b[0m, in \u001b[0;36mIndex.get_loc\u001b[0;34m(self, key, method, tolerance)\u001b[0m\n\u001b[1;32m   3802\u001b[0m     \u001b[38;5;28;01mreturn\u001b[39;00m \u001b[38;5;28mself\u001b[39m\u001b[38;5;241m.\u001b[39m_engine\u001b[38;5;241m.\u001b[39mget_loc(casted_key)\n\u001b[1;32m   3803\u001b[0m \u001b[38;5;28;01mexcept\u001b[39;00m \u001b[38;5;167;01mKeyError\u001b[39;00m \u001b[38;5;28;01mas\u001b[39;00m err:\n\u001b[0;32m-> 3804\u001b[0m     \u001b[38;5;28;01mraise\u001b[39;00m \u001b[38;5;167;01mKeyError\u001b[39;00m(key) \u001b[38;5;28;01mfrom\u001b[39;00m \u001b[38;5;21;01merr\u001b[39;00m\n\u001b[1;32m   3805\u001b[0m \u001b[38;5;28;01mexcept\u001b[39;00m \u001b[38;5;167;01mTypeError\u001b[39;00m:\n\u001b[1;32m   3806\u001b[0m     \u001b[38;5;66;03m# If we have a listlike key, _check_indexing_error will raise\u001b[39;00m\n\u001b[1;32m   3807\u001b[0m     \u001b[38;5;66;03m#  InvalidIndexError. Otherwise we fall through and re-raise\u001b[39;00m\n\u001b[1;32m   3808\u001b[0m     \u001b[38;5;66;03m#  the TypeError.\u001b[39;00m\n\u001b[1;32m   3809\u001b[0m     \u001b[38;5;28mself\u001b[39m\u001b[38;5;241m.\u001b[39m_check_indexing_error(key)\n",
      "\u001b[0;31mKeyError\u001b[0m: 'Contains14_rolling_mean_28'"
     ]
    },
    {
     "data": {
      "image/png": "[encoded data removed]",
      "text/plain": [
       "<Figure size 2000x1000 with 2 Axes>"
      ]
     },
     "metadata": {},
     "output_type": "display_data"
    }
   ],
   "source": [
    "def bin_plotter(column_name, target_column):\n",
    "    fig, (ax1, ax2) = plt.subplots(1,2, figsize=(20,10))\n",
    "    df_multi_country_date.groupby([pd.qcut(df_multi_country_date[column_name].rank(method='first'), 10, labels=range(10))])[[target_column]].mean().plot(ax=ax1)\n",
    "    df_multi_country_date.groupby([pd.qcut(df_multi_country_date[column_name].rank(method='first'), 10, labels=range(10))])[[column_name]].mean().plot(ax=ax2)\n",
    "    return plt.show()\n",
    "\n",
    "bin_plotter('Contains14_rolling_mean_28', 'lag_fut_Contains14 1')"
   ]
  },
  {
   "cell_type": "code",
   "execution_count": 63,
   "id": "228aad2e-0d7c-49c3-8f87-e7e98efa438c",
   "metadata": {},
   "outputs": [
    {
     "data": {
      "image/png": "[encoded data removed]",
      "text/plain": [
       "<Figure size 2000x1000 with 2 Axes>"
      ]
     },
     "metadata": {},
     "output_type": "display_data"
    }
   ],
   "source": [
    "fig, (ax1, ax2) = plt.subplots(1,2, figsize=(20,10))\n",
    "df_multi_country_date.groupby([pd.qcut(df_multi_country_date['lag_Contains14_1'].rank(method='first'), 10, labels=range(10))])[['lag_fut_Contains14 1']].mean().plot(ax=ax1)\n",
    "df_multi_country_date.groupby([pd.qcut(df_multi_country_date['lag_Contains14_1'].rank(method='first'), 10, labels=range(10))])[['lag_Contains14_1']].mean().plot(ax=ax2)\n",
    "plt.show()"
   ]
  },
  {
   "cell_type": "code",
   "execution_count": 64,
   "id": "f2add755-be90-44fd-84e0-cff59e27298b",
   "metadata": {},
   "outputs": [
    {
     "data": {
      "text/plain": [
       "<AxesSubplot: xlabel='DayOfMonth'>"
      ]
     },
     "execution_count": 64,
     "metadata": {},
     "output_type": "execute_result"
    },
    {
     "data": {
      "image/png": "[encoded data removed]",
      "text/plain": [
       "<Figure size 640x480 with 1 Axes>"
      ]
     },
     "metadata": {},
     "output_type": "display_data"
    }
   ],
   "source": [
    "df_multi_country_date.groupby(['DayOfMonth', 'country_code_encoded'])['lag_fut_Contains14 1'].mean().unstack(level=1).plot()"
   ]
  },
  {
   "cell_type": "code",
   "execution_count": 295,
   "id": "f05740da-9863-46d7-983c-007e18c95fa9",
   "metadata": {},
   "outputs": [],
   "source": [
    "# correlation_matrix_plot(df_multi_country_date)"
   ]
  },
  {
   "cell_type": "code",
   "execution_count": 100,
   "id": "c19f7016-ea0c-4270-97c2-be774aba964a",
   "metadata": {},
   "outputs": [
    {
     "data": {
      "text/plain": [
       "0    2854\n",
       "1     107\n",
       "Name: Contains14, dtype: int64"
      ]
     },
     "execution_count": 100,
     "metadata": {},
     "output_type": "execute_result"
    }
   ],
   "source": [
    "df_multi_country_date['Contains14'].value_counts()"
   ]
  },
  {
   "cell_type": "code",
   "execution_count": 297,
   "id": "e2682d4a-a1b0-4f07-a4fe-352433e886e2",
   "metadata": {},
   "outputs": [],
   "source": [
    "# df_multi_country_date['Year'][0]"
   ]
  },
  {
   "cell_type": "code",
   "execution_count": 298,
   "id": "7a0ed085-b400-419c-baf1-8e894addef43",
   "metadata": {},
   "outputs": [],
   "source": [
    "# # X = df_processed = df_multi_country_date.loc[:, df_multi_country_date.columns != ['QuadClass','GoldsteinScale','AvgTone','NumArticles','ActionGeo_CountryCode', 'Contains14', \n",
    "# #                                                 'lag_Contains14 ' + str(n_future)]]\n",
    "\n",
    "# columns_to_exclude = ['QuadClass','GoldsteinScale','AvgTone','NumArticles','ActionGeo_CountryCode', 'Contains14', \n",
    "#                                                 'lag_Contains14 ' + str(n_future), 'SQLDATE','EventCode','date_country']\n",
    "# X = df_multi_country_date.loc[:, ~df_multi_country_date.columns.isin(columns_to_exclude)]\n",
    "\n",
    "# X.head()"
   ]
  },
  {
   "cell_type": "markdown",
   "id": "24cadaa0-0f97-4d88-9e76-6666101a7205",
   "metadata": {
    "jp-MarkdownHeadingCollapsed": true,
    "tags": []
   },
   "source": [
    "## tsfresh feature extraction "
   ]
  },
  {
   "cell_type": "code",
   "execution_count": 299,
   "id": "9e49a780-ba99-4210-b983-a8f6d6743f69",
   "metadata": {},
   "outputs": [
    {
     "data": {
      "text/html": [
       "<div>\n",
       "<style scoped>\n",
       "    .dataframe tbody tr th:only-of-type {\n",
       "        vertical-align: middle;\n",
       "    }\n",
       "\n",
       "    .dataframe tbody tr th {\n",
       "        vertical-align: top;\n",
       "    }\n",
       "\n",
       "    .dataframe thead th {\n",
       "        text-align: right;\n",
       "    }\n",
       "</style>\n",
       "<table border=\"1\" class=\"dataframe\">\n",
       "  <thead>\n",
       "    <tr style=\"text-align: right;\">\n",
       "      <th></th>\n",
       "      <th>SQLDATE</th>\n",
       "      <th>level_1</th>\n",
       "      <th>EventCode</th>\n",
       "      <th>QuadClass</th>\n",
       "      <th>GoldsteinScale</th>\n",
       "      <th>AvgTone</th>\n",
       "      <th>NumArticles</th>\n",
       "      <th>Contains14</th>\n",
       "      <th>country_code_encoded</th>\n",
       "      <th>Year</th>\n",
       "      <th>Month</th>\n",
       "      <th>DayOfMonth</th>\n",
       "    </tr>\n",
       "  </thead>\n",
       "  <tbody>\n",
       "    <tr>\n",
       "      <th>0</th>\n",
       "      <td>2015-01-02</td>\n",
       "      <td>0</td>\n",
       "      <td>42</td>\n",
       "      <td>1</td>\n",
       "      <td>1.9</td>\n",
       "      <td>-4.423868</td>\n",
       "      <td>2</td>\n",
       "      <td>0</td>\n",
       "      <td>0</td>\n",
       "      <td>2015</td>\n",
       "      <td>1</td>\n",
       "      <td>2</td>\n",
       "    </tr>\n",
       "    <tr>\n",
       "      <th>1</th>\n",
       "      <td>2015-01-02</td>\n",
       "      <td>1</td>\n",
       "      <td>1831</td>\n",
       "      <td>4</td>\n",
       "      <td>-10.0</td>\n",
       "      <td>-5.039788</td>\n",
       "      <td>10</td>\n",
       "      <td>0</td>\n",
       "      <td>3</td>\n",
       "      <td>2015</td>\n",
       "      <td>1</td>\n",
       "      <td>2</td>\n",
       "    </tr>\n",
       "    <tr>\n",
       "      <th>2</th>\n",
       "      <td>2015-01-02</td>\n",
       "      <td>2</td>\n",
       "      <td>1123</td>\n",
       "      <td>3</td>\n",
       "      <td>-2.0</td>\n",
       "      <td>-8.681672</td>\n",
       "      <td>5</td>\n",
       "      <td>0</td>\n",
       "      <td>1</td>\n",
       "      <td>2015</td>\n",
       "      <td>1</td>\n",
       "      <td>2</td>\n",
       "    </tr>\n",
       "    <tr>\n",
       "      <th>3</th>\n",
       "      <td>2015-01-02</td>\n",
       "      <td>3</td>\n",
       "      <td>195</td>\n",
       "      <td>4</td>\n",
       "      <td>-10.0</td>\n",
       "      <td>-3.472222</td>\n",
       "      <td>10</td>\n",
       "      <td>0</td>\n",
       "      <td>4</td>\n",
       "      <td>2015</td>\n",
       "      <td>1</td>\n",
       "      <td>2</td>\n",
       "    </tr>\n",
       "    <tr>\n",
       "      <th>4</th>\n",
       "      <td>2015-01-02</td>\n",
       "      <td>4</td>\n",
       "      <td>90</td>\n",
       "      <td>2</td>\n",
       "      <td>-2.0</td>\n",
       "      <td>-4.504505</td>\n",
       "      <td>4</td>\n",
       "      <td>0</td>\n",
       "      <td>2</td>\n",
       "      <td>2015</td>\n",
       "      <td>1</td>\n",
       "      <td>2</td>\n",
       "    </tr>\n",
       "  </tbody>\n",
       "</table>\n",
       "</div>"
      ],
      "text/plain": [
       "      SQLDATE  level_1  EventCode  QuadClass  GoldsteinScale   AvgTone  \\\n",
       "0  2015-01-02        0         42          1             1.9 -4.423868   \n",
       "1  2015-01-02        1       1831          4           -10.0 -5.039788   \n",
       "2  2015-01-02        2       1123          3            -2.0 -8.681672   \n",
       "3  2015-01-02        3        195          4           -10.0 -3.472222   \n",
       "4  2015-01-02        4         90          2            -2.0 -4.504505   \n",
       "\n",
       "   NumArticles  Contains14  country_code_encoded  Year  Month  DayOfMonth  \n",
       "0            2           0                     0  2015      1           2  \n",
       "1           10           0                     3  2015      1           2  \n",
       "2            5           0                     1  2015      1           2  \n",
       "3           10           0                     4  2015      1           2  \n",
       "4            4           0                     2  2015      1           2  "
      ]
     },
     "execution_count": 299,
     "metadata": {},
     "output_type": "execute_result"
    }
   ],
   "source": [
    "df_tsfresh = pd.read_csv('events_FR_SP_AG_L_YM_processed.csv', encoding='utf8', dtype={'EventCode': int})\n",
    "df_tsfresh.head()"
   ]
  },
  {
   "cell_type": "code",
   "execution_count": 300,
   "id": "806522bc-2074-4438-8d92-34d7d5fc275e",
   "metadata": {},
   "outputs": [],
   "source": [
    "df_tsfresh['Contains14_rolling_mean'] = df_tsfresh['Contains14'].rolling(window=4).mean()"
   ]
  },
  {
   "cell_type": "code",
   "execution_count": 301,
   "id": "9e01b7ab-d135-47a7-9229-55a98e0ed9a2",
   "metadata": {},
   "outputs": [
    {
     "data": {
      "text/html": [
       "<div>\n",
       "<style scoped>\n",
       "    .dataframe tbody tr th:only-of-type {\n",
       "        vertical-align: middle;\n",
       "    }\n",
       "\n",
       "    .dataframe tbody tr th {\n",
       "        vertical-align: top;\n",
       "    }\n",
       "\n",
       "    .dataframe thead th {\n",
       "        text-align: right;\n",
       "    }\n",
       "</style>\n",
       "<table border=\"1\" class=\"dataframe\">\n",
       "  <thead>\n",
       "    <tr style=\"text-align: right;\">\n",
       "      <th></th>\n",
       "      <th>SQLDATE</th>\n",
       "      <th>level_1</th>\n",
       "      <th>EventCode</th>\n",
       "      <th>QuadClass</th>\n",
       "      <th>GoldsteinScale</th>\n",
       "      <th>AvgTone</th>\n",
       "      <th>NumArticles</th>\n",
       "      <th>Contains14</th>\n",
       "      <th>country_code_encoded</th>\n",
       "      <th>Year</th>\n",
       "      <th>Month</th>\n",
       "      <th>DayOfMonth</th>\n",
       "      <th>Contains14_rolling_mean</th>\n",
       "    </tr>\n",
       "  </thead>\n",
       "  <tbody>\n",
       "    <tr>\n",
       "      <th>0</th>\n",
       "      <td>2015-01-02</td>\n",
       "      <td>0</td>\n",
       "      <td>42</td>\n",
       "      <td>1</td>\n",
       "      <td>1.9</td>\n",
       "      <td>-4.423868</td>\n",
       "      <td>2</td>\n",
       "      <td>0</td>\n",
       "      <td>0</td>\n",
       "      <td>2015</td>\n",
       "      <td>1</td>\n",
       "      <td>2</td>\n",
       "      <td>NaN</td>\n",
       "    </tr>\n",
       "    <tr>\n",
       "      <th>1</th>\n",
       "      <td>2015-01-02</td>\n",
       "      <td>1</td>\n",
       "      <td>1831</td>\n",
       "      <td>4</td>\n",
       "      <td>-10.0</td>\n",
       "      <td>-5.039788</td>\n",
       "      <td>10</td>\n",
       "      <td>0</td>\n",
       "      <td>3</td>\n",
       "      <td>2015</td>\n",
       "      <td>1</td>\n",
       "      <td>2</td>\n",
       "      <td>NaN</td>\n",
       "    </tr>\n",
       "    <tr>\n",
       "      <th>2</th>\n",
       "      <td>2015-01-02</td>\n",
       "      <td>2</td>\n",
       "      <td>1123</td>\n",
       "      <td>3</td>\n",
       "      <td>-2.0</td>\n",
       "      <td>-8.681672</td>\n",
       "      <td>5</td>\n",
       "      <td>0</td>\n",
       "      <td>1</td>\n",
       "      <td>2015</td>\n",
       "      <td>1</td>\n",
       "      <td>2</td>\n",
       "      <td>NaN</td>\n",
       "    </tr>\n",
       "    <tr>\n",
       "      <th>3</th>\n",
       "      <td>2015-01-02</td>\n",
       "      <td>3</td>\n",
       "      <td>195</td>\n",
       "      <td>4</td>\n",
       "      <td>-10.0</td>\n",
       "      <td>-3.472222</td>\n",
       "      <td>10</td>\n",
       "      <td>0</td>\n",
       "      <td>4</td>\n",
       "      <td>2015</td>\n",
       "      <td>1</td>\n",
       "      <td>2</td>\n",
       "      <td>0.0</td>\n",
       "    </tr>\n",
       "    <tr>\n",
       "      <th>4</th>\n",
       "      <td>2015-01-02</td>\n",
       "      <td>4</td>\n",
       "      <td>90</td>\n",
       "      <td>2</td>\n",
       "      <td>-2.0</td>\n",
       "      <td>-4.504505</td>\n",
       "      <td>4</td>\n",
       "      <td>0</td>\n",
       "      <td>2</td>\n",
       "      <td>2015</td>\n",
       "      <td>1</td>\n",
       "      <td>2</td>\n",
       "      <td>0.0</td>\n",
       "    </tr>\n",
       "  </tbody>\n",
       "</table>\n",
       "</div>"
      ],
      "text/plain": [
       "      SQLDATE  level_1  EventCode  QuadClass  GoldsteinScale   AvgTone  \\\n",
       "0  2015-01-02        0         42          1             1.9 -4.423868   \n",
       "1  2015-01-02        1       1831          4           -10.0 -5.039788   \n",
       "2  2015-01-02        2       1123          3            -2.0 -8.681672   \n",
       "3  2015-01-02        3        195          4           -10.0 -3.472222   \n",
       "4  2015-01-02        4         90          2            -2.0 -4.504505   \n",
       "\n",
       "   NumArticles  Contains14  country_code_encoded  Year  Month  DayOfMonth  \\\n",
       "0            2           0                     0  2015      1           2   \n",
       "1           10           0                     3  2015      1           2   \n",
       "2            5           0                     1  2015      1           2   \n",
       "3           10           0                     4  2015      1           2   \n",
       "4            4           0                     2  2015      1           2   \n",
       "\n",
       "   Contains14_rolling_mean  \n",
       "0                      NaN  \n",
       "1                      NaN  \n",
       "2                      NaN  \n",
       "3                      0.0  \n",
       "4                      0.0  "
      ]
     },
     "execution_count": 301,
     "metadata": {},
     "output_type": "execute_result"
    }
   ],
   "source": [
    "df_tsfresh.head()"
   ]
  },
  {
   "cell_type": "code",
   "execution_count": 302,
   "id": "a2af51af-e3e7-4887-b076-2ea3964c4df4",
   "metadata": {},
   "outputs": [],
   "source": [
    "# df_tsfresh['SQLDATE'] = pd.to_datetime(df_tsfresh['SQLDATE'], format='%Y%m%d')\n",
    "\n",
    "# df_tsfresh['SQLDATE'].strftime(\"%Y%m%d%H%M%S\")"
   ]
  },
  {
   "cell_type": "code",
   "execution_count": 303,
   "id": "29374a22-9fb7-4ee2-94c3-bb947a7a8e01",
   "metadata": {},
   "outputs": [
    {
     "name": "stderr",
     "output_type": "stream",
     "text": [
      "Rolling: 100%|██████████| 40/40 [00:20<00:00,  1.91it/s]\n"
     ]
    }
   ],
   "source": [
    "from tsfresh import extract_relevant_features\n",
    "from tsfresh.utilities.dataframe_functions import roll_time_series\n",
    "\n",
    "\n",
    "df_tsfresh = df_tsfresh[['SQLDATE', 'GoldsteinScale', 'country_code_encoded', 'Contains14']]\n",
    "df_rolled = roll_time_series(df_tsfresh, column_id=\"country_code_encoded\", column_sort=\"SQLDATE\")\n",
    "\n",
    "\n",
    "# print(X.head())\n",
    "#     # column_id=\"id\", column_sort=\"time\", column_kind=None, column_value=None\n",
    "# features_filtered_direct = extract_relevant_features(X,\n",
    "#                                                      column_id='country_code_encoded', column_sort='SQLDATE',column_kind=None, column_value=None)"
   ]
  },
  {
   "cell_type": "code",
   "execution_count": 304,
   "id": "bc0c4b7a-aff9-46e2-bde1-3cb6719afd5b",
   "metadata": {},
   "outputs": [],
   "source": [
    "# df_tsfresh[df_tsfresh['country_code_encoded'] == 0].head()"
   ]
  },
  {
   "cell_type": "code",
   "execution_count": 305,
   "id": "51b74d4a-7499-44dd-a167-3af6d122c3c7",
   "metadata": {},
   "outputs": [],
   "source": [
    "# df_rolled.head()"
   ]
  },
  {
   "cell_type": "code",
   "execution_count": 306,
   "id": "1eb39739-c9a4-4911-be2b-34f2507b4115",
   "metadata": {},
   "outputs": [
    {
     "name": "stderr",
     "output_type": "stream",
     "text": [
      "Feature Extraction:   0%|          | 0/15 [00:00<?, ?it/s]Process ForkPoolWorker-61:\n",
      "Process ForkPoolWorker-62:\n",
      "Feature Extraction:   0%|          | 0/15 [01:30<?, ?it/s]Traceback (most recent call last):\n",
      "  File \"/opt/conda/lib/python3.10/multiprocessing/process.py\", line 314, in _bootstrap\n",
      "    self.run()\n",
      "Traceback (most recent call last):\n",
      "Process ForkPoolWorker-59:\n",
      "Process ForkPoolWorker-58:\n",
      "  File \"/opt/conda/lib/python3.10/multiprocessing/process.py\", line 108, in run\n",
      "    self._target(*self._args, **self._kwargs)\n",
      "  File \"/opt/conda/lib/python3.10/multiprocessing/process.py\", line 314, in _bootstrap\n",
      "    self.run()\n",
      "  File \"/opt/conda/lib/python3.10/multiprocessing/pool.py\", line 114, in worker\n",
      "    task = get()\n",
      "Traceback (most recent call last):\n",
      "  File \"/opt/conda/lib/python3.10/multiprocessing/process.py\", line 108, in run\n",
      "    self._target(*self._args, **self._kwargs)\n",
      "Traceback (most recent call last):\n",
      "  File \"/opt/conda/lib/python3.10/multiprocessing/pool.py\", line 114, in worker\n",
      "    task = get()\n",
      "  File \"/opt/conda/lib/python3.10/multiprocessing/queues.py\", line 365, in get\n",
      "    res = self._reader.recv_bytes()\n",
      "  File \"/opt/conda/lib/python3.10/multiprocessing/process.py\", line 314, in _bootstrap\n",
      "    self.run()\n",
      "  File \"/opt/conda/lib/python3.10/multiprocessing/queues.py\", line 364, in get\n",
      "    with self._rlock:\n",
      "  File \"/opt/conda/lib/python3.10/multiprocessing/process.py\", line 314, in _bootstrap\n",
      "    self.run()\n",
      "  File \"/opt/conda/lib/python3.10/multiprocessing/process.py\", line 108, in run\n",
      "    self._target(*self._args, **self._kwargs)\n",
      "  File \"/opt/conda/lib/python3.10/multiprocessing/connection.py\", line 216, in recv_bytes\n",
      "    buf = self._recv_bytes(maxlength)\n",
      "  File \"/opt/conda/lib/python3.10/multiprocessing/process.py\", line 108, in run\n",
      "    self._target(*self._args, **self._kwargs)\n",
      "\n",
      "  File \"/opt/conda/lib/python3.10/multiprocessing/synchronize.py\", line 95, in __enter__\n",
      "    return self._semlock.__enter__()\n",
      "  File \"/opt/conda/lib/python3.10/multiprocessing/connection.py\", line 414, in _recv_bytes\n",
      "    buf = self._recv(4)\n",
      "  File \"/opt/conda/lib/python3.10/multiprocessing/pool.py\", line 125, in worker\n",
      "    result = (True, func(*args, **kwds))\n",
      "  File \"/opt/conda/lib/python3.10/multiprocessing/pool.py\", line 125, in worker\n",
      "    result = (True, func(*args, **kwds))\n",
      "  File \"/opt/conda/lib/python3.10/site-packages/tsfresh/utilities/distribution.py\", line 43, in _function_with_partly_reduce\n",
      "    results = list(itertools.chain.from_iterable(results))\n",
      "  File \"/opt/conda/lib/python3.10/multiprocessing/connection.py\", line 379, in _recv\n",
      "    chunk = read(handle, remaining)\n",
      "KeyboardInterrupt\n",
      "  File \"/opt/conda/lib/python3.10/site-packages/tsfresh/utilities/distribution.py\", line 43, in _function_with_partly_reduce\n",
      "    results = list(itertools.chain.from_iterable(results))\n",
      "KeyboardInterrupt\n",
      "  File \"/opt/conda/lib/python3.10/site-packages/tsfresh/utilities/distribution.py\", line 42, in <genexpr>\n",
      "    results = (map_function(chunk, **kwargs) for chunk in chunk_list)\n",
      "  File \"/opt/conda/lib/python3.10/site-packages/tsfresh/utilities/distribution.py\", line 42, in <genexpr>\n",
      "    results = (map_function(chunk, **kwargs) for chunk in chunk_list)\n",
      "  File \"/opt/conda/lib/python3.10/site-packages/tsfresh/feature_extraction/extraction.py\", line 386, in _do_extraction_on_chunk\n",
      "    return list(_f())\n",
      "  File \"/opt/conda/lib/python3.10/site-packages/tsfresh/feature_extraction/extraction.py\", line 386, in _do_extraction_on_chunk\n",
      "    return list(_f())\n",
      "  File \"/opt/conda/lib/python3.10/site-packages/tsfresh/feature_extraction/extraction.py\", line 372, in _f\n",
      "    result = [(\"\", func(x))]\n",
      "  File \"/opt/conda/lib/python3.10/site-packages/tsfresh/feature_extraction/extraction.py\", line 372, in _f\n",
      "    result = [(\"\", func(x))]\n",
      "  File \"/opt/conda/lib/python3.10/site-packages/tsfresh/feature_extraction/feature_calculators.py\", line 2357, in benford_correlation\n",
      "    [int(str(np.format_float_scientific(i))[:1]) for i in np.abs(np.nan_to_num(x))]\n",
      "  File \"/opt/conda/lib/python3.10/site-packages/tsfresh/feature_extraction/feature_calculators.py\", line 2357, in benford_correlation\n",
      "    [int(str(np.format_float_scientific(i))[:1]) for i in np.abs(np.nan_to_num(x))]\n",
      "  File \"/opt/conda/lib/python3.10/site-packages/tsfresh/feature_extraction/feature_calculators.py\", line 2357, in <listcomp>\n",
      "    [int(str(np.format_float_scientific(i))[:1]) for i in np.abs(np.nan_to_num(x))]\n",
      "  File \"/opt/conda/lib/python3.10/site-packages/tsfresh/feature_extraction/feature_calculators.py\", line 2357, in <listcomp>\n",
      "    [int(str(np.format_float_scientific(i))[:1]) for i in np.abs(np.nan_to_num(x))]\n",
      "KeyboardInterrupt\n",
      "KeyboardInterrupt\n"
     ]
    },
    {
     "ename": "KeyboardInterrupt",
     "evalue": "",
     "output_type": "error",
     "traceback": [
      "\u001b[0;31m---------------------------------------------------------------------------\u001b[0m",
      "\u001b[0;31mIndexError\u001b[0m                                Traceback (most recent call last)",
      "File \u001b[0;32m/opt/conda/lib/python3.10/multiprocessing/pool.py:856\u001b[0m, in \u001b[0;36mIMapIterator.next\u001b[0;34m(self, timeout)\u001b[0m\n\u001b[1;32m    855\u001b[0m \u001b[38;5;28;01mtry\u001b[39;00m:\n\u001b[0;32m--> 856\u001b[0m     item \u001b[38;5;241m=\u001b[39m \u001b[38;5;28;43mself\u001b[39;49m\u001b[38;5;241;43m.\u001b[39;49m\u001b[43m_items\u001b[49m\u001b[38;5;241;43m.\u001b[39;49m\u001b[43mpopleft\u001b[49m\u001b[43m(\u001b[49m\u001b[43m)\u001b[49m\n\u001b[1;32m    857\u001b[0m \u001b[38;5;28;01mexcept\u001b[39;00m \u001b[38;5;167;01mIndexError\u001b[39;00m:\n",
      "\u001b[0;31mIndexError\u001b[0m: pop from an empty deque",
      "\nDuring handling of the above exception, another exception occurred:\n",
      "\u001b[0;31mKeyboardInterrupt\u001b[0m                         Traceback (most recent call last)",
      "Cell \u001b[0;32mIn[306], line 7\u001b[0m\n\u001b[1;32m      3\u001b[0m \u001b[38;5;28;01mfrom\u001b[39;00m \u001b[38;5;21;01mtsfresh\u001b[39;00m\u001b[38;5;21;01m.\u001b[39;00m\u001b[38;5;21;01mfeature_extraction\u001b[39;00m \u001b[38;5;28;01mimport\u001b[39;00m EfficientFCParameters, MinimalFCParameters\n\u001b[1;32m      4\u001b[0m \u001b[38;5;66;03m# df_features = extract_features(df_rolled, column_id=\"country_code_encoded\", column_sort=\"SQLDATE\", feature_extraction_settings = MinimalFeatureExtractionSettings())\u001b[39;00m\n\u001b[0;32m----> 7\u001b[0m df_features \u001b[38;5;241m=\u001b[39m \u001b[43mextract_features\u001b[49m\u001b[43m(\u001b[49m\u001b[43mdf_rolled\u001b[49m\u001b[43m,\u001b[49m\u001b[43mcolumn_id\u001b[49m\u001b[38;5;241;43m=\u001b[39;49m\u001b[38;5;124;43m\"\u001b[39;49m\u001b[38;5;124;43mcountry_code_encoded\u001b[39;49m\u001b[38;5;124;43m\"\u001b[39;49m\u001b[43m,\u001b[49m\u001b[43m \u001b[49m\u001b[43mcolumn_sort\u001b[49m\u001b[38;5;241;43m=\u001b[39;49m\u001b[38;5;124;43m\"\u001b[39;49m\u001b[38;5;124;43mSQLDATE\u001b[39;49m\u001b[38;5;124;43m\"\u001b[39;49m\u001b[43m,\u001b[49m\u001b[43m \u001b[49m\u001b[43mdefault_fc_parameters\u001b[49m\u001b[38;5;241;43m=\u001b[39;49m\u001b[43mEfficientFCParameters\u001b[49m\u001b[43m(\u001b[49m\u001b[43m)\u001b[49m\u001b[43m)\u001b[49m\n",
      "File \u001b[0;32m/opt/conda/lib/python3.10/site-packages/tsfresh/feature_extraction/extraction.py:164\u001b[0m, in \u001b[0;36mextract_features\u001b[0;34m(timeseries_container, default_fc_parameters, kind_to_fc_parameters, column_id, column_sort, column_kind, column_value, chunksize, n_jobs, show_warnings, disable_progressbar, impute_function, profile, profiling_filename, profiling_sorting, distributor, pivot)\u001b[0m\n\u001b[1;32m    161\u001b[0m \u001b[38;5;28;01melse\u001b[39;00m:\n\u001b[1;32m    162\u001b[0m     warnings\u001b[38;5;241m.\u001b[39msimplefilter(\u001b[38;5;124m\"\u001b[39m\u001b[38;5;124mdefault\u001b[39m\u001b[38;5;124m\"\u001b[39m)\n\u001b[0;32m--> 164\u001b[0m result \u001b[38;5;241m=\u001b[39m \u001b[43m_do_extraction\u001b[49m\u001b[43m(\u001b[49m\n\u001b[1;32m    165\u001b[0m \u001b[43m    \u001b[49m\u001b[43mdf\u001b[49m\u001b[38;5;241;43m=\u001b[39;49m\u001b[43mtimeseries_container\u001b[49m\u001b[43m,\u001b[49m\n\u001b[1;32m    166\u001b[0m \u001b[43m    \u001b[49m\u001b[43mcolumn_id\u001b[49m\u001b[38;5;241;43m=\u001b[39;49m\u001b[43mcolumn_id\u001b[49m\u001b[43m,\u001b[49m\n\u001b[1;32m    167\u001b[0m \u001b[43m    \u001b[49m\u001b[43mcolumn_value\u001b[49m\u001b[38;5;241;43m=\u001b[39;49m\u001b[43mcolumn_value\u001b[49m\u001b[43m,\u001b[49m\n\u001b[1;32m    168\u001b[0m \u001b[43m    \u001b[49m\u001b[43mcolumn_kind\u001b[49m\u001b[38;5;241;43m=\u001b[39;49m\u001b[43mcolumn_kind\u001b[49m\u001b[43m,\u001b[49m\n\u001b[1;32m    169\u001b[0m \u001b[43m    \u001b[49m\u001b[43mcolumn_sort\u001b[49m\u001b[38;5;241;43m=\u001b[39;49m\u001b[43mcolumn_sort\u001b[49m\u001b[43m,\u001b[49m\n\u001b[1;32m    170\u001b[0m \u001b[43m    \u001b[49m\u001b[43mn_jobs\u001b[49m\u001b[38;5;241;43m=\u001b[39;49m\u001b[43mn_jobs\u001b[49m\u001b[43m,\u001b[49m\n\u001b[1;32m    171\u001b[0m \u001b[43m    \u001b[49m\u001b[43mchunk_size\u001b[49m\u001b[38;5;241;43m=\u001b[39;49m\u001b[43mchunksize\u001b[49m\u001b[43m,\u001b[49m\n\u001b[1;32m    172\u001b[0m \u001b[43m    \u001b[49m\u001b[43mdisable_progressbar\u001b[49m\u001b[38;5;241;43m=\u001b[39;49m\u001b[43mdisable_progressbar\u001b[49m\u001b[43m,\u001b[49m\n\u001b[1;32m    173\u001b[0m \u001b[43m    \u001b[49m\u001b[43mshow_warnings\u001b[49m\u001b[38;5;241;43m=\u001b[39;49m\u001b[43mshow_warnings\u001b[49m\u001b[43m,\u001b[49m\n\u001b[1;32m    174\u001b[0m \u001b[43m    \u001b[49m\u001b[43mdefault_fc_parameters\u001b[49m\u001b[38;5;241;43m=\u001b[39;49m\u001b[43mdefault_fc_parameters\u001b[49m\u001b[43m,\u001b[49m\n\u001b[1;32m    175\u001b[0m \u001b[43m    \u001b[49m\u001b[43mkind_to_fc_parameters\u001b[49m\u001b[38;5;241;43m=\u001b[39;49m\u001b[43mkind_to_fc_parameters\u001b[49m\u001b[43m,\u001b[49m\n\u001b[1;32m    176\u001b[0m \u001b[43m    \u001b[49m\u001b[43mdistributor\u001b[49m\u001b[38;5;241;43m=\u001b[39;49m\u001b[43mdistributor\u001b[49m\u001b[43m,\u001b[49m\n\u001b[1;32m    177\u001b[0m \u001b[43m    \u001b[49m\u001b[43mpivot\u001b[49m\u001b[38;5;241;43m=\u001b[39;49m\u001b[43mpivot\u001b[49m\u001b[43m,\u001b[49m\n\u001b[1;32m    178\u001b[0m \u001b[43m\u001b[49m\u001b[43m)\u001b[49m\n\u001b[1;32m    180\u001b[0m \u001b[38;5;66;03m# Impute the result if requested\u001b[39;00m\n\u001b[1;32m    181\u001b[0m \u001b[38;5;28;01mif\u001b[39;00m impute_function \u001b[38;5;129;01mis\u001b[39;00m \u001b[38;5;129;01mnot\u001b[39;00m \u001b[38;5;28;01mNone\u001b[39;00m:\n",
      "File \u001b[0;32m/opt/conda/lib/python3.10/site-packages/tsfresh/feature_extraction/extraction.py:294\u001b[0m, in \u001b[0;36m_do_extraction\u001b[0;34m(df, column_id, column_value, column_kind, column_sort, default_fc_parameters, kind_to_fc_parameters, n_jobs, chunk_size, disable_progressbar, show_warnings, distributor, pivot)\u001b[0m\n\u001b[1;32m    286\u001b[0m     \u001b[38;5;28;01mraise\u001b[39;00m \u001b[38;5;167;01mValueError\u001b[39;00m(\u001b[38;5;124m\"\u001b[39m\u001b[38;5;124mthe passed distributor is not an DistributorBaseClass object\u001b[39m\u001b[38;5;124m\"\u001b[39m)\n\u001b[1;32m    288\u001b[0m kwargs \u001b[38;5;241m=\u001b[39m \u001b[38;5;28mdict\u001b[39m(\n\u001b[1;32m    289\u001b[0m     default_fc_parameters\u001b[38;5;241m=\u001b[39mdefault_fc_parameters,\n\u001b[1;32m    290\u001b[0m     kind_to_fc_parameters\u001b[38;5;241m=\u001b[39mkind_to_fc_parameters,\n\u001b[1;32m    291\u001b[0m     show_warnings\u001b[38;5;241m=\u001b[39mshow_warnings,\n\u001b[1;32m    292\u001b[0m )\n\u001b[0;32m--> 294\u001b[0m result \u001b[38;5;241m=\u001b[39m \u001b[43mdistributor\u001b[49m\u001b[38;5;241;43m.\u001b[39;49m\u001b[43mmap_reduce\u001b[49m\u001b[43m(\u001b[49m\n\u001b[1;32m    295\u001b[0m \u001b[43m    \u001b[49m\u001b[43m_do_extraction_on_chunk\u001b[49m\u001b[43m,\u001b[49m\n\u001b[1;32m    296\u001b[0m \u001b[43m    \u001b[49m\u001b[43mdata\u001b[49m\u001b[38;5;241;43m=\u001b[39;49m\u001b[43mdata\u001b[49m\u001b[43m,\u001b[49m\n\u001b[1;32m    297\u001b[0m \u001b[43m    \u001b[49m\u001b[43mchunk_size\u001b[49m\u001b[38;5;241;43m=\u001b[39;49m\u001b[43mchunk_size\u001b[49m\u001b[43m,\u001b[49m\n\u001b[1;32m    298\u001b[0m \u001b[43m    \u001b[49m\u001b[43mfunction_kwargs\u001b[49m\u001b[38;5;241;43m=\u001b[39;49m\u001b[43mkwargs\u001b[49m\u001b[43m,\u001b[49m\n\u001b[1;32m    299\u001b[0m \u001b[43m\u001b[49m\u001b[43m)\u001b[49m\n\u001b[1;32m    301\u001b[0m \u001b[38;5;28;01mif\u001b[39;00m \u001b[38;5;129;01mnot\u001b[39;00m pivot:\n\u001b[1;32m    302\u001b[0m     \u001b[38;5;28;01mreturn\u001b[39;00m result\n",
      "File \u001b[0;32m/opt/conda/lib/python3.10/site-packages/tsfresh/utilities/distribution.py:241\u001b[0m, in \u001b[0;36mIterableDistributorBaseClass.map_reduce\u001b[0;34m(self, map_function, data, function_kwargs, chunk_size, data_length)\u001b[0m\n\u001b[1;32m    234\u001b[0m \u001b[38;5;28;01melse\u001b[39;00m:\n\u001b[1;32m    235\u001b[0m     result \u001b[38;5;241m=\u001b[39m (\n\u001b[1;32m    236\u001b[0m         \u001b[38;5;28mself\u001b[39m\u001b[38;5;241m.\u001b[39mdistribute(\n\u001b[1;32m    237\u001b[0m             _function_with_partly_reduce, chunk_generator, map_kwargs\n\u001b[1;32m    238\u001b[0m         ),\n\u001b[1;32m    239\u001b[0m     )\n\u001b[0;32m--> 241\u001b[0m result \u001b[38;5;241m=\u001b[39m \u001b[38;5;28;43mlist\u001b[39;49m\u001b[43m(\u001b[49m\u001b[43mitertools\u001b[49m\u001b[38;5;241;43m.\u001b[39;49m\u001b[43mchain\u001b[49m\u001b[38;5;241;43m.\u001b[39;49m\u001b[43mfrom_iterable\u001b[49m\u001b[43m(\u001b[49m\u001b[43mresult\u001b[49m\u001b[43m)\u001b[49m\u001b[43m)\u001b[49m\n\u001b[1;32m    243\u001b[0m \u001b[38;5;28mself\u001b[39m\u001b[38;5;241m.\u001b[39mclose()\n\u001b[1;32m    245\u001b[0m \u001b[38;5;28;01mreturn\u001b[39;00m result\n",
      "File \u001b[0;32m/opt/conda/lib/python3.10/site-packages/tqdm/std.py:1178\u001b[0m, in \u001b[0;36mtqdm.__iter__\u001b[0;34m(self)\u001b[0m\n\u001b[1;32m   1175\u001b[0m time \u001b[38;5;241m=\u001b[39m \u001b[38;5;28mself\u001b[39m\u001b[38;5;241m.\u001b[39m_time\n\u001b[1;32m   1177\u001b[0m \u001b[38;5;28;01mtry\u001b[39;00m:\n\u001b[0;32m-> 1178\u001b[0m     \u001b[38;5;28;01mfor\u001b[39;00m obj \u001b[38;5;129;01min\u001b[39;00m iterable:\n\u001b[1;32m   1179\u001b[0m         \u001b[38;5;28;01myield\u001b[39;00m obj\n\u001b[1;32m   1180\u001b[0m         \u001b[38;5;66;03m# Update and possibly print the progressbar.\u001b[39;00m\n\u001b[1;32m   1181\u001b[0m         \u001b[38;5;66;03m# Note: does not call self.update(1) for speed optimisation.\u001b[39;00m\n",
      "File \u001b[0;32m/opt/conda/lib/python3.10/multiprocessing/pool.py:861\u001b[0m, in \u001b[0;36mIMapIterator.next\u001b[0;34m(self, timeout)\u001b[0m\n\u001b[1;32m    859\u001b[0m     \u001b[38;5;28mself\u001b[39m\u001b[38;5;241m.\u001b[39m_pool \u001b[38;5;241m=\u001b[39m \u001b[38;5;28;01mNone\u001b[39;00m\n\u001b[1;32m    860\u001b[0m     \u001b[38;5;28;01mraise\u001b[39;00m \u001b[38;5;167;01mStopIteration\u001b[39;00m \u001b[38;5;28;01mfrom\u001b[39;00m \u001b[38;5;28;01mNone\u001b[39;00m\n\u001b[0;32m--> 861\u001b[0m \u001b[38;5;28;43mself\u001b[39;49m\u001b[38;5;241;43m.\u001b[39;49m\u001b[43m_cond\u001b[49m\u001b[38;5;241;43m.\u001b[39;49m\u001b[43mwait\u001b[49m\u001b[43m(\u001b[49m\u001b[43mtimeout\u001b[49m\u001b[43m)\u001b[49m\n\u001b[1;32m    862\u001b[0m \u001b[38;5;28;01mtry\u001b[39;00m:\n\u001b[1;32m    863\u001b[0m     item \u001b[38;5;241m=\u001b[39m \u001b[38;5;28mself\u001b[39m\u001b[38;5;241m.\u001b[39m_items\u001b[38;5;241m.\u001b[39mpopleft()\n",
      "File \u001b[0;32m/opt/conda/lib/python3.10/threading.py:320\u001b[0m, in \u001b[0;36mCondition.wait\u001b[0;34m(self, timeout)\u001b[0m\n\u001b[1;32m    318\u001b[0m \u001b[38;5;28;01mtry\u001b[39;00m:    \u001b[38;5;66;03m# restore state no matter what (e.g., KeyboardInterrupt)\u001b[39;00m\n\u001b[1;32m    319\u001b[0m     \u001b[38;5;28;01mif\u001b[39;00m timeout \u001b[38;5;129;01mis\u001b[39;00m \u001b[38;5;28;01mNone\u001b[39;00m:\n\u001b[0;32m--> 320\u001b[0m         \u001b[43mwaiter\u001b[49m\u001b[38;5;241;43m.\u001b[39;49m\u001b[43macquire\u001b[49m\u001b[43m(\u001b[49m\u001b[43m)\u001b[49m\n\u001b[1;32m    321\u001b[0m         gotit \u001b[38;5;241m=\u001b[39m \u001b[38;5;28;01mTrue\u001b[39;00m\n\u001b[1;32m    322\u001b[0m     \u001b[38;5;28;01melse\u001b[39;00m:\n",
      "\u001b[0;31mKeyboardInterrupt\u001b[0m: "
     ]
    }
   ],
   "source": [
    "# from tsfresh import extract_features\n",
    "# from tsfresh.feature_extraction import MinimalFeatureExtractionSettings\n",
    "from tsfresh.feature_extraction import EfficientFCParameters, MinimalFCParameters\n",
    "# df_features = extract_features(df_rolled, column_id=\"country_code_encoded\", column_sort=\"SQLDATE\", feature_extraction_settings = MinimalFeatureExtractionSettings())\n",
    "\n",
    "\n",
    "df_features = extract_features(df_rolled,column_id=\"country_code_encoded\", column_sort=\"SQLDATE\", default_fc_parameters=EfficientFCParameters())"
   ]
  },
  {
   "cell_type": "code",
   "execution_count": 1,
   "id": "1381924a-cef7-4781-aaef-9f25cd8aed92",
   "metadata": {},
   "outputs": [
    {
     "name": "stderr",
     "output_type": "stream",
     "text": [
      "Rolling: 100%|██████████| 4/4 [00:00<00:00, 366.00it/s]\n",
      "Feature Extraction: 100%|██████████| 12/12 [00:00<00:00, 88.45it/s]\n"
     ]
    }
   ],
   "source": [
    "import pandas as pd\n",
    "df = pd.DataFrame({\n",
    "   \"id\": [1, 1, 1, 1, 2, 2],\n",
    "   \"time\": [1, 2, 3, 4, 8, 9],\n",
    "   \"x\": [1, 2, 3, 4, 10, 11],\n",
    "   \"y\": [5, 6, 7, 8, 12, 13],\n",
    "})\n",
    "\n",
    "from tsfresh.utilities.dataframe_functions import roll_time_series\n",
    "df_rolled = roll_time_series(df, column_id=\"id\", column_sort=\"time\")\n",
    "from tsfresh import extract_features\n",
    "df_features = extract_features(df_rolled, column_id=\"id\", column_sort=\"time\")"
   ]
  },
  {
   "cell_type": "code",
   "execution_count": 2,
   "id": "e4fa5f0e-60aa-4914-b65e-157d914878cc",
   "metadata": {},
   "outputs": [
    {
     "data": {
      "text/html": [
       "<div>\n",
       "<style scoped>\n",
       "    .dataframe tbody tr th:only-of-type {\n",
       "        vertical-align: middle;\n",
       "    }\n",
       "\n",
       "    .dataframe tbody tr th {\n",
       "        vertical-align: top;\n",
       "    }\n",
       "\n",
       "    .dataframe thead th {\n",
       "        text-align: right;\n",
       "    }\n",
       "</style>\n",
       "<table border=\"1\" class=\"dataframe\">\n",
       "  <thead>\n",
       "    <tr style=\"text-align: right;\">\n",
       "      <th></th>\n",
       "      <th></th>\n",
       "      <th>y__variance_larger_than_standard_deviation</th>\n",
       "      <th>y__has_duplicate_max</th>\n",
       "      <th>y__has_duplicate_min</th>\n",
       "      <th>y__has_duplicate</th>\n",
       "      <th>y__sum_values</th>\n",
       "      <th>y__abs_energy</th>\n",
       "      <th>y__mean_abs_change</th>\n",
       "      <th>y__mean_change</th>\n",
       "      <th>y__mean_second_derivative_central</th>\n",
       "      <th>y__median</th>\n",
       "      <th>...</th>\n",
       "      <th>x__fourier_entropy__bins_5</th>\n",
       "      <th>x__fourier_entropy__bins_10</th>\n",
       "      <th>x__fourier_entropy__bins_100</th>\n",
       "      <th>x__permutation_entropy__dimension_3__tau_1</th>\n",
       "      <th>x__permutation_entropy__dimension_4__tau_1</th>\n",
       "      <th>x__permutation_entropy__dimension_5__tau_1</th>\n",
       "      <th>x__permutation_entropy__dimension_6__tau_1</th>\n",
       "      <th>x__permutation_entropy__dimension_7__tau_1</th>\n",
       "      <th>x__query_similarity_count__query_None__threshold_0.0</th>\n",
       "      <th>x__mean_n_absolute_max__number_of_maxima_7</th>\n",
       "    </tr>\n",
       "  </thead>\n",
       "  <tbody>\n",
       "    <tr>\n",
       "      <th rowspan=\"4\" valign=\"top\">1</th>\n",
       "      <th>1</th>\n",
       "      <td>0.0</td>\n",
       "      <td>0.0</td>\n",
       "      <td>0.0</td>\n",
       "      <td>0.0</td>\n",
       "      <td>5.0</td>\n",
       "      <td>25.0</td>\n",
       "      <td>NaN</td>\n",
       "      <td>NaN</td>\n",
       "      <td>NaN</td>\n",
       "      <td>5.0</td>\n",
       "      <td>...</td>\n",
       "      <td>NaN</td>\n",
       "      <td>NaN</td>\n",
       "      <td>NaN</td>\n",
       "      <td>NaN</td>\n",
       "      <td>NaN</td>\n",
       "      <td>NaN</td>\n",
       "      <td>NaN</td>\n",
       "      <td>NaN</td>\n",
       "      <td>NaN</td>\n",
       "      <td>NaN</td>\n",
       "    </tr>\n",
       "    <tr>\n",
       "      <th>2</th>\n",
       "      <td>0.0</td>\n",
       "      <td>0.0</td>\n",
       "      <td>0.0</td>\n",
       "      <td>0.0</td>\n",
       "      <td>11.0</td>\n",
       "      <td>61.0</td>\n",
       "      <td>1.0</td>\n",
       "      <td>1.0</td>\n",
       "      <td>NaN</td>\n",
       "      <td>5.5</td>\n",
       "      <td>...</td>\n",
       "      <td>-0.000000</td>\n",
       "      <td>-0.000000</td>\n",
       "      <td>-0.000000</td>\n",
       "      <td>NaN</td>\n",
       "      <td>NaN</td>\n",
       "      <td>NaN</td>\n",
       "      <td>NaN</td>\n",
       "      <td>NaN</td>\n",
       "      <td>NaN</td>\n",
       "      <td>NaN</td>\n",
       "    </tr>\n",
       "    <tr>\n",
       "      <th>3</th>\n",
       "      <td>0.0</td>\n",
       "      <td>0.0</td>\n",
       "      <td>0.0</td>\n",
       "      <td>0.0</td>\n",
       "      <td>18.0</td>\n",
       "      <td>110.0</td>\n",
       "      <td>1.0</td>\n",
       "      <td>1.0</td>\n",
       "      <td>0.0</td>\n",
       "      <td>6.0</td>\n",
       "      <td>...</td>\n",
       "      <td>0.693147</td>\n",
       "      <td>0.693147</td>\n",
       "      <td>0.693147</td>\n",
       "      <td>-0.0</td>\n",
       "      <td>NaN</td>\n",
       "      <td>NaN</td>\n",
       "      <td>NaN</td>\n",
       "      <td>NaN</td>\n",
       "      <td>NaN</td>\n",
       "      <td>NaN</td>\n",
       "    </tr>\n",
       "    <tr>\n",
       "      <th>4</th>\n",
       "      <td>1.0</td>\n",
       "      <td>0.0</td>\n",
       "      <td>0.0</td>\n",
       "      <td>0.0</td>\n",
       "      <td>26.0</td>\n",
       "      <td>174.0</td>\n",
       "      <td>1.0</td>\n",
       "      <td>1.0</td>\n",
       "      <td>0.0</td>\n",
       "      <td>6.5</td>\n",
       "      <td>...</td>\n",
       "      <td>1.098612</td>\n",
       "      <td>1.098612</td>\n",
       "      <td>1.098612</td>\n",
       "      <td>-0.0</td>\n",
       "      <td>-0.0</td>\n",
       "      <td>NaN</td>\n",
       "      <td>NaN</td>\n",
       "      <td>NaN</td>\n",
       "      <td>NaN</td>\n",
       "      <td>NaN</td>\n",
       "    </tr>\n",
       "    <tr>\n",
       "      <th>2</th>\n",
       "      <th>8</th>\n",
       "      <td>0.0</td>\n",
       "      <td>0.0</td>\n",
       "      <td>0.0</td>\n",
       "      <td>0.0</td>\n",
       "      <td>12.0</td>\n",
       "      <td>144.0</td>\n",
       "      <td>NaN</td>\n",
       "      <td>NaN</td>\n",
       "      <td>NaN</td>\n",
       "      <td>12.0</td>\n",
       "      <td>...</td>\n",
       "      <td>NaN</td>\n",
       "      <td>NaN</td>\n",
       "      <td>NaN</td>\n",
       "      <td>NaN</td>\n",
       "      <td>NaN</td>\n",
       "      <td>NaN</td>\n",
       "      <td>NaN</td>\n",
       "      <td>NaN</td>\n",
       "      <td>NaN</td>\n",
       "      <td>NaN</td>\n",
       "    </tr>\n",
       "  </tbody>\n",
       "</table>\n",
       "<p>5 rows × 1566 columns</p>\n",
       "</div>"
      ],
      "text/plain": [
       "     y__variance_larger_than_standard_deviation  y__has_duplicate_max  \\\n",
       "1 1                                         0.0                   0.0   \n",
       "  2                                         0.0                   0.0   \n",
       "  3                                         0.0                   0.0   \n",
       "  4                                         1.0                   0.0   \n",
       "2 8                                         0.0                   0.0   \n",
       "\n",
       "     y__has_duplicate_min  y__has_duplicate  y__sum_values  y__abs_energy  \\\n",
       "1 1                   0.0               0.0            5.0           25.0   \n",
       "  2                   0.0               0.0           11.0           61.0   \n",
       "  3                   0.0               0.0           18.0          110.0   \n",
       "  4                   0.0               0.0           26.0          174.0   \n",
       "2 8                   0.0               0.0           12.0          144.0   \n",
       "\n",
       "     y__mean_abs_change  y__mean_change  y__mean_second_derivative_central  \\\n",
       "1 1                 NaN             NaN                                NaN   \n",
       "  2                 1.0             1.0                                NaN   \n",
       "  3                 1.0             1.0                                0.0   \n",
       "  4                 1.0             1.0                                0.0   \n",
       "2 8                 NaN             NaN                                NaN   \n",
       "\n",
       "     y__median  ...  x__fourier_entropy__bins_5  x__fourier_entropy__bins_10  \\\n",
       "1 1        5.0  ...                         NaN                          NaN   \n",
       "  2        5.5  ...                   -0.000000                    -0.000000   \n",
       "  3        6.0  ...                    0.693147                     0.693147   \n",
       "  4        6.5  ...                    1.098612                     1.098612   \n",
       "2 8       12.0  ...                         NaN                          NaN   \n",
       "\n",
       "     x__fourier_entropy__bins_100  x__permutation_entropy__dimension_3__tau_1  \\\n",
       "1 1                           NaN                                         NaN   \n",
       "  2                     -0.000000                                         NaN   \n",
       "  3                      0.693147                                        -0.0   \n",
       "  4                      1.098612                                        -0.0   \n",
       "2 8                           NaN                                         NaN   \n",
       "\n",
       "     x__permutation_entropy__dimension_4__tau_1  \\\n",
       "1 1                                         NaN   \n",
       "  2                                         NaN   \n",
       "  3                                         NaN   \n",
       "  4                                        -0.0   \n",
       "2 8                                         NaN   \n",
       "\n",
       "     x__permutation_entropy__dimension_5__tau_1  \\\n",
       "1 1                                         NaN   \n",
       "  2                                         NaN   \n",
       "  3                                         NaN   \n",
       "  4                                         NaN   \n",
       "2 8                                         NaN   \n",
       "\n",
       "     x__permutation_entropy__dimension_6__tau_1  \\\n",
       "1 1                                         NaN   \n",
       "  2                                         NaN   \n",
       "  3                                         NaN   \n",
       "  4                                         NaN   \n",
       "2 8                                         NaN   \n",
       "\n",
       "     x__permutation_entropy__dimension_7__tau_1  \\\n",
       "1 1                                         NaN   \n",
       "  2                                         NaN   \n",
       "  3                                         NaN   \n",
       "  4                                         NaN   \n",
       "2 8                                         NaN   \n",
       "\n",
       "     x__query_similarity_count__query_None__threshold_0.0  \\\n",
       "1 1                                                NaN      \n",
       "  2                                                NaN      \n",
       "  3                                                NaN      \n",
       "  4                                                NaN      \n",
       "2 8                                                NaN      \n",
       "\n",
       "     x__mean_n_absolute_max__number_of_maxima_7  \n",
       "1 1                                         NaN  \n",
       "  2                                         NaN  \n",
       "  3                                         NaN  \n",
       "  4                                         NaN  \n",
       "2 8                                         NaN  \n",
       "\n",
       "[5 rows x 1566 columns]"
      ]
     },
     "execution_count": 2,
     "metadata": {},
     "output_type": "execute_result"
    }
   ],
   "source": [
    "df_features.head()"
   ]
  },
  {
   "cell_type": "markdown",
   "id": "ed8a5731-86e4-42a7-b5c6-52110c432a22",
   "metadata": {
    "jp-MarkdownHeadingCollapsed": true,
    "tags": []
   },
   "source": [
    "## LSTM"
   ]
  },
  {
   "cell_type": "code",
   "execution_count": 101,
   "id": "5368be10-548c-4aae-8a0c-aa6c1a697c18",
   "metadata": {},
   "outputs": [],
   "source": [
    "from sklearn.metrics import accuracy_score, f1_score, confusion_matrix, precision_score, recall_score\n",
    "import matplotlib.pyplot as plt\n",
    "import numpy as np\n",
    "import pandas as pd\n",
    "import torch\n",
    "import torch.nn as nn\n",
    "\n",
    "import torch.optim as optim\n",
    "import torch.utils.data as data\n",
    "import torch.nn.functional as F"
   ]
  },
  {
   "cell_type": "code",
   "execution_count": 102,
   "id": "1c1c3860-5f55-4ed6-834b-bc9cf8cdc933",
   "metadata": {},
   "outputs": [],
   "source": [
    "# df = pd.read_csv('master_airline-passengers.csv')\n",
    "# timeseries = df[[\"Passengers\"]].values.astype('float32')"
   ]
  },
  {
   "cell_type": "code",
   "execution_count": 103,
   "id": "b3fb3a8c-e279-4558-bc7f-6c31451e9042",
   "metadata": {},
   "outputs": [],
   "source": [
    "# df.head()"
   ]
  },
  {
   "cell_type": "code",
   "execution_count": 104,
   "id": "a1a16526-e2bf-4277-ad70-3434b3f5390c",
   "metadata": {},
   "outputs": [
    {
     "data": {
      "text/html": [
       "<div>\n",
       "<style scoped>\n",
       "    .dataframe tbody tr th:only-of-type {\n",
       "        vertical-align: middle;\n",
       "    }\n",
       "\n",
       "    .dataframe tbody tr th {\n",
       "        vertical-align: top;\n",
       "    }\n",
       "\n",
       "    .dataframe thead th {\n",
       "        text-align: right;\n",
       "    }\n",
       "</style>\n",
       "<table border=\"1\" class=\"dataframe\">\n",
       "  <thead>\n",
       "    <tr style=\"text-align: right;\">\n",
       "      <th></th>\n",
       "      <th>level_0</th>\n",
       "      <th>SQLDATE</th>\n",
       "      <th>EventCode</th>\n",
       "      <th>QuadClass</th>\n",
       "      <th>GoldsteinScale</th>\n",
       "      <th>AvgTone</th>\n",
       "      <th>NumArticles</th>\n",
       "      <th>NumMentions</th>\n",
       "      <th>Contains14sub</th>\n",
       "      <th>Contains14</th>\n",
       "      <th>...</th>\n",
       "      <th>lag_Contains14_94</th>\n",
       "      <th>lag_Contains14_95</th>\n",
       "      <th>lag_Contains14_96</th>\n",
       "      <th>lag_Contains14_97</th>\n",
       "      <th>lag_Contains14_98</th>\n",
       "      <th>lag_Contains14_99</th>\n",
       "      <th>lag_Contains14_100</th>\n",
       "      <th>Year</th>\n",
       "      <th>Month</th>\n",
       "      <th>DayOfMonth</th>\n",
       "    </tr>\n",
       "  </thead>\n",
       "  <tbody>\n",
       "    <tr>\n",
       "      <th>100</th>\n",
       "      <td>0</td>\n",
       "      <td>2015-04-12</td>\n",
       "      <td>141</td>\n",
       "      <td>3</td>\n",
       "      <td>-6.5</td>\n",
       "      <td>-3.284672</td>\n",
       "      <td>1</td>\n",
       "      <td>1</td>\n",
       "      <td>1</td>\n",
       "      <td>0</td>\n",
       "      <td>...</td>\n",
       "      <td>0.0</td>\n",
       "      <td>0.0</td>\n",
       "      <td>0.0</td>\n",
       "      <td>0.0</td>\n",
       "      <td>0.0</td>\n",
       "      <td>0.0</td>\n",
       "      <td>0.0</td>\n",
       "      <td>2015</td>\n",
       "      <td>4</td>\n",
       "      <td>12</td>\n",
       "    </tr>\n",
       "    <tr>\n",
       "      <th>101</th>\n",
       "      <td>0</td>\n",
       "      <td>2015-04-13</td>\n",
       "      <td>141</td>\n",
       "      <td>3</td>\n",
       "      <td>-6.5</td>\n",
       "      <td>-8.211144</td>\n",
       "      <td>2</td>\n",
       "      <td>2</td>\n",
       "      <td>1</td>\n",
       "      <td>0</td>\n",
       "      <td>...</td>\n",
       "      <td>0.0</td>\n",
       "      <td>0.0</td>\n",
       "      <td>0.0</td>\n",
       "      <td>0.0</td>\n",
       "      <td>0.0</td>\n",
       "      <td>0.0</td>\n",
       "      <td>0.0</td>\n",
       "      <td>2015</td>\n",
       "      <td>4</td>\n",
       "      <td>13</td>\n",
       "    </tr>\n",
       "    <tr>\n",
       "      <th>102</th>\n",
       "      <td>0</td>\n",
       "      <td>2015-04-14</td>\n",
       "      <td>141</td>\n",
       "      <td>3</td>\n",
       "      <td>-6.5</td>\n",
       "      <td>-8.211144</td>\n",
       "      <td>2</td>\n",
       "      <td>2</td>\n",
       "      <td>1</td>\n",
       "      <td>0</td>\n",
       "      <td>...</td>\n",
       "      <td>0.0</td>\n",
       "      <td>0.0</td>\n",
       "      <td>0.0</td>\n",
       "      <td>0.0</td>\n",
       "      <td>0.0</td>\n",
       "      <td>0.0</td>\n",
       "      <td>0.0</td>\n",
       "      <td>2015</td>\n",
       "      <td>4</td>\n",
       "      <td>14</td>\n",
       "    </tr>\n",
       "    <tr>\n",
       "      <th>103</th>\n",
       "      <td>0</td>\n",
       "      <td>2015-04-15</td>\n",
       "      <td>141</td>\n",
       "      <td>3</td>\n",
       "      <td>-6.5</td>\n",
       "      <td>-8.211144</td>\n",
       "      <td>2</td>\n",
       "      <td>2</td>\n",
       "      <td>1</td>\n",
       "      <td>0</td>\n",
       "      <td>...</td>\n",
       "      <td>0.0</td>\n",
       "      <td>0.0</td>\n",
       "      <td>0.0</td>\n",
       "      <td>0.0</td>\n",
       "      <td>0.0</td>\n",
       "      <td>0.0</td>\n",
       "      <td>0.0</td>\n",
       "      <td>2015</td>\n",
       "      <td>4</td>\n",
       "      <td>15</td>\n",
       "    </tr>\n",
       "    <tr>\n",
       "      <th>104</th>\n",
       "      <td>0</td>\n",
       "      <td>2015-04-16</td>\n",
       "      <td>141</td>\n",
       "      <td>3</td>\n",
       "      <td>-6.5</td>\n",
       "      <td>2.225519</td>\n",
       "      <td>10</td>\n",
       "      <td>10</td>\n",
       "      <td>1</td>\n",
       "      <td>0</td>\n",
       "      <td>...</td>\n",
       "      <td>1.0</td>\n",
       "      <td>0.0</td>\n",
       "      <td>0.0</td>\n",
       "      <td>0.0</td>\n",
       "      <td>0.0</td>\n",
       "      <td>0.0</td>\n",
       "      <td>0.0</td>\n",
       "      <td>2015</td>\n",
       "      <td>4</td>\n",
       "      <td>16</td>\n",
       "    </tr>\n",
       "  </tbody>\n",
       "</table>\n",
       "<p>5 rows × 117 columns</p>\n",
       "</div>"
      ],
      "text/plain": [
       "     level_0    SQLDATE EventCode  QuadClass  GoldsteinScale   AvgTone  \\\n",
       "100        0 2015-04-12       141          3            -6.5 -3.284672   \n",
       "101        0 2015-04-13       141          3            -6.5 -8.211144   \n",
       "102        0 2015-04-14       141          3            -6.5 -8.211144   \n",
       "103        0 2015-04-15       141          3            -6.5 -8.211144   \n",
       "104        0 2015-04-16       141          3            -6.5  2.225519   \n",
       "\n",
       "     NumArticles  NumMentions  Contains14sub  Contains14  ...  \\\n",
       "100            1            1              1           0  ...   \n",
       "101            2            2              1           0  ...   \n",
       "102            2            2              1           0  ...   \n",
       "103            2            2              1           0  ...   \n",
       "104           10           10              1           0  ...   \n",
       "\n",
       "     lag_Contains14_94  lag_Contains14_95  lag_Contains14_96  \\\n",
       "100                0.0                0.0                0.0   \n",
       "101                0.0                0.0                0.0   \n",
       "102                0.0                0.0                0.0   \n",
       "103                0.0                0.0                0.0   \n",
       "104                1.0                0.0                0.0   \n",
       "\n",
       "     lag_Contains14_97  lag_Contains14_98  lag_Contains14_99  \\\n",
       "100                0.0                0.0                0.0   \n",
       "101                0.0                0.0                0.0   \n",
       "102                0.0                0.0                0.0   \n",
       "103                0.0                0.0                0.0   \n",
       "104                0.0                0.0                0.0   \n",
       "\n",
       "     lag_Contains14_100  Year  Month  DayOfMonth  \n",
       "100                 0.0  2015      4          12  \n",
       "101                 0.0  2015      4          13  \n",
       "102                 0.0  2015      4          14  \n",
       "103                 0.0  2015      4          15  \n",
       "104                 0.0  2015      4          16  \n",
       "\n",
       "[5 rows x 117 columns]"
      ]
     },
     "execution_count": 104,
     "metadata": {},
     "output_type": "execute_result"
    }
   ],
   "source": [
    "df_multi_country_date.head()"
   ]
  },
  {
   "cell_type": "code",
   "execution_count": 138,
   "id": "9fd41b3c-b0b1-4bf7-bcc4-2c2e92747c72",
   "metadata": {},
   "outputs": [],
   "source": [
    "lstm_data = df_multi_country_date.copy()\n",
    "# lstm_data = df_downsampled.copy()\n",
    "# lstm_data = unique_dates_df.copy()\n",
    "# lstm_data = df.copy()\n",
    "# lstm_data = lstm_data[['QuadClass','GoldsteinScale','AvgTone','NumArticles','Contains14', 'country_code_encoded']]  \n",
    "# lstm_data = lstm_data[['Contains14', 'country_code_encoded', 'Contains14_rolling_mean_7', 'Contains14_rolling_mean_28']] \n",
    "# lstm_data = lstm_data[['Contains14', 'Contains14_rolling_mean_7', 'Contains14_rolling_mean_28', 'AvgTone','NumMentions' ]] \n",
    "lstm_data = lstm_data[['Contains14']]\n",
    "# lstm_data = lstm_data[['Passengers']]  \n",
    "# lstm_data.set_index('SQLDATE')\n",
    "# lstm_data.index.astype(float)"
   ]
  },
  {
   "cell_type": "code",
   "execution_count": 139,
   "id": "71c042ab-59b8-4b68-9d92-812a51420591",
   "metadata": {},
   "outputs": [
    {
     "data": {
      "text/html": [
       "<div>\n",
       "<style scoped>\n",
       "    .dataframe tbody tr th:only-of-type {\n",
       "        vertical-align: middle;\n",
       "    }\n",
       "\n",
       "    .dataframe tbody tr th {\n",
       "        vertical-align: top;\n",
       "    }\n",
       "\n",
       "    .dataframe thead th {\n",
       "        text-align: right;\n",
       "    }\n",
       "</style>\n",
       "<table border=\"1\" class=\"dataframe\">\n",
       "  <thead>\n",
       "    <tr style=\"text-align: right;\">\n",
       "      <th></th>\n",
       "      <th>Contains14</th>\n",
       "    </tr>\n",
       "  </thead>\n",
       "  <tbody>\n",
       "    <tr>\n",
       "      <th>100</th>\n",
       "      <td>0</td>\n",
       "    </tr>\n",
       "    <tr>\n",
       "      <th>101</th>\n",
       "      <td>0</td>\n",
       "    </tr>\n",
       "    <tr>\n",
       "      <th>102</th>\n",
       "      <td>0</td>\n",
       "    </tr>\n",
       "    <tr>\n",
       "      <th>103</th>\n",
       "      <td>0</td>\n",
       "    </tr>\n",
       "    <tr>\n",
       "      <th>104</th>\n",
       "      <td>0</td>\n",
       "    </tr>\n",
       "  </tbody>\n",
       "</table>\n",
       "</div>"
      ],
      "text/plain": [
       "     Contains14\n",
       "100           0\n",
       "101           0\n",
       "102           0\n",
       "103           0\n",
       "104           0"
      ]
     },
     "execution_count": 139,
     "metadata": {},
     "output_type": "execute_result"
    }
   ],
   "source": [
    "lstm_data.head()"
   ]
  },
  {
   "cell_type": "code",
   "execution_count": 140,
   "id": "965c7ae6-a862-40e4-9e81-a748e20c1840",
   "metadata": {},
   "outputs": [],
   "source": [
    "# df = pd.read_csv('airline-passengers.csv')\n",
    "\n",
    "# # assuming the date column in your csv file is called 'Date'\n",
    "# df['SQLDATE'] = pd.to_datetime(df['SQLDATE'])\n",
    "# lstm_data.set_index('SQLDATE', inplace=True)\n",
    "\n",
    "timeseries = lstm_data.copy()\n",
    "# timeseries = df_downsampled.copy()\n",
    "\n",
    "\n",
    "# train-test split for time series\n",
    "train_size = int(len(timeseries) * 0.70)\n",
    "test_size = len(timeseries) - train_size\n",
    "train, test = timeseries[:train_size], timeseries[train_size:]\n",
    "train = train.astype(np.float32)\n",
    "test = test.astype(np.float32)"
   ]
  },
  {
   "cell_type": "code",
   "execution_count": 141,
   "id": "c8f5194f-ef1e-4a8e-9570-f6ccbc0caed9",
   "metadata": {},
   "outputs": [
    {
     "data": {
      "text/plain": [
       "889"
      ]
     },
     "execution_count": 141,
     "metadata": {},
     "output_type": "execute_result"
    }
   ],
   "source": [
    "test.shape[0]"
   ]
  },
  {
   "cell_type": "code",
   "execution_count": 174,
   "id": "64ada3c6-fc9d-4bc1-b9d7-cd159882f4b9",
   "metadata": {},
   "outputs": [
    {
     "name": "stdout",
     "output_type": "stream",
     "text": [
      "torch.Size([2052, 20, 1]) torch.Size([2052, 1])\n"
     ]
    },
    {
     "name": "stderr",
     "output_type": "stream",
     "text": [
      "/var/tmp/ipykernel_4726/3618698049.py:11: UserWarning: Creating a tensor from a list of numpy.ndarrays is extremely slow. Please consider converting the list to a single numpy.ndarray with numpy.array() before converting to a tensor. (Triggered internally at ../torch/csrc/utils/tensor_new.cpp:245.)\n",
      "  return torch.tensor(X), torch.tensor(y)\n"
     ]
    }
   ],
   "source": [
    "import numpy as np\n",
    "import torch\n",
    "\n",
    "def create_dataset(dataset, lookback):\n",
    "    X, y = [], []\n",
    "    for i in range(len(dataset) - lookback):\n",
    "        feature = dataset[i:i+lookback]\n",
    "        target = dataset[i+lookback]\n",
    "        X.append(feature)\n",
    "        y.append(target)\n",
    "    return torch.tensor(X), torch.tensor(y)\n",
    "\n",
    "lookback = 20\n",
    "X_train, y_train = create_dataset(train.values, lookback=lookback)\n",
    "X_test, y_test = create_dataset(test.values, lookback=lookback)\n",
    "print(X_train.shape, y_train.shape)\n"
   ]
  },
  {
   "cell_type": "code",
   "execution_count": 171,
   "id": "5821465d-37c3-4943-ad0a-a631ad6ab481",
   "metadata": {},
   "outputs": [],
   "source": [
    "def create_dataset(dataset, lookback, n_future, target_col):\n",
    "    data = dataset.values\n",
    "    X, y = [], []\n",
    "    \n",
    "    target_index = dataset.columns.get_loc(target_col)\n",
    "    \n",
    "    for i in range(len(dataset) - lookback - n_future + 1):\n",
    "        feature = data[i:i+lookback]\n",
    "        target = data[i+lookback:i+lookback+n_future, target_index]\n",
    "        X.append(feature)\n",
    "        y.append(target)\n",
    "    \n",
    "    X = np.array(X)\n",
    "    y = np.array(y)\n",
    "    \n",
    "    return torch.from_numpy(X).float(), torch.from_numpy(y).float().view(-1, n_future)\n"
   ]
  },
  {
   "cell_type": "code",
   "execution_count": 159,
   "id": "be9fe0bb-01c0-4b8b-85e9-d638d8919cac",
   "metadata": {},
   "outputs": [],
   "source": [
    "target_col = 'Contains14'  # Specify the name of the target column\n",
    "lookback = 20\n",
    "n_future = 1\n",
    "X_train, y_train = create_dataset(train, lookback=lookback, n_future=n_future, target_col=target_col)\n",
    "X_test, y_test = create_dataset(test, lookback=lookback, n_future=n_future, target_col=target_col)\n",
    "\n",
    "\n",
    "n_features = X_train.size()[2]\n"
   ]
  },
  {
   "cell_type": "code",
   "execution_count": 160,
   "id": "084f01a5-3e82-43d2-adce-14c34d2b9b67",
   "metadata": {},
   "outputs": [],
   "source": [
    "# print(y_test.tolist())"
   ]
  },
  {
   "cell_type": "code",
   "execution_count": 175,
   "id": "ae9bead2-7625-4cf6-b574-7578a8223919",
   "metadata": {},
   "outputs": [
    {
     "name": "stdout",
     "output_type": "stream",
     "text": [
      "torch.Size([2052, 20, 1])\n",
      "torch.Size([2052, 1])\n",
      "torch.Size([869, 20, 1])\n",
      "torch.Size([869, 1])\n"
     ]
    }
   ],
   "source": [
    "print(X_train.shape)\n",
    "print(y_train.shape)\n",
    "print(X_test.shape)\n",
    "print(y_test.shape)"
   ]
  },
  {
   "cell_type": "code",
   "execution_count": 162,
   "id": "d8d54147-c3f6-4dbf-9737-388d9eb3f4a4",
   "metadata": {},
   "outputs": [
    {
     "data": {
      "text/plain": [
       "torch.Size([2052, 20, 1])"
      ]
     },
     "execution_count": 162,
     "metadata": {},
     "output_type": "execute_result"
    }
   ],
   "source": [
    "y_test.size()\n",
    "y_train.size()\n",
    "X_train.size()"
   ]
  },
  {
   "cell_type": "code",
   "execution_count": 163,
   "id": "6f430698-e94c-424c-905b-25848aef4af1",
   "metadata": {},
   "outputs": [
    {
     "data": {
      "text/plain": [
       "int"
      ]
     },
     "execution_count": 163,
     "metadata": {},
     "output_type": "execute_result"
    }
   ],
   "source": [
    "type(X_train.size()[2])"
   ]
  },
  {
   "cell_type": "code",
   "execution_count": 180,
   "id": "9dbe2015-40dc-4475-8f5b-bb7589733a3f",
   "metadata": {},
   "outputs": [],
   "source": [
    "hidden_len=20\n",
    "\n",
    "class AirModel(nn.Module):\n",
    "    def __init__(self):\n",
    "        super().__init__()\n",
    "        # self.lstm = nn.LSTM(input_size=1, hidden_size=50, num_layers=1, batch_first=True) \n",
    "       \n",
    "        self.lstm = nn.LSTM(input_size=n_features, hidden_size=hidden_len, num_layers=2, batch_first=True)\n",
    "        self.dropout = nn.Dropout(0.9)\n",
    "        self.linear = nn.Linear(hidden_len, n_future) # adjust the output size to match n_future\n",
    "        # self.linear = nn.Linear(50, num_classes)\n",
    "        # self.softmax = nn.softmax(dim=1)\n",
    "    def forward(self, x):\n",
    "        x, _ = self.lstm(x)\n",
    "        # x = self.dropout(x)\n",
    "        x = self.linear(x[:, -1, :]) # only consider the last output of LSTM for prediction\n",
    "        \n",
    "        # x = F.softmax(x, dim=1)\n",
    "        return x"
   ]
  },
  {
   "cell_type": "markdown",
   "id": "43f71a49-3835-4967-9db4-d0df81b6142a",
   "metadata": {},
   "source": [
    "Simple model above more complex LSTM model below which contains conv layers"
   ]
  },
  {
   "cell_type": "code",
   "execution_count": 346,
   "id": "59590dc8-5507-48d8-90f3-b44eb62e34ca",
   "metadata": {},
   "outputs": [],
   "source": [
    "# import torch\n",
    "# import torch.nn as nn\n",
    "# import torch.nn.functional as F\n",
    "\n",
    "# hidden_len = 20\n",
    "\n",
    "# class AirModel(nn.Module):\n",
    "#     def __init__(self):\n",
    "#         super().__init__()\n",
    "#         self.conv = nn.Conv1d(in_channels=n_features, out_channels=hidden_len, kernel_size=3, padding=1)\n",
    "#         self.lstm = nn.LSTM(input_size=hidden_len, hidden_size=hidden_len, num_layers=10, batch_first=True)\n",
    "#         self.dropout = nn.Dropout(0.1)\n",
    "#         self.linear = nn.Linear(hidden_len, n_future)\n",
    "        \n",
    "#     def forward(self, x):\n",
    "#         x = x.permute(0, 2, 1)  # Permute dimensions for Conv1d\n",
    "#         x = F.relu(self.conv(x))\n",
    "#         x = x.permute(0, 2, 1)  # Permute dimensions back\n",
    "#         x, _ = self.lstm(x)\n",
    "#         x = self.linear(x[:, -1, :])  # Only consider the last output of LSTM for prediction\n",
    "        \n",
    "#         return x\n"
   ]
  },
  {
   "cell_type": "code",
   "execution_count": 134,
   "id": "25f66028-1fe6-473a-a13f-57590ca6f71b",
   "metadata": {},
   "outputs": [],
   "source": [
    "class AirModel(nn.Module):\n",
    "    def __init__(self):\n",
    "        super().__init__()\n",
    "        self.conv = nn.Conv1d(in_channels=n_features, out_channels=hidden_len, kernel_size=7, padding=1)\n",
    "        self.pool = nn.MaxPool1d(kernel_size=3, stride=1)  # Downsampling layer\n",
    "        self.temporal_conv = nn.Conv1d(in_channels=hidden_len, out_channels=hidden_len, kernel_size=3, padding=1)\n",
    "        self.lstm = nn.LSTM(input_size=hidden_len, hidden_size=hidden_len, num_layers=10, batch_first=True)\n",
    "        self.dropout = nn.Dropout(0.5)\n",
    "        self.linear = nn.Linear(hidden_len, n_future)\n",
    "        \n",
    "    def forward(self, x):\n",
    "        x = x.permute(0, 2, 1)  # Permute dimensions for Conv1d\n",
    "        x = F.relu(self.conv(x))\n",
    "        x = self.pool(x)  # Apply downsampling\n",
    "        x = F.relu(self.temporal_conv(x))  # Apply temporal convolution\n",
    "        x = x.permute(0, 2, 1)  # Permute dimensions back\n",
    "        x, _ = self.lstm(x)\n",
    "        x = self.linear(x[:, -1, :])  # Only consider the last output of LSTM for prediction\n",
    "        \n",
    "        return x\n"
   ]
  },
  {
   "cell_type": "code",
   "execution_count": 135,
   "id": "4e3764d1-9876-43e1-9560-975b121b5418",
   "metadata": {},
   "outputs": [],
   "source": [
    "# hidden_len = 20\n",
    "\n",
    "# class AirModel(nn.Module):\n",
    "#     def __init__(self):\n",
    "#         super().__init__()\n",
    "#         self.conv = nn.Conv1d(in_channels=n_features, out_channels=hidden_len, kernel_size=7, padding=1)\n",
    "#         self.pool = nn.MaxPool1d(kernel_size=7, stride=2)  # Downsampling layer\n",
    "#         self.lstm = nn.LSTM(input_size=hidden_len, hidden_size=hidden_len, num_layers=10, batch_first=True)\n",
    "#         self.dropout = nn.Dropout(0.5)\n",
    "#         self.linear = nn.Linear(hidden_len, n_future)\n",
    "        \n",
    "#     def forward(self, x):\n",
    "#         x = x.permute(0, 2, 1)  # Permute dimensions for Conv1d\n",
    "#         x = F.relu(self.conv(x))\n",
    "#         x = self.pool(x)  # Apply downsampling\n",
    "#         x = x.permute(0, 2, 1)  # Permute dimensions back\n",
    "#         x, _ = self.lstm(x)\n",
    "#         x = self.linear(x[:, -1, :])  # Only consider the last output of LSTM for prediction\n",
    "        \n",
    "#         return x"
   ]
  },
  {
   "cell_type": "code",
   "execution_count": 181,
   "id": "9059ef0f-b0c4-42f2-bc44-41f06e6601cd",
   "metadata": {},
   "outputs": [
    {
     "name": "stdout",
     "output_type": "stream",
     "text": [
      "24.73170731707317\n"
     ]
    }
   ],
   "source": [
    "majority_class_count = unique_dates_df['Contains14'].value_counts().values[0]\n",
    "minority_class_count = unique_dates_df['Contains14'].value_counts().values[1]\n",
    "imbalance_ratio = majority_class_count/minority_class_count\n",
    "print(imbalance_ratio)"
   ]
  },
  {
   "cell_type": "code",
   "execution_count": 194,
   "id": "5e4857e0-8894-427f-bcbc-cb3a2b7d28b9",
   "metadata": {},
   "outputs": [
    {
     "name": "stdout",
     "output_type": "stream",
     "text": [
      "Epoch 0: train accuracy 0.9600, train F1 0.0000, test accuracy 0.9747, test F1 0.0000\n",
      "Epoch 100: train accuracy 0.9600, train F1 0.0000, test accuracy 0.9747, test F1 0.0000\n",
      "Epoch 200: train accuracy 0.9596, train F1 0.0241, test accuracy 0.9747, test F1 0.0000\n",
      "Epoch 300: train accuracy 0.9591, train F1 0.0476, test accuracy 0.9747, test F1 0.0000\n",
      "Epoch 400: train accuracy 0.9582, train F1 0.0930, test accuracy 0.9747, test F1 0.0000\n",
      "Epoch 500: train accuracy 0.9565, train F1 0.1778, test accuracy 0.9736, test F1 0.0000\n",
      "Epoch 600: train accuracy 0.9560, train F1 0.1978, test accuracy 0.9703, test F1 0.0000\n",
      "Epoch 700: train accuracy 0.9560, train F1 0.1978, test accuracy 0.9714, test F1 0.0000\n",
      "Epoch 800: train accuracy 0.9560, train F1 0.1978, test accuracy 0.9714, test F1 0.0000\n"
     ]
    },
    {
     "ename": "KeyboardInterrupt",
     "evalue": "",
     "output_type": "error",
     "traceback": [
      "\u001b[0;31m---------------------------------------------------------------------------\u001b[0m",
      "\u001b[0;31mKeyboardInterrupt\u001b[0m                         Traceback (most recent call last)",
      "Cell \u001b[0;32mIn[194], line 51\u001b[0m\n\u001b[1;32m     49\u001b[0m     optimizer\u001b[38;5;241m.\u001b[39mzero_grad()\n\u001b[1;32m     50\u001b[0m     loss\u001b[38;5;241m.\u001b[39mbackward()\n\u001b[0;32m---> 51\u001b[0m     \u001b[43moptimizer\u001b[49m\u001b[38;5;241;43m.\u001b[39;49m\u001b[43mstep\u001b[49m\u001b[43m(\u001b[49m\u001b[43m)\u001b[49m\n\u001b[1;32m     52\u001b[0m \u001b[38;5;66;03m# Validation\u001b[39;00m\n\u001b[1;32m     53\u001b[0m \u001b[38;5;28;01mif\u001b[39;00m epoch \u001b[38;5;241m%\u001b[39m \u001b[38;5;241m100\u001b[39m \u001b[38;5;241m!=\u001b[39m \u001b[38;5;241m0\u001b[39m:\n",
      "File \u001b[0;32m/opt/conda/lib/python3.10/site-packages/torch/optim/optimizer.py:280\u001b[0m, in \u001b[0;36mOptimizer.profile_hook_step.<locals>.wrapper\u001b[0;34m(*args, **kwargs)\u001b[0m\n\u001b[1;32m    276\u001b[0m         \u001b[38;5;28;01melse\u001b[39;00m:\n\u001b[1;32m    277\u001b[0m             \u001b[38;5;28;01mraise\u001b[39;00m \u001b[38;5;167;01mRuntimeError\u001b[39;00m(\u001b[38;5;124mf\u001b[39m\u001b[38;5;124m\"\u001b[39m\u001b[38;5;132;01m{\u001b[39;00mfunc\u001b[38;5;132;01m}\u001b[39;00m\u001b[38;5;124m must return None or a tuple of (new_args, new_kwargs),\u001b[39m\u001b[38;5;124m\"\u001b[39m\n\u001b[1;32m    278\u001b[0m                                \u001b[38;5;124mf\u001b[39m\u001b[38;5;124m\"\u001b[39m\u001b[38;5;124mbut got \u001b[39m\u001b[38;5;132;01m{\u001b[39;00mresult\u001b[38;5;132;01m}\u001b[39;00m\u001b[38;5;124m.\u001b[39m\u001b[38;5;124m\"\u001b[39m)\n\u001b[0;32m--> 280\u001b[0m out \u001b[38;5;241m=\u001b[39m \u001b[43mfunc\u001b[49m\u001b[43m(\u001b[49m\u001b[38;5;241;43m*\u001b[39;49m\u001b[43margs\u001b[49m\u001b[43m,\u001b[49m\u001b[43m \u001b[49m\u001b[38;5;241;43m*\u001b[39;49m\u001b[38;5;241;43m*\u001b[39;49m\u001b[43mkwargs\u001b[49m\u001b[43m)\u001b[49m\n\u001b[1;32m    281\u001b[0m \u001b[38;5;28mself\u001b[39m\u001b[38;5;241m.\u001b[39m_optimizer_step_code()\n\u001b[1;32m    283\u001b[0m \u001b[38;5;66;03m# call optimizer step post hooks\u001b[39;00m\n",
      "File \u001b[0;32m/opt/conda/lib/python3.10/site-packages/torch/optim/optimizer.py:33\u001b[0m, in \u001b[0;36m_use_grad_for_differentiable.<locals>._use_grad\u001b[0;34m(self, *args, **kwargs)\u001b[0m\n\u001b[1;32m     31\u001b[0m \u001b[38;5;28;01mtry\u001b[39;00m:\n\u001b[1;32m     32\u001b[0m     torch\u001b[38;5;241m.\u001b[39mset_grad_enabled(\u001b[38;5;28mself\u001b[39m\u001b[38;5;241m.\u001b[39mdefaults[\u001b[38;5;124m'\u001b[39m\u001b[38;5;124mdifferentiable\u001b[39m\u001b[38;5;124m'\u001b[39m])\n\u001b[0;32m---> 33\u001b[0m     ret \u001b[38;5;241m=\u001b[39m \u001b[43mfunc\u001b[49m\u001b[43m(\u001b[49m\u001b[38;5;28;43mself\u001b[39;49m\u001b[43m,\u001b[49m\u001b[43m \u001b[49m\u001b[38;5;241;43m*\u001b[39;49m\u001b[43margs\u001b[49m\u001b[43m,\u001b[49m\u001b[43m \u001b[49m\u001b[38;5;241;43m*\u001b[39;49m\u001b[38;5;241;43m*\u001b[39;49m\u001b[43mkwargs\u001b[49m\u001b[43m)\u001b[49m\n\u001b[1;32m     34\u001b[0m \u001b[38;5;28;01mfinally\u001b[39;00m:\n\u001b[1;32m     35\u001b[0m     torch\u001b[38;5;241m.\u001b[39mset_grad_enabled(prev_grad)\n",
      "File \u001b[0;32m/opt/conda/lib/python3.10/site-packages/torch/optim/adam.py:141\u001b[0m, in \u001b[0;36mAdam.step\u001b[0;34m(self, closure)\u001b[0m\n\u001b[1;32m    130\u001b[0m     beta1, beta2 \u001b[38;5;241m=\u001b[39m group[\u001b[38;5;124m'\u001b[39m\u001b[38;5;124mbetas\u001b[39m\u001b[38;5;124m'\u001b[39m]\n\u001b[1;32m    132\u001b[0m     \u001b[38;5;28mself\u001b[39m\u001b[38;5;241m.\u001b[39m_init_group(\n\u001b[1;32m    133\u001b[0m         group,\n\u001b[1;32m    134\u001b[0m         params_with_grad,\n\u001b[0;32m   (...)\u001b[0m\n\u001b[1;32m    138\u001b[0m         max_exp_avg_sqs,\n\u001b[1;32m    139\u001b[0m         state_steps)\n\u001b[0;32m--> 141\u001b[0m     \u001b[43madam\u001b[49m\u001b[43m(\u001b[49m\n\u001b[1;32m    142\u001b[0m \u001b[43m        \u001b[49m\u001b[43mparams_with_grad\u001b[49m\u001b[43m,\u001b[49m\n\u001b[1;32m    143\u001b[0m \u001b[43m        \u001b[49m\u001b[43mgrads\u001b[49m\u001b[43m,\u001b[49m\n\u001b[1;32m    144\u001b[0m \u001b[43m        \u001b[49m\u001b[43mexp_avgs\u001b[49m\u001b[43m,\u001b[49m\n\u001b[1;32m    145\u001b[0m \u001b[43m        \u001b[49m\u001b[43mexp_avg_sqs\u001b[49m\u001b[43m,\u001b[49m\n\u001b[1;32m    146\u001b[0m \u001b[43m        \u001b[49m\u001b[43mmax_exp_avg_sqs\u001b[49m\u001b[43m,\u001b[49m\n\u001b[1;32m    147\u001b[0m \u001b[43m        \u001b[49m\u001b[43mstate_steps\u001b[49m\u001b[43m,\u001b[49m\n\u001b[1;32m    148\u001b[0m \u001b[43m        \u001b[49m\u001b[43mamsgrad\u001b[49m\u001b[38;5;241;43m=\u001b[39;49m\u001b[43mgroup\u001b[49m\u001b[43m[\u001b[49m\u001b[38;5;124;43m'\u001b[39;49m\u001b[38;5;124;43mamsgrad\u001b[39;49m\u001b[38;5;124;43m'\u001b[39;49m\u001b[43m]\u001b[49m\u001b[43m,\u001b[49m\n\u001b[1;32m    149\u001b[0m \u001b[43m        \u001b[49m\u001b[43mbeta1\u001b[49m\u001b[38;5;241;43m=\u001b[39;49m\u001b[43mbeta1\u001b[49m\u001b[43m,\u001b[49m\n\u001b[1;32m    150\u001b[0m \u001b[43m        \u001b[49m\u001b[43mbeta2\u001b[49m\u001b[38;5;241;43m=\u001b[39;49m\u001b[43mbeta2\u001b[49m\u001b[43m,\u001b[49m\n\u001b[1;32m    151\u001b[0m \u001b[43m        \u001b[49m\u001b[43mlr\u001b[49m\u001b[38;5;241;43m=\u001b[39;49m\u001b[43mgroup\u001b[49m\u001b[43m[\u001b[49m\u001b[38;5;124;43m'\u001b[39;49m\u001b[38;5;124;43mlr\u001b[39;49m\u001b[38;5;124;43m'\u001b[39;49m\u001b[43m]\u001b[49m\u001b[43m,\u001b[49m\n\u001b[1;32m    152\u001b[0m \u001b[43m        \u001b[49m\u001b[43mweight_decay\u001b[49m\u001b[38;5;241;43m=\u001b[39;49m\u001b[43mgroup\u001b[49m\u001b[43m[\u001b[49m\u001b[38;5;124;43m'\u001b[39;49m\u001b[38;5;124;43mweight_decay\u001b[39;49m\u001b[38;5;124;43m'\u001b[39;49m\u001b[43m]\u001b[49m\u001b[43m,\u001b[49m\n\u001b[1;32m    153\u001b[0m \u001b[43m        \u001b[49m\u001b[43meps\u001b[49m\u001b[38;5;241;43m=\u001b[39;49m\u001b[43mgroup\u001b[49m\u001b[43m[\u001b[49m\u001b[38;5;124;43m'\u001b[39;49m\u001b[38;5;124;43meps\u001b[39;49m\u001b[38;5;124;43m'\u001b[39;49m\u001b[43m]\u001b[49m\u001b[43m,\u001b[49m\n\u001b[1;32m    154\u001b[0m \u001b[43m        \u001b[49m\u001b[43mmaximize\u001b[49m\u001b[38;5;241;43m=\u001b[39;49m\u001b[43mgroup\u001b[49m\u001b[43m[\u001b[49m\u001b[38;5;124;43m'\u001b[39;49m\u001b[38;5;124;43mmaximize\u001b[39;49m\u001b[38;5;124;43m'\u001b[39;49m\u001b[43m]\u001b[49m\u001b[43m,\u001b[49m\n\u001b[1;32m    155\u001b[0m \u001b[43m        \u001b[49m\u001b[43mforeach\u001b[49m\u001b[38;5;241;43m=\u001b[39;49m\u001b[43mgroup\u001b[49m\u001b[43m[\u001b[49m\u001b[38;5;124;43m'\u001b[39;49m\u001b[38;5;124;43mforeach\u001b[39;49m\u001b[38;5;124;43m'\u001b[39;49m\u001b[43m]\u001b[49m\u001b[43m,\u001b[49m\n\u001b[1;32m    156\u001b[0m \u001b[43m        \u001b[49m\u001b[43mcapturable\u001b[49m\u001b[38;5;241;43m=\u001b[39;49m\u001b[43mgroup\u001b[49m\u001b[43m[\u001b[49m\u001b[38;5;124;43m'\u001b[39;49m\u001b[38;5;124;43mcapturable\u001b[39;49m\u001b[38;5;124;43m'\u001b[39;49m\u001b[43m]\u001b[49m\u001b[43m,\u001b[49m\n\u001b[1;32m    157\u001b[0m \u001b[43m        \u001b[49m\u001b[43mdifferentiable\u001b[49m\u001b[38;5;241;43m=\u001b[39;49m\u001b[43mgroup\u001b[49m\u001b[43m[\u001b[49m\u001b[38;5;124;43m'\u001b[39;49m\u001b[38;5;124;43mdifferentiable\u001b[39;49m\u001b[38;5;124;43m'\u001b[39;49m\u001b[43m]\u001b[49m\u001b[43m,\u001b[49m\n\u001b[1;32m    158\u001b[0m \u001b[43m        \u001b[49m\u001b[43mfused\u001b[49m\u001b[38;5;241;43m=\u001b[39;49m\u001b[43mgroup\u001b[49m\u001b[43m[\u001b[49m\u001b[38;5;124;43m'\u001b[39;49m\u001b[38;5;124;43mfused\u001b[39;49m\u001b[38;5;124;43m'\u001b[39;49m\u001b[43m]\u001b[49m\u001b[43m,\u001b[49m\n\u001b[1;32m    159\u001b[0m \u001b[43m        \u001b[49m\u001b[43mgrad_scale\u001b[49m\u001b[38;5;241;43m=\u001b[39;49m\u001b[38;5;28;43mgetattr\u001b[39;49m\u001b[43m(\u001b[49m\u001b[38;5;28;43mself\u001b[39;49m\u001b[43m,\u001b[49m\u001b[43m \u001b[49m\u001b[38;5;124;43m\"\u001b[39;49m\u001b[38;5;124;43mgrad_scale\u001b[39;49m\u001b[38;5;124;43m\"\u001b[39;49m\u001b[43m,\u001b[49m\u001b[43m \u001b[49m\u001b[38;5;28;43;01mNone\u001b[39;49;00m\u001b[43m)\u001b[49m\u001b[43m,\u001b[49m\n\u001b[1;32m    160\u001b[0m \u001b[43m        \u001b[49m\u001b[43mfound_inf\u001b[49m\u001b[38;5;241;43m=\u001b[39;49m\u001b[38;5;28;43mgetattr\u001b[39;49m\u001b[43m(\u001b[49m\u001b[38;5;28;43mself\u001b[39;49m\u001b[43m,\u001b[49m\u001b[43m \u001b[49m\u001b[38;5;124;43m\"\u001b[39;49m\u001b[38;5;124;43mfound_inf\u001b[39;49m\u001b[38;5;124;43m\"\u001b[39;49m\u001b[43m,\u001b[49m\u001b[43m \u001b[49m\u001b[38;5;28;43;01mNone\u001b[39;49;00m\u001b[43m)\u001b[49m\u001b[43m,\u001b[49m\n\u001b[1;32m    161\u001b[0m \u001b[43m    \u001b[49m\u001b[43m)\u001b[49m\n\u001b[1;32m    163\u001b[0m \u001b[38;5;28;01mreturn\u001b[39;00m loss\n",
      "File \u001b[0;32m/opt/conda/lib/python3.10/site-packages/torch/optim/adam.py:281\u001b[0m, in \u001b[0;36madam\u001b[0;34m(params, grads, exp_avgs, exp_avg_sqs, max_exp_avg_sqs, state_steps, foreach, capturable, differentiable, fused, grad_scale, found_inf, amsgrad, beta1, beta2, lr, weight_decay, eps, maximize)\u001b[0m\n\u001b[1;32m    278\u001b[0m \u001b[38;5;28;01melse\u001b[39;00m:\n\u001b[1;32m    279\u001b[0m     func \u001b[38;5;241m=\u001b[39m _single_tensor_adam\n\u001b[0;32m--> 281\u001b[0m \u001b[43mfunc\u001b[49m\u001b[43m(\u001b[49m\u001b[43mparams\u001b[49m\u001b[43m,\u001b[49m\n\u001b[1;32m    282\u001b[0m \u001b[43m     \u001b[49m\u001b[43mgrads\u001b[49m\u001b[43m,\u001b[49m\n\u001b[1;32m    283\u001b[0m \u001b[43m     \u001b[49m\u001b[43mexp_avgs\u001b[49m\u001b[43m,\u001b[49m\n\u001b[1;32m    284\u001b[0m \u001b[43m     \u001b[49m\u001b[43mexp_avg_sqs\u001b[49m\u001b[43m,\u001b[49m\n\u001b[1;32m    285\u001b[0m \u001b[43m     \u001b[49m\u001b[43mmax_exp_avg_sqs\u001b[49m\u001b[43m,\u001b[49m\n\u001b[1;32m    286\u001b[0m \u001b[43m     \u001b[49m\u001b[43mstate_steps\u001b[49m\u001b[43m,\u001b[49m\n\u001b[1;32m    287\u001b[0m \u001b[43m     \u001b[49m\u001b[43mamsgrad\u001b[49m\u001b[38;5;241;43m=\u001b[39;49m\u001b[43mamsgrad\u001b[49m\u001b[43m,\u001b[49m\n\u001b[1;32m    288\u001b[0m \u001b[43m     \u001b[49m\u001b[43mbeta1\u001b[49m\u001b[38;5;241;43m=\u001b[39;49m\u001b[43mbeta1\u001b[49m\u001b[43m,\u001b[49m\n\u001b[1;32m    289\u001b[0m \u001b[43m     \u001b[49m\u001b[43mbeta2\u001b[49m\u001b[38;5;241;43m=\u001b[39;49m\u001b[43mbeta2\u001b[49m\u001b[43m,\u001b[49m\n\u001b[1;32m    290\u001b[0m \u001b[43m     \u001b[49m\u001b[43mlr\u001b[49m\u001b[38;5;241;43m=\u001b[39;49m\u001b[43mlr\u001b[49m\u001b[43m,\u001b[49m\n\u001b[1;32m    291\u001b[0m \u001b[43m     \u001b[49m\u001b[43mweight_decay\u001b[49m\u001b[38;5;241;43m=\u001b[39;49m\u001b[43mweight_decay\u001b[49m\u001b[43m,\u001b[49m\n\u001b[1;32m    292\u001b[0m \u001b[43m     \u001b[49m\u001b[43meps\u001b[49m\u001b[38;5;241;43m=\u001b[39;49m\u001b[43meps\u001b[49m\u001b[43m,\u001b[49m\n\u001b[1;32m    293\u001b[0m \u001b[43m     \u001b[49m\u001b[43mmaximize\u001b[49m\u001b[38;5;241;43m=\u001b[39;49m\u001b[43mmaximize\u001b[49m\u001b[43m,\u001b[49m\n\u001b[1;32m    294\u001b[0m \u001b[43m     \u001b[49m\u001b[43mcapturable\u001b[49m\u001b[38;5;241;43m=\u001b[39;49m\u001b[43mcapturable\u001b[49m\u001b[43m,\u001b[49m\n\u001b[1;32m    295\u001b[0m \u001b[43m     \u001b[49m\u001b[43mdifferentiable\u001b[49m\u001b[38;5;241;43m=\u001b[39;49m\u001b[43mdifferentiable\u001b[49m\u001b[43m,\u001b[49m\n\u001b[1;32m    296\u001b[0m \u001b[43m     \u001b[49m\u001b[43mgrad_scale\u001b[49m\u001b[38;5;241;43m=\u001b[39;49m\u001b[43mgrad_scale\u001b[49m\u001b[43m,\u001b[49m\n\u001b[1;32m    297\u001b[0m \u001b[43m     \u001b[49m\u001b[43mfound_inf\u001b[49m\u001b[38;5;241;43m=\u001b[39;49m\u001b[43mfound_inf\u001b[49m\u001b[43m)\u001b[49m\n",
      "File \u001b[0;32m/opt/conda/lib/python3.10/site-packages/torch/optim/adam.py:393\u001b[0m, in \u001b[0;36m_single_tensor_adam\u001b[0;34m(params, grads, exp_avgs, exp_avg_sqs, max_exp_avg_sqs, state_steps, grad_scale, found_inf, amsgrad, beta1, beta2, lr, weight_decay, eps, maximize, capturable, differentiable)\u001b[0m\n\u001b[1;32m    390\u001b[0m \u001b[38;5;28;01melse\u001b[39;00m:\n\u001b[1;32m    391\u001b[0m     denom \u001b[38;5;241m=\u001b[39m (exp_avg_sq\u001b[38;5;241m.\u001b[39msqrt() \u001b[38;5;241m/\u001b[39m bias_correction2_sqrt)\u001b[38;5;241m.\u001b[39madd_(eps)\n\u001b[0;32m--> 393\u001b[0m \u001b[43mparam\u001b[49m\u001b[38;5;241;43m.\u001b[39;49m\u001b[43maddcdiv_\u001b[49m\u001b[43m(\u001b[49m\u001b[43mexp_avg\u001b[49m\u001b[43m,\u001b[49m\u001b[43m \u001b[49m\u001b[43mdenom\u001b[49m\u001b[43m,\u001b[49m\u001b[43m \u001b[49m\u001b[43mvalue\u001b[49m\u001b[38;5;241;43m=\u001b[39;49m\u001b[38;5;241;43m-\u001b[39;49m\u001b[43mstep_size\u001b[49m\u001b[43m)\u001b[49m\n",
      "\u001b[0;31mKeyboardInterrupt\u001b[0m: "
     ]
    }
   ],
   "source": [
    "from sklearn.metrics import f1_score\n",
    "\n",
    "model = AirModel()\n",
    "optimizer = optim.Adam(model.parameters())\n",
    "\n",
    "\n",
    "# class_counts = np.bincount(y_train.astype(int).squeeze().numpy())\n",
    "class_counts = np.bincount(y_train.round().long().squeeze().numpy())\n",
    "\n",
    "\n",
    "\n",
    "# Compute class weights\n",
    "# class_counts = np.bincount(y_train)\n",
    "class_weights = 1. / class_counts\n",
    "# samples_weight = class_weights[y_train]\n",
    "samples_weight = class_weights.squeeze()[y_train.squeeze().round().long().numpy()]\n",
    "\n",
    "\n",
    "\n",
    "# Convert to PyTorch tensor and create a WeightedRandomSampler\n",
    "samples_weight = torch.from_numpy(samples_weight)\n",
    "sampler = torch.utils.data.WeightedRandomSampler(samples_weight, len(samples_weight))\n",
    "\n",
    "# Use the WeightedRandomSampler in your DataLoader\n",
    "loader = torch.utils.data.DataLoader(\n",
    "    torch.utils.data.TensorDataset(X_train, y_train), \n",
    "    batch_size=8, \n",
    "    shuffle=False, \n",
    "    sampler=sampler\n",
    ")\n",
    "\n",
    "# Binary Cross-Entropy Loss with weights\n",
    "loss_fn = nn.BCEWithLogitsLoss(pos_weight=torch.tensor(class_weights[1]))\n",
    "\n",
    "\n",
    "\n",
    "\n",
    "\n",
    "\n",
    "# loss_fn = nn.BCEWithLogitsLoss()  # Binary Cross-Entropy Loss\n",
    "# loader = data.DataLoader(data.TensorDataset(X_train, y_train), shuffle=True, batch_size=8)\n",
    "\n",
    "n_epochs = 2000\n",
    "for epoch in range(n_epochs):\n",
    "    model.train()\n",
    "    for X_batch, y_batch in loader:\n",
    "        y_pred = model(X_batch)\n",
    "        loss = loss_fn(y_pred, y_batch)  # Ensure y_batch is a float tensor\n",
    "        optimizer.zero_grad()\n",
    "        loss.backward()\n",
    "        optimizer.step()\n",
    "    # Validation\n",
    "    if epoch % 100 != 0:\n",
    "        continue\n",
    "    model.eval()\n",
    "    with torch.no_grad():\n",
    "        y_pred = model(X_train)\n",
    "        train_pred_labels = (y_pred > 0.5).float()  # Convert predicted probabilities to binary labels\n",
    "        train_accuracy = (train_pred_labels == y_train.unsqueeze(1)).float().mean()\n",
    "        train_f1 = f1_score(y_train, train_pred_labels)\n",
    "\n",
    "        y_pred = model(X_test)\n",
    "        test_pred_labels = (y_pred > 0.5).float()  # Convert predicted probabilities to binary labels\n",
    "        test_accuracy = (test_pred_labels == y_test.unsqueeze(1)).float().mean()\n",
    "        test_f1 = f1_score(y_test, test_pred_labels)\n",
    "\n",
    "    print(\"Epoch %d: train accuracy %.4f, train F1 %.4f, test accuracy %.4f, test F1 %.4f\" % (epoch, train_accuracy, train_f1, test_accuracy, test_f1))\n",
    "\n"
   ]
  },
  {
   "cell_type": "code",
   "execution_count": 184,
   "id": "0424c5d3-0d14-48e2-967d-dc59f5b6f2d1",
   "metadata": {},
   "outputs": [
    {
     "name": "stderr",
     "output_type": "stream",
     "text": [
      "/opt/conda/lib/python3.10/site-packages/sklearn/metrics/_classification.py:1344: UndefinedMetricWarning: Precision is ill-defined and being set to 0.0 due to no predicted samples. Use `zero_division` parameter to control this behavior.\n",
      "  _warn_prf(average, modifier, msg_start, len(result))\n",
      "/opt/conda/lib/python3.10/site-packages/sklearn/metrics/_classification.py:1344: UndefinedMetricWarning: Precision is ill-defined and being set to 0.0 due to no predicted samples. Use `zero_division` parameter to control this behavior.\n",
      "  _warn_prf(average, modifier, msg_start, len(result))\n"
     ]
    },
    {
     "name": "stdout",
     "output_type": "stream",
     "text": [
      "Epoch 0: train loss 1780, train accuracy 0.9600, train F1 score 0.0000, test loss 1411.2921, test accuracy 0.9747, test F1 score 0.0000\n"
     ]
    },
    {
     "name": "stderr",
     "output_type": "stream",
     "text": [
      "/opt/conda/lib/python3.10/site-packages/sklearn/metrics/_classification.py:1344: UndefinedMetricWarning: Precision is ill-defined and being set to 0.0 due to no predicted samples. Use `zero_division` parameter to control this behavior.\n",
      "  _warn_prf(average, modifier, msg_start, len(result))\n",
      "/opt/conda/lib/python3.10/site-packages/sklearn/metrics/_classification.py:1344: UndefinedMetricWarning: Precision is ill-defined and being set to 0.0 due to no predicted samples. Use `zero_division` parameter to control this behavior.\n",
      "  _warn_prf(average, modifier, msg_start, len(result))\n"
     ]
    },
    {
     "name": "stdout",
     "output_type": "stream",
     "text": [
      "Epoch 10: train loss 1676, train accuracy 0.9600, train F1 score 0.0000, test loss 1213.4659, test accuracy 0.9747, test F1 score 0.0000\n"
     ]
    },
    {
     "ename": "KeyboardInterrupt",
     "evalue": "",
     "output_type": "error",
     "traceback": [
      "\u001b[0;31m---------------------------------------------------------------------------\u001b[0m",
      "\u001b[0;31mKeyboardInterrupt\u001b[0m                         Traceback (most recent call last)",
      "Cell \u001b[0;32mIn[184], line 33\u001b[0m\n\u001b[1;32m     31\u001b[0m     loss \u001b[38;5;241m=\u001b[39m loss_fn(y_pred, y_batch)\n\u001b[1;32m     32\u001b[0m     optimizer\u001b[38;5;241m.\u001b[39mzero_grad()\n\u001b[0;32m---> 33\u001b[0m     \u001b[43mloss\u001b[49m\u001b[38;5;241;43m.\u001b[39;49m\u001b[43mbackward\u001b[49m\u001b[43m(\u001b[49m\u001b[43m)\u001b[49m\n\u001b[1;32m     34\u001b[0m     optimizer\u001b[38;5;241m.\u001b[39mstep()\n\u001b[1;32m     36\u001b[0m \u001b[38;5;66;03m# Validation\u001b[39;00m\n",
      "File \u001b[0;32m/opt/conda/lib/python3.10/site-packages/torch/_tensor.py:487\u001b[0m, in \u001b[0;36mTensor.backward\u001b[0;34m(self, gradient, retain_graph, create_graph, inputs)\u001b[0m\n\u001b[1;32m    477\u001b[0m \u001b[38;5;28;01mif\u001b[39;00m has_torch_function_unary(\u001b[38;5;28mself\u001b[39m):\n\u001b[1;32m    478\u001b[0m     \u001b[38;5;28;01mreturn\u001b[39;00m handle_torch_function(\n\u001b[1;32m    479\u001b[0m         Tensor\u001b[38;5;241m.\u001b[39mbackward,\n\u001b[1;32m    480\u001b[0m         (\u001b[38;5;28mself\u001b[39m,),\n\u001b[0;32m   (...)\u001b[0m\n\u001b[1;32m    485\u001b[0m         inputs\u001b[38;5;241m=\u001b[39minputs,\n\u001b[1;32m    486\u001b[0m     )\n\u001b[0;32m--> 487\u001b[0m \u001b[43mtorch\u001b[49m\u001b[38;5;241;43m.\u001b[39;49m\u001b[43mautograd\u001b[49m\u001b[38;5;241;43m.\u001b[39;49m\u001b[43mbackward\u001b[49m\u001b[43m(\u001b[49m\n\u001b[1;32m    488\u001b[0m \u001b[43m    \u001b[49m\u001b[38;5;28;43mself\u001b[39;49m\u001b[43m,\u001b[49m\u001b[43m \u001b[49m\u001b[43mgradient\u001b[49m\u001b[43m,\u001b[49m\u001b[43m \u001b[49m\u001b[43mretain_graph\u001b[49m\u001b[43m,\u001b[49m\u001b[43m \u001b[49m\u001b[43mcreate_graph\u001b[49m\u001b[43m,\u001b[49m\u001b[43m \u001b[49m\u001b[43minputs\u001b[49m\u001b[38;5;241;43m=\u001b[39;49m\u001b[43minputs\u001b[49m\n\u001b[1;32m    489\u001b[0m \u001b[43m\u001b[49m\u001b[43m)\u001b[49m\n",
      "File \u001b[0;32m/opt/conda/lib/python3.10/site-packages/torch/autograd/__init__.py:200\u001b[0m, in \u001b[0;36mbackward\u001b[0;34m(tensors, grad_tensors, retain_graph, create_graph, grad_variables, inputs)\u001b[0m\n\u001b[1;32m    195\u001b[0m     retain_graph \u001b[38;5;241m=\u001b[39m create_graph\n\u001b[1;32m    197\u001b[0m \u001b[38;5;66;03m# The reason we repeat same the comment below is that\u001b[39;00m\n\u001b[1;32m    198\u001b[0m \u001b[38;5;66;03m# some Python versions print out the first line of a multi-line function\u001b[39;00m\n\u001b[1;32m    199\u001b[0m \u001b[38;5;66;03m# calls in the traceback and some print out the last line\u001b[39;00m\n\u001b[0;32m--> 200\u001b[0m \u001b[43mVariable\u001b[49m\u001b[38;5;241;43m.\u001b[39;49m\u001b[43m_execution_engine\u001b[49m\u001b[38;5;241;43m.\u001b[39;49m\u001b[43mrun_backward\u001b[49m\u001b[43m(\u001b[49m\u001b[43m  \u001b[49m\u001b[38;5;66;43;03m# Calls into the C++ engine to run the backward pass\u001b[39;49;00m\n\u001b[1;32m    201\u001b[0m \u001b[43m    \u001b[49m\u001b[43mtensors\u001b[49m\u001b[43m,\u001b[49m\u001b[43m \u001b[49m\u001b[43mgrad_tensors_\u001b[49m\u001b[43m,\u001b[49m\u001b[43m \u001b[49m\u001b[43mretain_graph\u001b[49m\u001b[43m,\u001b[49m\u001b[43m \u001b[49m\u001b[43mcreate_graph\u001b[49m\u001b[43m,\u001b[49m\u001b[43m \u001b[49m\u001b[43minputs\u001b[49m\u001b[43m,\u001b[49m\n\u001b[1;32m    202\u001b[0m \u001b[43m    \u001b[49m\u001b[43mallow_unreachable\u001b[49m\u001b[38;5;241;43m=\u001b[39;49m\u001b[38;5;28;43;01mTrue\u001b[39;49;00m\u001b[43m,\u001b[49m\u001b[43m \u001b[49m\u001b[43maccumulate_grad\u001b[49m\u001b[38;5;241;43m=\u001b[39;49m\u001b[38;5;28;43;01mTrue\u001b[39;49;00m\u001b[43m)\u001b[49m\n",
      "\u001b[0;31mKeyboardInterrupt\u001b[0m: "
     ]
    }
   ],
   "source": [
    "metrics_list = []\n",
    "threshold = 0.1 # Custom threshold value between 0 and 1\n",
    "model = AirModel()\n",
    "optimizer = optim.Adam(model.parameters())\n",
    "# optimizer = optim.SGD(model.parameters(), lr=0.1, weight_decay=0.01)\n",
    "# loss_fn = nn.BCEWithLogitsLoss()\n",
    "\n",
    "imbalance_ratio = 10000\n",
    "# imbalance_ratio = (number of majority samples) / (number of minority samples)\n",
    "class_weights = torch.tensor([imbalance_ratio])  # imbalance_ratio = (number of majority samples) / (number of minority samples)\n",
    "\n",
    "loss_fn = nn.BCEWithLogitsLoss(weight=class_weights)\n",
    "# loss_fn = nn.CrossEntropyLoss(weight=class_weights)\n",
    "# loss_fn = nn.CrossEntropyLoss()\n",
    "\n",
    "\n",
    "loader = data.DataLoader(data.TensorDataset(X_train, y_train), shuffle=True, batch_size=32)\n",
    "\n",
    "n_epochs = 30\n",
    "early_stopping_patience = 10000  # Number of steps to wait for improvement in validation loss\n",
    "best_loss = float('inf')\n",
    "best_epoch = 0\n",
    "stop_training = False\n",
    "no_improvement_count = 0\n",
    "\n",
    "for epoch in range(n_epochs):\n",
    "    model.train()\n",
    "    for X_batch, y_batch in loader:\n",
    "        y_pred = model(X_batch)\n",
    "        # y_batch = y_batch.view(-1, 1)\n",
    "        loss = loss_fn(y_pred, y_batch)\n",
    "        optimizer.zero_grad()\n",
    "        loss.backward()\n",
    "        optimizer.step()\n",
    "\n",
    "    # Validation\n",
    "    if epoch % 10 != 0:\n",
    "        continue\n",
    "    model.eval()\n",
    "    with torch.no_grad():\n",
    "        y_pred = model(X_train)\n",
    "        # y_train = y_train.view(-1, 1)\n",
    "        # train_preds = torch.round(torch.sigmoid(y_pred))\n",
    "        \n",
    "        \n",
    "        \n",
    "\n",
    "        sigmoid_output = torch.sigmoid(y_pred)\n",
    "        train_preds = (sigmoid_output >= threshold).float()\n",
    "        train_preds = torch.round(train_preds)\n",
    "\n",
    "\n",
    "        \n",
    "        train_loss = loss_fn(y_pred, y_train)\n",
    "        train_acc = accuracy_score(y_train, train_preds)\n",
    "        if n_future > 1:\n",
    "            train_f1 = f1_score(y_train, train_preds, average = 'weighted')\n",
    "            train_precision = precision_score(y_train, train_preds, average = 'weighted')\n",
    "            train_recall = recall_score(y_train, train_preds, average = 'weighted')\n",
    "        else:\n",
    "            train_f1 = f1_score(y_train, train_preds)\n",
    "            train_precision = precision_score(y_train, train_preds)\n",
    "            train_recall = recall_score(y_train, train_preds)\n",
    "        \n",
    "        y_pred = model(X_test)\n",
    "        # test_preds = torch.round(torch.sigmoid(y_pred))\n",
    "\n",
    "        sigmoid_output = torch.sigmoid(y_pred)\n",
    "        test_preds = (sigmoid_output >= threshold).float()\n",
    "        test_preds = torch.round(test_preds)\n",
    "\n",
    "        \n",
    "        test_loss = loss_fn(y_pred, y_test)\n",
    "        test_acc = accuracy_score(y_test, test_preds)\n",
    "        if n_future > 1:\n",
    "            test_f1 = f1_score(y_test, test_preds, average = 'weighted')\n",
    "            test_precision = precision_score(y_test, test_preds, average = 'weighted')\n",
    "            test_recall = recall_score(y_test, test_preds, average = 'weighted')\n",
    "        else:\n",
    "            test_f1 = f1_score(y_test, test_preds)\n",
    "            test_precision = precision_score(y_test, test_preds)\n",
    "            test_recall = recall_score(y_test, test_preds)\n",
    "    \n",
    "    metrics_dict = {'Epoch': epoch, \n",
    "                    'Train Loss': train_loss.item(), 'Train Accuracy': train_acc, \n",
    "                    'Train Precision': train_precision, 'Train Recall': train_recall,\n",
    "                    'Train F1 Score': train_f1,\n",
    "                    'Test Loss': test_loss.item(), 'Test Accuracy': test_acc, \n",
    "                    'Test Precision': test_precision, 'Test Recall': test_recall,\n",
    "                    'Test F1 Score': test_f1}\n",
    "    metrics_list.append(metrics_dict)\n",
    "\n",
    "    print(\"Epoch %d: train loss %.6g, train accuracy %.4f, train F1 score %.4f, test loss %.4f, test accuracy %.4f, test F1 score %.4f\" % (epoch, round(train_loss.item()), train_acc, train_f1, test_loss, test_acc, test_f1))\n",
    "\n",
    "    # Check if test loss has improved\n",
    "    if test_loss < best_loss:\n",
    "        best_loss = test_loss\n",
    "        best_epoch = epoch\n",
    "        no_improvement_count = 0\n",
    "    else:\n",
    "        no_improvement_count += 1\n",
    "\n",
    "    # Early stopping condition\n",
    "    if no_improvement_count >= early_stopping_patience:\n",
    "        print(\"Early stopping at epoch %d\" % epoch)\n",
    "        stop_training = True\n",
    "        break\n",
    "\n",
    "    # Update best loss and epoch if there is an improvement\n",
    "    if test_loss < best_loss:\n",
    "        best_loss = test_loss\n",
    "        best_epoch = epoch\n",
    "\n",
    "    # Stop training if the early stopping condition is met\n",
    "    if stop_training:\n",
    "        break\n",
    "if n_future == 1:\n",
    "    confusion_mat = confusion_matrix(y_test, test_preds)\n",
    "    print(\"Confusion Matrix:\")\n",
    "    print(confusion_mat)\n",
    "else:\n",
    "    print('Can not use confusion matrix')\n",
    "\n",
    "metrics_table = pd.DataFrame(metrics_list)\n",
    "\n",
    "\n"
   ]
  },
  {
   "cell_type": "code",
   "execution_count": null,
   "id": "e145c7d2-6d5c-4ca9-948f-aa6cd31afd85",
   "metadata": {},
   "outputs": [],
   "source": [
    "print(metrics_table.iloc[-1])"
   ]
  },
  {
   "cell_type": "markdown",
   "id": "34f5e3a6-b9c9-4327-b8e9-3647bde99921",
   "metadata": {
    "jp-MarkdownHeadingCollapsed": true,
    "tags": []
   },
   "source": [
    "## Simple models"
   ]
  },
  {
   "cell_type": "code",
   "execution_count": 94,
   "id": "7e19eba5-24b6-4e5b-bcf0-706190d464e2",
   "metadata": {},
   "outputs": [
    {
     "data": {
      "text/html": [
       "<div>\n",
       "<style scoped>\n",
       "    .dataframe tbody tr th:only-of-type {\n",
       "        vertical-align: middle;\n",
       "    }\n",
       "\n",
       "    .dataframe tbody tr th {\n",
       "        vertical-align: top;\n",
       "    }\n",
       "\n",
       "    .dataframe thead th {\n",
       "        text-align: right;\n",
       "    }\n",
       "</style>\n",
       "<table border=\"1\" class=\"dataframe\">\n",
       "  <thead>\n",
       "    <tr style=\"text-align: right;\">\n",
       "      <th></th>\n",
       "      <th>country_code_encoded_index</th>\n",
       "      <th>SQLDATE</th>\n",
       "      <th>EventCode</th>\n",
       "      <th>QuadClass</th>\n",
       "      <th>GoldsteinScale</th>\n",
       "      <th>AvgTone</th>\n",
       "      <th>NumArticles</th>\n",
       "      <th>NumMentions</th>\n",
       "      <th>Contains14sub</th>\n",
       "      <th>Contains14</th>\n",
       "      <th>country_code_encoded</th>\n",
       "      <th>Year</th>\n",
       "      <th>Month</th>\n",
       "      <th>DayOfMonth</th>\n",
       "      <th>Week</th>\n",
       "    </tr>\n",
       "  </thead>\n",
       "  <tbody>\n",
       "    <tr>\n",
       "      <th>0</th>\n",
       "      <td>0</td>\n",
       "      <td>2015-01-10</td>\n",
       "      <td>181</td>\n",
       "      <td>4</td>\n",
       "      <td>-9.0</td>\n",
       "      <td>-1.438849</td>\n",
       "      <td>4</td>\n",
       "      <td>4</td>\n",
       "      <td>1</td>\n",
       "      <td>0</td>\n",
       "      <td>0</td>\n",
       "      <td>2015</td>\n",
       "      <td>1</td>\n",
       "      <td>10</td>\n",
       "      <td>2</td>\n",
       "    </tr>\n",
       "    <tr>\n",
       "      <th>1</th>\n",
       "      <td>0</td>\n",
       "      <td>2015-01-11</td>\n",
       "      <td>181</td>\n",
       "      <td>4</td>\n",
       "      <td>-9.0</td>\n",
       "      <td>-1.438849</td>\n",
       "      <td>4</td>\n",
       "      <td>4</td>\n",
       "      <td>1</td>\n",
       "      <td>0</td>\n",
       "      <td>0</td>\n",
       "      <td>2015</td>\n",
       "      <td>1</td>\n",
       "      <td>11</td>\n",
       "      <td>2</td>\n",
       "    </tr>\n",
       "    <tr>\n",
       "      <th>2</th>\n",
       "      <td>0</td>\n",
       "      <td>2015-01-12</td>\n",
       "      <td>181</td>\n",
       "      <td>4</td>\n",
       "      <td>-9.0</td>\n",
       "      <td>-1.438849</td>\n",
       "      <td>4</td>\n",
       "      <td>4</td>\n",
       "      <td>1</td>\n",
       "      <td>0</td>\n",
       "      <td>0</td>\n",
       "      <td>2015</td>\n",
       "      <td>1</td>\n",
       "      <td>12</td>\n",
       "      <td>3</td>\n",
       "    </tr>\n",
       "    <tr>\n",
       "      <th>3</th>\n",
       "      <td>0</td>\n",
       "      <td>2015-01-13</td>\n",
       "      <td>181</td>\n",
       "      <td>4</td>\n",
       "      <td>-9.0</td>\n",
       "      <td>-1.438849</td>\n",
       "      <td>4</td>\n",
       "      <td>4</td>\n",
       "      <td>1</td>\n",
       "      <td>0</td>\n",
       "      <td>0</td>\n",
       "      <td>2015</td>\n",
       "      <td>1</td>\n",
       "      <td>13</td>\n",
       "      <td>3</td>\n",
       "    </tr>\n",
       "    <tr>\n",
       "      <th>4</th>\n",
       "      <td>0</td>\n",
       "      <td>2015-01-14</td>\n",
       "      <td>181</td>\n",
       "      <td>4</td>\n",
       "      <td>-9.0</td>\n",
       "      <td>-1.438849</td>\n",
       "      <td>4</td>\n",
       "      <td>4</td>\n",
       "      <td>1</td>\n",
       "      <td>0</td>\n",
       "      <td>0</td>\n",
       "      <td>2015</td>\n",
       "      <td>1</td>\n",
       "      <td>14</td>\n",
       "      <td>3</td>\n",
       "    </tr>\n",
       "  </tbody>\n",
       "</table>\n",
       "</div>"
      ],
      "text/plain": [
       "   country_code_encoded_index    SQLDATE EventCode  QuadClass  GoldsteinScale  \\\n",
       "0                           0 2015-01-10       181          4            -9.0   \n",
       "1                           0 2015-01-11       181          4            -9.0   \n",
       "2                           0 2015-01-12       181          4            -9.0   \n",
       "3                           0 2015-01-13       181          4            -9.0   \n",
       "4                           0 2015-01-14       181          4            -9.0   \n",
       "\n",
       "    AvgTone  NumArticles  NumMentions  Contains14sub  Contains14  \\\n",
       "0 -1.438849            4            4              1           0   \n",
       "1 -1.438849            4            4              1           0   \n",
       "2 -1.438849            4            4              1           0   \n",
       "3 -1.438849            4            4              1           0   \n",
       "4 -1.438849            4            4              1           0   \n",
       "\n",
       "   country_code_encoded  Year  Month  DayOfMonth  Week  \n",
       "0                     0  2015      1          10     2  \n",
       "1                     0  2015      1          11     2  \n",
       "2                     0  2015      1          12     3  \n",
       "3                     0  2015      1          13     3  \n",
       "4                     0  2015      1          14     3  "
      ]
     },
     "execution_count": 94,
     "metadata": {},
     "output_type": "execute_result"
    }
   ],
   "source": [
    "df_multi_country_date.head()"
   ]
  },
  {
   "cell_type": "code",
   "execution_count": 95,
   "id": "5ea5b63b-dd34-4be5-aab6-7ee976b17050",
   "metadata": {},
   "outputs": [
    {
     "name": "stdout",
     "output_type": "stream",
     "text": [
      "20.37062937062937\n"
     ]
    }
   ],
   "source": [
    "majority_class_count = df_multi_country_date['Contains14'].value_counts().values[0]\n",
    "minority_class_count = df_multi_country_date['Contains14'].value_counts().values[1]\n",
    "imbalance_ratio = majority_class_count/minority_class_count\n",
    "print(imbalance_ratio)"
   ]
  },
  {
   "cell_type": "code",
   "execution_count": 89,
   "id": "eef4d4b4-a58b-475d-8efd-bb9205d601d8",
   "metadata": {},
   "outputs": [
    {
     "name": "stdout",
     "output_type": "stream",
     "text": [
      "      Metric     Train      Test\n",
      "0   Accuracy  0.798263  0.800900\n",
      "1  Precision  0.573773  0.512558\n",
      "2     Recall  0.842968  0.573603\n",
      "3   F1-score  0.572330  0.485615\n"
     ]
    },
    {
     "data": {
      "image/png": "[encoded data removed]",
      "text/plain": [
       "<Figure size 600x400 with 2 Axes>"
      ]
     },
     "metadata": {},
     "output_type": "display_data"
    }
   ],
   "source": [
    "# DIFFERENT MODELS\n",
    "\n",
    "# Create a label encoder object\n",
    "\n",
    "# label_encoder_date = LabelEncoder()\n",
    "\n",
    "# model_instance = LogisticRegression(class_weight='balanced', max_iter=2000)\n",
    "model_instance = LogisticRegression(class_weight='balanced',penalty='l2', max_iter=2000, C=1000)\n",
    "\n",
    "\n",
    "# model_instance = SVC(kernel='rbf', class_weight='balanced')\n",
    "\n",
    "# # Create a CatBoost classifier\n",
    "class_weights = {0: 1, 1: 200}  # Higher weight for class 1 (minority class)\n",
    "# model_instance = CatBoostClassifier(iterations=10, learning_rate=0.1, depth=3, loss_function='Logloss', class_weights=class_weights)\n",
    "\n",
    "# model_instance = CatBoostClassifier(iterations=1000, learning_rate=0.1, depth=5, loss_function='Logloss', l2_leaf_reg=10, class_weights=class_weights, verbose=False)\n",
    "# model_instance = CatBoostClassifier(iterations=1000, learning_rate=0.1, depth=5, loss_function='Logloss', l2_leaf_reg=10, class_weights=class_weights, early_stopping_rounds=50, verbose=False)\n",
    "\n",
    "\n",
    "# model_instance = RandomForestClassifier(n_estimators=10000, class_weight= 'balanced', max_depth=5,criterion = 'entropy', n_jobs=-1)\n",
    "\n",
    "\n",
    "def preprocess_data(df):\n",
    "    global label_encoder_country  # Ensure we use the same global label encoder\n",
    "    # global label_encoder_date  \n",
    "    # df['country_code_encoded'] = label_encoder_country.fit_transform(df['ActionGeo_CountryCode'])\n",
    "    # df['date_encoded'] = label_encoder_date.fit_transform(df['SQLDATE'])\n",
    "\n",
    "    df.dropna(inplace=True)\n",
    "    # df['date_country'] = df['date'].astype(str) + '_' + df['country_code_encoded'].astype(str)\n",
    "    # df.sort_values(by='date_country', inplace=True)\n",
    "\n",
    "    return df\n",
    "\n",
    "def train_model(df, model_instance):\n",
    "    # Preprocess the data\n",
    "    df_processed = preprocess_data(df)\n",
    "    # print(df_processed.head())\n",
    "    # Prepare the data\n",
    "    # columns_to_exclude = ['QuadClass','GoldsteinScale','AvgTone','NumArticles','ActionGeo_CountryCode', 'Contains14', \n",
    "    #                                             'lag_Contains14 ' + str(n_future), 'SQLDATE','EventCode','date_country']\n",
    "    columns_to_exclude = ['ActionGeo_CountryCode', 'lag_fut_Contains14 ' + str(n_future),\n",
    "                                                'EventCode','date_country', 'SQLDATE', 'level_0', 'GoldsteinScale', 'QuadClass']\n",
    "    X = df_processed.loc[:, ~df_processed.columns.isin(columns_to_exclude)]\n",
    "    \n",
    "    \n",
    "    \n",
    "#     X = df_processed = df_multi_country_date.loc[:, df_multi_country_date.columns != ['QuadClass','GoldsteinScale','AvgTone','NumArticles','ActionGeo_CountryCode', 'Contains14', \n",
    "#                                                 'lag_Contains14 ' + str(n_future)]]\n",
    "    # X = df_processed[['lag_GoldsteinScale ' + str(n_past), 'lag_QuadClass ' + str(n_past), 'country_code_encoded']]\n",
    "    # print(X.head())\n",
    "    y = df_processed['lag_fut_Contains14 ' + str(n_future)]\n",
    "\n",
    "    # Handle missing values\n",
    "    # imputer = SimpleImputer()\n",
    "    # X = imputer.fit_transform(X)\n",
    "\n",
    "    # Split the data into training and testing sets\n",
    "    # X_train, X_test, y_train, y_test = train_test_split(X, y, test_size=0.333333, random_state=42)\n",
    "    \n",
    "    # Set the split point as a fraction of the total length\n",
    "    split_point = int(len(X) * 0.7)  # Adjust the fraction as needed\n",
    "\n",
    "    # Perform the rolling window split\n",
    "    X_train = X[:split_point]\n",
    "    X_test = X[split_point:]\n",
    "    y_train = y[:split_point]\n",
    "    y_test = y[split_point:]\n",
    "\n",
    "    \n",
    "  \n",
    "\n",
    "#     # Create the Lasso regularization model\n",
    "#     lasso_model = LassoCV(cv=10)\n",
    "\n",
    "#     # Fit the Lasso model to the data to select features\n",
    "#     lasso_model.fit(X_train, y_train)\n",
    "\n",
    "#     # Get the selected features based on non-zero coefficients\n",
    "#     selected_features = X_train.columns[lasso_model.coef_ != 0]\n",
    "\n",
    "\n",
    "\n",
    "\n",
    "\n",
    "\n",
    "    \n",
    "\n",
    "#     # OVERSAMPLING\n",
    "#     smote = SMOTE(random_state=42)\n",
    "\n",
    "#     # Resample the training data using SMOTE\n",
    "#     X_train, y_train = smote.fit_resample(X_train, y_train)\n",
    "#     # print(y_train['lag_Contains14 0'].values_count())\n",
    "#     print(y_train.value_counts())\n",
    "    \n",
    "#     # UNDERSAMPLE\n",
    "#     # Define the RandomUnderSampler object\n",
    "#     rus = RandomUnderSampler(sampling_strategy=1, random_state=42)\n",
    "\n",
    "#     # Perform undersampling on the training data\n",
    "#     X_train, y_train = rus.fit_resample(X_train, y_train)\n",
    "#     print(y_train.value_counts())\n",
    "\n",
    "    \n",
    "    \n",
    "    \n",
    "    \n",
    "    # Train the model\n",
    "    model_instance.fit(X_train, y_train)\n",
    "    # model_instance.fit(X_train[selected_features], y_train)\n",
    "    # X_train = X_train[selected_features]\n",
    "    # X_test = X_test[selected_features]\n",
    "    \n",
    "#     GLM\n",
    "#     X_train = sm.add_constant(X_train)  # Add a constant term to the feature matrix\n",
    "#     poisson_model = sm.GLM(y_train, X_train, family=sm.families.Poisson())\n",
    "#     poisson_results = poisson_model.fit()\n",
    "\n",
    "#     # Print the model summary\n",
    "#     # print(poisson_results.summary())\n",
    "\n",
    "#     # Predict on the test set\n",
    "#     X_test = sm.add_constant(X_test)  # Add a constant term to the test feature matrix\n",
    "#     predicted_counts = poisson_results.predict(X_test)\n",
    "\n",
    "#     # Evaluate the model (example: calculate mean squared error)\n",
    "#     mse = np.mean((y_test - predicted_counts) ** 2)\n",
    "#     print(\"Mean Squared Error:\", mse)\n",
    "    \n",
    "    \n",
    "#     # Assuming you have the observed counts and predicted counts from the previous code example\n",
    "\n",
    "#     observed_counts = y_test\n",
    "#     predicted_counts = poisson_results.predict(X_test)\n",
    "\n",
    "#     # Round the predicted counts to the nearest integer\n",
    "#     predicted_counts = np.round(predicted_counts)\n",
    "\n",
    "#     # Add a small constant value to the predicted counts to avoid zero expected frequencies\n",
    "#     epsilon = 1e-10\n",
    "#     predicted_counts_adjusted = predicted_counts + epsilon\n",
    "\n",
    "#     # Create a contingency table from the observed and adjusted predicted counts\n",
    "#     contingency_table = np.column_stack((observed_counts, predicted_counts_adjusted))\n",
    "\n",
    "#     # Perform the Chi-squared test\n",
    "#     _, p_value, _, expected_counts = chi2_contingency(contingency_table)\n",
    "\n",
    "#     # Print the results\n",
    "#     print(\"Chi-squared test results:\")\n",
    "#     print(\"Observed Counts:\", observed_counts)\n",
    "#     print(\"Predicted Counts:\", predicted_counts_adjusted)\n",
    "#     print(\"Expected Counts:\", expected_counts)\n",
    "#     print(\"p-value:\", p_value)\n",
    "\n",
    "\n",
    "\n",
    "    return model_instance, X_train, X_test, y_train, y_test\n",
    "\n",
    "def predict_risk(input_data, model):\n",
    "    # Preprocess input data\n",
    "    input_data = pd.DataFrame(input_data, columns=['lag_GoldsteinScale ' + str(n_past), 'lag_QuadClass ' + str(n_past), \n",
    "                                                   'country_code_encoded'])\n",
    "    # input_data = imputer.transform(input_data)\n",
    "\n",
    "    # Make prediction\n",
    "    risk_prediction = model.predict(input_data)\n",
    "\n",
    "    return risk_prediction\n",
    "\n",
    "\n",
    "def calculate_metrics(y_train, y_train_pred, y_test, y_test_pred):\n",
    "    train_accuracy = accuracy_score(y_train, y_train_pred)\n",
    "    test_accuracy = accuracy_score(y_test, y_test_pred)\n",
    "\n",
    "    train_precision = precision_score(y_train, y_train_pred, average='macro')\n",
    "    test_precision = precision_score(y_test, y_test_pred, average='macro')\n",
    "\n",
    "    train_recall = recall_score(y_train, y_train_pred, average='macro')\n",
    "    test_recall = recall_score(y_test, y_test_pred, average='macro')\n",
    "\n",
    "    train_f1 = f1_score(y_train, y_train_pred, average='macro')\n",
    "    test_f1 = f1_score(y_test, y_test_pred, average='macro')\n",
    "    \n",
    "    metrics_df = pd.DataFrame({\n",
    "        'Metric': ['Accuracy', 'Precision', 'Recall', 'F1-score'],\n",
    "        'Train': [train_accuracy, train_precision, train_recall, train_f1],\n",
    "        'Test': [test_accuracy, test_precision, test_recall, test_f1]})\n",
    "\n",
    "    return metrics_df\n",
    "\n",
    "def preprocess_input(input_data):\n",
    "    global label_encoder_country  # Ensure we use the same global label encoder\n",
    "    # global label_encoder_date  \n",
    "    \n",
    "    input_data['country_code_encoded'] = label_encoder_country.transform(input_data['ActionGeo_CountryCode'])\n",
    "    # input_data['date_encoded'] = label_encoder.transform(input_data['SQLDATE'])\n",
    "    input_data = pd.DataFrame(input_data, columns=['lag_GoldsteinScale ' + str(n_past), 'lag_QuadClass ' + str(n_past), \n",
    "                                                   'country_code_encoded'])\n",
    "    # input_data.drop('country_code', axis=1, inplace=True)\n",
    "    return input_data\n",
    "\n",
    "# Example usage\n",
    "df_train = df_multi_country_date.copy()\n",
    "# df_train = downsampled_df.copy()\n",
    "\n",
    "\n",
    "\n",
    "\n",
    "\n",
    "\n",
    "# Train the model\n",
    "model, X_train, X_test, y_train, y_test = train_model(df_train, model_instance)\n",
    "\n",
    "# print(X_train.head())\n",
    "# print(X_test.head())\n",
    "\n",
    "# print(y_test.isna().sum())\n",
    "\n",
    "# Example usage\n",
    "# Example usage\n",
    "# country_code = 'FR'\n",
    "# # sqldate \n",
    "# input_data = {\n",
    "#     'lag_GoldsteinScale ' + str(n_past): [10],\n",
    "#     'lag_QuadClass ' + str(n_past): [1],\n",
    "#     'ActionGeo_CountryCode': [country_code]\n",
    "#     # 'SQLDATE': [sqldate]\n",
    "    \n",
    "# }\n",
    "\n",
    "# # Preprocess the input data\n",
    "# input_data_transformed = preprocess_input(input_data)\n",
    "# # print(input_data_transformed.head())\n",
    "\n",
    "# prediction = predict_risk(input_data_transformed, model)\n",
    "# print(f\"Risk prediction for country {country_code}: {prediction}\")\n",
    "\n",
    "# Calculate and print model metrics\n",
    "y_train_pred = model.predict(X_train)\n",
    "y_test_pred = model.predict(X_test)\n",
    "\n",
    "\n",
    "\n",
    "metrics_df = calculate_metrics(y_train, y_train_pred, y_test, y_test_pred)\n",
    "\n",
    "\n",
    "print(metrics_df)\n",
    "\n",
    "# print(f\"Train Accuracy: {train_accuracy:.4f}\")\n",
    "# print(f\"Test Accuracy: {test_accuracy:.4f}\")\n",
    "\n",
    "# print(f\"Train Precision: {train_precision:.4f}\")\n",
    "# print(f\"Test Precision: {test_precision:.4f}\")\n",
    "\n",
    "# print(f\"Train Recall: {train_recall:.4f}\")\n",
    "# print(f\"Test Recall: {test_recall:.4f}\")\n",
    "\n",
    "# print(f\"Train F1-score: {train_f1:.4f}\")\n",
    "# print(f\"Test F1-score: {test_f1:.4f}\")\n",
    "\n",
    "\n",
    " # Plot the confusion matrix\n",
    "cm = confusion_matrix(y_test, y_test_pred)\n",
    "\n",
    "plt.figure(figsize=(6, 4))\n",
    "sns.heatmap(cm, annot=True, fmt='d', cmap='Blues')\n",
    "plt.title('Confusion Matrix')\n",
    "plt.xlabel('Predicted Label')\n",
    "plt.ylabel('True Label')\n",
    "plt.show()"
   ]
  },
  {
   "cell_type": "markdown",
   "id": "fc7de723-0458-40fc-8a1c-77625c1f604e",
   "metadata": {},
   "source": [
    "Feature extraction for catboost"
   ]
  },
  {
   "cell_type": "code",
   "execution_count": 322,
   "id": "9d53bb65-6efb-4ee9-a132-990d1e08ce91",
   "metadata": {
    "tags": []
   },
   "outputs": [
    {
     "data": {
      "image/png": "[encoded data removed]",
      "text/plain": [
       "<Figure size 1000x600 with 1 Axes>"
      ]
     },
     "metadata": {},
     "output_type": "display_data"
    }
   ],
   "source": [
    "# Get feature importance\n",
    "feature_importance = model.get_feature_importance()\n",
    "\n",
    "# Get feature names\n",
    "feature_names = X_train.columns\n",
    "\n",
    "# Create a dataframe for feature importance\n",
    "feature_importance_df = pd.DataFrame({'Feature': feature_names, 'Importance': feature_importance})\n",
    "\n",
    "# Sort the dataframe by importance values\n",
    "feature_importance_df = feature_importance_df.sort_values('Importance', ascending=False)\n",
    "\n",
    "# Plot the feature importance\n",
    "plt.figure(figsize=(10, 6))\n",
    "sns.barplot(x='Importance', y='Feature', data=feature_importance_df.head(10))\n",
    "plt.title('Feature Importance')\n",
    "plt.xlabel('Importance')\n",
    "plt.ylabel('Feature')\n",
    "plt.show()\n"
   ]
  },
  {
   "cell_type": "markdown",
   "id": "2eeb8d88-1114-476e-9114-51d0d31b8334",
   "metadata": {},
   "source": [
    "Feature extraction for random forest"
   ]
  },
  {
   "cell_type": "code",
   "execution_count": 73,
   "id": "e3a831ad-3744-4ef0-8571-126369e75671",
   "metadata": {},
   "outputs": [
    {
     "name": "stdout",
     "output_type": "stream",
     "text": [
      "                  Feature  Importance\n",
      "2             NumMentions    0.129150\n",
      "4              Contains14    0.106838\n",
      "1             NumArticles    0.090927\n",
      "0                 AvgTone    0.079974\n",
      "110            DayOfMonth    0.060604\n",
      "..                    ...         ...\n",
      "66      lag_Contains14_59    0.001631\n",
      "21      lag_Contains14_14    0.001527\n",
      "13       lag_Contains14_6    0.001462\n",
      "3           Contains14sub    0.000000\n",
      "5    country_code_encoded    0.000000\n",
      "\n",
      "[111 rows x 2 columns]\n"
     ]
    }
   ],
   "source": [
    "\n",
    "# Get feature names\n",
    "feature_names = X_train.columns\n",
    "# random forest feature importance\n",
    "# Create a DataFrame to store feature importance\n",
    "feature_importance = pd.DataFrame({'Feature': feature_names, 'Importance': model.feature_importances_})\n",
    "\n",
    "# Sort the DataFrame by importance\n",
    "feature_importance = feature_importance.sort_values(by='Importance', ascending=False)\n",
    "\n",
    "# Print the feature importance\n",
    "print(feature_importance)"
   ]
  },
  {
   "cell_type": "markdown",
   "id": "9e906e05-6f5b-48a9-9283-d795ac565688",
   "metadata": {
    "jp-MarkdownHeadingCollapsed": true,
    "tags": []
   },
   "source": [
    "# Saving files"
   ]
  },
  {
   "cell_type": "code",
   "execution_count": 252,
   "id": "35a5fc66-05a1-4e3d-bba3-7fbf9fffa763",
   "metadata": {},
   "outputs": [],
   "source": [
    "import os\n",
    "\n",
    "# Specify the file name\n",
    "file_name = 'randomforest_lookback_10_forward_1.csv'\n",
    "\n",
    "# Specify the file path in the current working directory\n",
    "file_path = os.path.join('/home/jupyter/gdelt/reports/results', file_name)\n",
    "\n",
    "# Save the DataFrame as a CSV file\n",
    "metrics_df.to_csv(file_path, index=False)\n"
   ]
  },
  {
   "cell_type": "code",
   "execution_count": 253,
   "id": "cd22cd2b-2e20-4b37-983f-fa867b6fc74b",
   "metadata": {},
   "outputs": [
    {
     "data": {
      "text/plain": [
       "['/home/jupyter/gdelt/models/random_forest_lookback_10_forward_1.joblib']"
      ]
     },
     "execution_count": 253,
     "metadata": {},
     "output_type": "execute_result"
    }
   ],
   "source": [
    "# Save the trained model\n",
    "file_name = 'random_forest_lookback_10_forward_1.joblib'\n",
    "\n",
    "# Specify the file path in the current working directory\n",
    "file_path = os.path.join('/home/jupyter/gdelt/models', file_name)\n",
    "joblib.dump(model, file_path)\n"
   ]
  },
  {
   "cell_type": "code",
   "execution_count": null,
   "id": "1728d510-5aff-4863-9934-8302330cff1e",
   "metadata": {},
   "outputs": [],
   "source": [
    "# # Load the saved model\n",
    "# loaded_model = joblib.load(file_path)\n",
    "# y_train_pred = loaded_model.predict(X_train)"
   ]
  },
  {
   "cell_type": "code",
   "execution_count": null,
   "id": "d28256e3-769b-4a0f-9aed-dc2bd8b5846d",
   "metadata": {
    "tags": []
   },
   "outputs": [],
   "source": [
    "datatata = preprocess_data(df)\n",
    "datatata.isna().sum()"
   ]
  }
 ],
 "metadata": {
  "environment": {
   "kernel": "python3",
   "name": "common-cpu.m108",
   "type": "gcloud",
   "uri": "gcr.io/deeplearning-platform-release/base-cpu:m108"
  },
  "kernelspec": {
   "display_name": "Python 3",
   "language": "python",
   "name": "python3"
  },
  "language_info": {
   "codemirror_mode": {
    "name": "ipython",
    "version": 3
   },
   "file_extension": ".py",
   "mimetype": "text/x-python",
   "name": "python",
   "nbconvert_exporter": "python",
   "pygments_lexer": "ipython3",
   "version": "3.10.10"
  }
 },
 "nbformat": 4,
 "nbformat_minor": 5
}
